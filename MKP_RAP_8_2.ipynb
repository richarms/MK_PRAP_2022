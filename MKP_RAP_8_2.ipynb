{
 "cells": [
  {
   "cell_type": "markdown",
   "metadata": {
    "id": "DUsC2Di3VfeL"
   },
   "source": [
    "# MeerKAT Proposal Reviewer Allocation Problem\n",
    "\n",
    "Richard Armstrong \n",
    "June 2022\n",
    "\n",
    "Solve the Reviewer Assignment Problem for a set of MeerKAT Proposals\n",
    "\n",
    "REQUIREMENTS\n",
    "* Reviewers must have between 10 and 20 proposals to review \n",
    "* Some reviewers have requested a maximum of 10 proposals\n",
    "* Proposals are reviewed 4 times each (`coverage`)\n",
    "* Must exclude reviewers from reviewing proposals they are involved in"
   ]
  },
  {
   "cell_type": "code",
   "execution_count": 1,
   "metadata": {
    "id": "dmf7jADSVfeP"
   },
   "outputs": [],
   "source": [
    "#!pip install --upgrade pip\n",
    "#!pip install numpy matplotlib pandas openpyxl cvxopt"
   ]
  },
  {
   "cell_type": "code",
   "execution_count": 2,
   "metadata": {
    "id": "Xa_XtsqLVfeQ"
   },
   "outputs": [],
   "source": [
    "import numpy as np\n",
    "import pandas as pd\n",
    "\n",
    "import matplotlib\n",
    "import matplotlib.pyplot as plt\n",
    "import matplotlib.pylab as pylab\n",
    "\n",
    "from numpy import genfromtxt\n",
    "\n",
    "%matplotlib inline \n",
    "pylab.rcParams['figure.figsize'] = 9, 6"
   ]
  },
  {
   "cell_type": "code",
   "execution_count": null,
   "metadata": {
    "id": "5lr4i7-BVzNI"
   },
   "outputs": [],
   "source": []
  },
  {
   "cell_type": "code",
   "execution_count": 3,
   "metadata": {
    "id": "WVHGBfFsVfeR"
   },
   "outputs": [],
   "source": [
    "coverage = 4   # Number of reviews per proposal\n",
    "lower_bound_reviewer_load = 10 # Minimum number of reviews per reviewer"
   ]
  },
  {
   "cell_type": "markdown",
   "metadata": {
    "id": "iw_KCEa4VfeS"
   },
   "source": [
    "## Load Data"
   ]
  },
  {
   "cell_type": "code",
   "execution_count": 4,
   "metadata": {
    "colab": {
     "base_uri": "https://localhost:8080/",
     "height": 424
    },
    "id": "NSoVQv1RVfeS",
    "outputId": "5035f1ab-ff75-42bf-844a-20211151cf19"
   },
   "outputs": [
    {
     "data": {
      "text/html": [
       "<div>\n",
       "<style scoped>\n",
       "    .dataframe tbody tr th:only-of-type {\n",
       "        vertical-align: middle;\n",
       "    }\n",
       "\n",
       "    .dataframe tbody tr th {\n",
       "        vertical-align: top;\n",
       "    }\n",
       "\n",
       "    .dataframe thead th {\n",
       "        text-align: right;\n",
       "    }\n",
       "</style>\n",
       "<table border=\"1\" class=\"dataframe\">\n",
       "  <thead>\n",
       "    <tr style=\"text-align: right;\">\n",
       "      <th></th>\n",
       "      <th>PSS ID</th>\n",
       "      <th>CATEGORY LIST</th>\n",
       "      <th>Category_List</th>\n",
       "    </tr>\n",
       "  </thead>\n",
       "  <tbody>\n",
       "    <tr>\n",
       "      <th>0</th>\n",
       "      <td>MKT-22003</td>\n",
       "      <td>[11]</td>\n",
       "      <td>[11]</td>\n",
       "    </tr>\n",
       "    <tr>\n",
       "      <th>1</th>\n",
       "      <td>MKT-22004</td>\n",
       "      <td>[3,7]</td>\n",
       "      <td>[3, 7]</td>\n",
       "    </tr>\n",
       "    <tr>\n",
       "      <th>2</th>\n",
       "      <td>MKT-22005</td>\n",
       "      <td>[3,4]</td>\n",
       "      <td>[3, 4]</td>\n",
       "    </tr>\n",
       "    <tr>\n",
       "      <th>3</th>\n",
       "      <td>MKT-22006</td>\n",
       "      <td>[4]</td>\n",
       "      <td>[4]</td>\n",
       "    </tr>\n",
       "    <tr>\n",
       "      <th>4</th>\n",
       "      <td>MKT-22007</td>\n",
       "      <td>[4,6]</td>\n",
       "      <td>[4, 6]</td>\n",
       "    </tr>\n",
       "    <tr>\n",
       "      <th>...</th>\n",
       "      <td>...</td>\n",
       "      <td>...</td>\n",
       "      <td>...</td>\n",
       "    </tr>\n",
       "    <tr>\n",
       "      <th>127</th>\n",
       "      <td>MKT-22155</td>\n",
       "      <td>[11]</td>\n",
       "      <td>[11]</td>\n",
       "    </tr>\n",
       "    <tr>\n",
       "      <th>128</th>\n",
       "      <td>MKT-22158</td>\n",
       "      <td>[2,4,6]</td>\n",
       "      <td>[2, 4, 6]</td>\n",
       "    </tr>\n",
       "    <tr>\n",
       "      <th>129</th>\n",
       "      <td>MKT-22159</td>\n",
       "      <td>[2,4,5]</td>\n",
       "      <td>[2, 4, 5]</td>\n",
       "    </tr>\n",
       "    <tr>\n",
       "      <th>130</th>\n",
       "      <td>MKT-22160</td>\n",
       "      <td>[10]</td>\n",
       "      <td>[10]</td>\n",
       "    </tr>\n",
       "    <tr>\n",
       "      <th>131</th>\n",
       "      <td>MKT-22161</td>\n",
       "      <td>[9,13]</td>\n",
       "      <td>[9, 13]</td>\n",
       "    </tr>\n",
       "  </tbody>\n",
       "</table>\n",
       "<p>132 rows × 3 columns</p>\n",
       "</div>"
      ],
      "text/plain": [
       "        PSS ID CATEGORY LIST Category_List\n",
       "0    MKT-22003          [11]          [11]\n",
       "1    MKT-22004         [3,7]        [3, 7]\n",
       "2    MKT-22005         [3,4]        [3, 4]\n",
       "3    MKT-22006           [4]           [4]\n",
       "4    MKT-22007         [4,6]        [4, 6]\n",
       "..         ...           ...           ...\n",
       "127  MKT-22155          [11]          [11]\n",
       "128  MKT-22158       [2,4,6]     [2, 4, 6]\n",
       "129  MKT-22159       [2,4,5]     [2, 4, 5]\n",
       "130  MKT-22160          [10]          [10]\n",
       "131  MKT-22161        [9,13]       [9, 13]\n",
       "\n",
       "[132 rows x 3 columns]"
      ]
     },
     "execution_count": 4,
     "metadata": {},
     "output_type": "execute_result"
    }
   ],
   "source": [
    "# load the list of proposals and their categories into a dataframe\n",
    "df_cat = pd.read_csv('proposal_scientific_categories_MKT-22.csv', sep=';')\n",
    "df_cat['Category_List'] = df_cat['CATEGORY LIST'].apply(lambda x: eval(x))\n",
    "n_p = n_proposals = len(df_cat)\n",
    "df_cat"
   ]
  },
  {
   "cell_type": "code",
   "execution_count": 5,
   "metadata": {
    "colab": {
     "base_uri": "https://localhost:8080/",
     "height": 833
    },
    "id": "aF5LWYz5VfeT",
    "outputId": "2ae9034b-b8a3-4c02-84c1-2984d1fad33b"
   },
   "outputs": [
    {
     "data": {
      "text/html": [
       "<div>\n",
       "<style scoped>\n",
       "    .dataframe tbody tr th:only-of-type {\n",
       "        vertical-align: middle;\n",
       "    }\n",
       "\n",
       "    .dataframe tbody tr th {\n",
       "        vertical-align: top;\n",
       "    }\n",
       "\n",
       "    .dataframe thead th {\n",
       "        text-align: right;\n",
       "    }\n",
       "</style>\n",
       "<table border=\"1\" class=\"dataframe\">\n",
       "  <thead>\n",
       "    <tr style=\"text-align: right;\">\n",
       "      <th></th>\n",
       "      <th>ID</th>\n",
       "      <th>PROPOSAL LIST</th>\n",
       "      <th>Proposals</th>\n",
       "    </tr>\n",
       "  </thead>\n",
       "  <tbody>\n",
       "    <tr>\n",
       "      <th>0</th>\n",
       "      <td>6</td>\n",
       "      <td>[MKT-22087]</td>\n",
       "      <td>[MKT-22087]</td>\n",
       "    </tr>\n",
       "    <tr>\n",
       "      <th>1</th>\n",
       "      <td>7</td>\n",
       "      <td>[MKT-22043,MKT-22054]</td>\n",
       "      <td>[MKT-22043, MKT-22054]</td>\n",
       "    </tr>\n",
       "    <tr>\n",
       "      <th>2</th>\n",
       "      <td>9</td>\n",
       "      <td>[MKT-22009]</td>\n",
       "      <td>[MKT-22009]</td>\n",
       "    </tr>\n",
       "    <tr>\n",
       "      <th>3</th>\n",
       "      <td>10</td>\n",
       "      <td>[MKT-22064,MKT-22065]</td>\n",
       "      <td>[MKT-22064, MKT-22065]</td>\n",
       "    </tr>\n",
       "    <tr>\n",
       "      <th>4</th>\n",
       "      <td>12</td>\n",
       "      <td>[MKT-22004,MKT-22029,MKT-22032,MKT-22059,MKT-2...</td>\n",
       "      <td>[MKT-22004, MKT-22029, MKT-22032, MKT-22059, M...</td>\n",
       "    </tr>\n",
       "    <tr>\n",
       "      <th>5</th>\n",
       "      <td>14</td>\n",
       "      <td>[MKT-22084]</td>\n",
       "      <td>[MKT-22084]</td>\n",
       "    </tr>\n",
       "    <tr>\n",
       "      <th>6</th>\n",
       "      <td>15</td>\n",
       "      <td>[MKT-22005,MKT-22137]</td>\n",
       "      <td>[MKT-22005, MKT-22137]</td>\n",
       "    </tr>\n",
       "    <tr>\n",
       "      <th>7</th>\n",
       "      <td>17</td>\n",
       "      <td>[MKT-22081]</td>\n",
       "      <td>[MKT-22081]</td>\n",
       "    </tr>\n",
       "    <tr>\n",
       "      <th>8</th>\n",
       "      <td>21</td>\n",
       "      <td>[MKT-22051,MKT-22079,MKT-22100,MKT-22121]</td>\n",
       "      <td>[MKT-22051, MKT-22079, MKT-22100, MKT-22121]</td>\n",
       "    </tr>\n",
       "    <tr>\n",
       "      <th>9</th>\n",
       "      <td>26</td>\n",
       "      <td>[MKT-22013,MKT-22137]</td>\n",
       "      <td>[MKT-22013, MKT-22137]</td>\n",
       "    </tr>\n",
       "    <tr>\n",
       "      <th>10</th>\n",
       "      <td>27</td>\n",
       "      <td>[MKT-22020,MKT-22025,MKT-22091]</td>\n",
       "      <td>[MKT-22020, MKT-22025, MKT-22091]</td>\n",
       "    </tr>\n",
       "    <tr>\n",
       "      <th>11</th>\n",
       "      <td>28</td>\n",
       "      <td>[MKT-22065,MKT-22103,MKT-22117]</td>\n",
       "      <td>[MKT-22065, MKT-22103, MKT-22117]</td>\n",
       "    </tr>\n",
       "    <tr>\n",
       "      <th>12</th>\n",
       "      <td>29</td>\n",
       "      <td>[MKT-22051]</td>\n",
       "      <td>[MKT-22051]</td>\n",
       "    </tr>\n",
       "    <tr>\n",
       "      <th>13</th>\n",
       "      <td>31</td>\n",
       "      <td>[MKT-22033]</td>\n",
       "      <td>[MKT-22033]</td>\n",
       "    </tr>\n",
       "    <tr>\n",
       "      <th>14</th>\n",
       "      <td>32</td>\n",
       "      <td>[MKT-22087]</td>\n",
       "      <td>[MKT-22087]</td>\n",
       "    </tr>\n",
       "    <tr>\n",
       "      <th>15</th>\n",
       "      <td>33</td>\n",
       "      <td>[MKT-22025,MKT-22091]</td>\n",
       "      <td>[MKT-22025, MKT-22091]</td>\n",
       "    </tr>\n",
       "    <tr>\n",
       "      <th>16</th>\n",
       "      <td>35</td>\n",
       "      <td>[MKT-22034,MKT-22147]</td>\n",
       "      <td>[MKT-22034, MKT-22147]</td>\n",
       "    </tr>\n",
       "    <tr>\n",
       "      <th>17</th>\n",
       "      <td>36</td>\n",
       "      <td>[MKT-22087,MKT-22137,MKT-22139]</td>\n",
       "      <td>[MKT-22087, MKT-22137, MKT-22139]</td>\n",
       "    </tr>\n",
       "    <tr>\n",
       "      <th>18</th>\n",
       "      <td>37</td>\n",
       "      <td>[MKT-22045,MKT-22074,MKT-22087,MKT-22111,MKT-2...</td>\n",
       "      <td>[MKT-22045, MKT-22074, MKT-22087, MKT-22111, M...</td>\n",
       "    </tr>\n",
       "    <tr>\n",
       "      <th>19</th>\n",
       "      <td>38</td>\n",
       "      <td>[MKT-22008,MKT-22009,MKT-22025,MKT-22029,MKT-2...</td>\n",
       "      <td>[MKT-22008, MKT-22009, MKT-22025, MKT-22029, M...</td>\n",
       "    </tr>\n",
       "    <tr>\n",
       "      <th>20</th>\n",
       "      <td>39</td>\n",
       "      <td>[MKT-22135]</td>\n",
       "      <td>[MKT-22135]</td>\n",
       "    </tr>\n",
       "    <tr>\n",
       "      <th>21</th>\n",
       "      <td>40</td>\n",
       "      <td>[MKT-22155]</td>\n",
       "      <td>[MKT-22155]</td>\n",
       "    </tr>\n",
       "    <tr>\n",
       "      <th>22</th>\n",
       "      <td>41</td>\n",
       "      <td>[MKT-22012,MKT-22074,MKT-22103]</td>\n",
       "      <td>[MKT-22012, MKT-22074, MKT-22103]</td>\n",
       "    </tr>\n",
       "    <tr>\n",
       "      <th>23</th>\n",
       "      <td>43</td>\n",
       "      <td>[MKT-22007]</td>\n",
       "      <td>[MKT-22007]</td>\n",
       "    </tr>\n",
       "    <tr>\n",
       "      <th>24</th>\n",
       "      <td>45</td>\n",
       "      <td>[MKT-22013]</td>\n",
       "      <td>[MKT-22013]</td>\n",
       "    </tr>\n",
       "  </tbody>\n",
       "</table>\n",
       "</div>"
      ],
      "text/plain": [
       "    ID                                      PROPOSAL LIST  \\\n",
       "0    6                                        [MKT-22087]   \n",
       "1    7                              [MKT-22043,MKT-22054]   \n",
       "2    9                                        [MKT-22009]   \n",
       "3   10                              [MKT-22064,MKT-22065]   \n",
       "4   12  [MKT-22004,MKT-22029,MKT-22032,MKT-22059,MKT-2...   \n",
       "5   14                                        [MKT-22084]   \n",
       "6   15                              [MKT-22005,MKT-22137]   \n",
       "7   17                                        [MKT-22081]   \n",
       "8   21          [MKT-22051,MKT-22079,MKT-22100,MKT-22121]   \n",
       "9   26                              [MKT-22013,MKT-22137]   \n",
       "10  27                    [MKT-22020,MKT-22025,MKT-22091]   \n",
       "11  28                    [MKT-22065,MKT-22103,MKT-22117]   \n",
       "12  29                                        [MKT-22051]   \n",
       "13  31                                        [MKT-22033]   \n",
       "14  32                                        [MKT-22087]   \n",
       "15  33                              [MKT-22025,MKT-22091]   \n",
       "16  35                              [MKT-22034,MKT-22147]   \n",
       "17  36                    [MKT-22087,MKT-22137,MKT-22139]   \n",
       "18  37  [MKT-22045,MKT-22074,MKT-22087,MKT-22111,MKT-2...   \n",
       "19  38  [MKT-22008,MKT-22009,MKT-22025,MKT-22029,MKT-2...   \n",
       "20  39                                        [MKT-22135]   \n",
       "21  40                                        [MKT-22155]   \n",
       "22  41                    [MKT-22012,MKT-22074,MKT-22103]   \n",
       "23  43                                        [MKT-22007]   \n",
       "24  45                                        [MKT-22013]   \n",
       "\n",
       "                                            Proposals  \n",
       "0                                         [MKT-22087]  \n",
       "1                              [MKT-22043, MKT-22054]  \n",
       "2                                         [MKT-22009]  \n",
       "3                              [MKT-22064, MKT-22065]  \n",
       "4   [MKT-22004, MKT-22029, MKT-22032, MKT-22059, M...  \n",
       "5                                         [MKT-22084]  \n",
       "6                              [MKT-22005, MKT-22137]  \n",
       "7                                         [MKT-22081]  \n",
       "8        [MKT-22051, MKT-22079, MKT-22100, MKT-22121]  \n",
       "9                              [MKT-22013, MKT-22137]  \n",
       "10                  [MKT-22020, MKT-22025, MKT-22091]  \n",
       "11                  [MKT-22065, MKT-22103, MKT-22117]  \n",
       "12                                        [MKT-22051]  \n",
       "13                                        [MKT-22033]  \n",
       "14                                        [MKT-22087]  \n",
       "15                             [MKT-22025, MKT-22091]  \n",
       "16                             [MKT-22034, MKT-22147]  \n",
       "17                  [MKT-22087, MKT-22137, MKT-22139]  \n",
       "18  [MKT-22045, MKT-22074, MKT-22087, MKT-22111, M...  \n",
       "19  [MKT-22008, MKT-22009, MKT-22025, MKT-22029, M...  \n",
       "20                                        [MKT-22135]  \n",
       "21                                        [MKT-22155]  \n",
       "22                  [MKT-22012, MKT-22074, MKT-22103]  \n",
       "23                                        [MKT-22007]  \n",
       "24                                        [MKT-22013]  "
      ]
     },
     "execution_count": 5,
     "metadata": {},
     "output_type": "execute_result"
    }
   ],
   "source": [
    "# load the reviewer conflict dataframe\n",
    "df_conflict = pd.read_csv('science_cross_check_MKT-22.csv', sep=';')\n",
    "df_conflict['Proposals'] = df_conflict['PROPOSAL LIST'].apply(lambda x: x.strip('][').split(','))\n",
    "df_conflict.head(25)"
   ]
  },
  {
   "cell_type": "code",
   "execution_count": 148,
   "metadata": {},
   "outputs": [
    {
     "data": {
      "text/plain": [
       "array([1., 1., 1., 1., 0., 1., 0., 0., 0., 1., 1., 1., 1., 1., 0., 1., 1.,\n",
       "       1., 1., 1., 0., 1., 1., 1., 0., 1., 0., 1., 0., 1., 0., 1., 0., 1.,\n",
       "       1., 0., 1., 0., 0., 1., 0., 0., 1., 1., 1., 1., 1.])"
      ]
     },
     "execution_count": 148,
     "metadata": {},
     "output_type": "execute_result"
    }
   ],
   "source": [
    "roe = np.genfromtxt('reviewer_observation_expertise_MKT-22.csv', delimiter=',', skip_header=1)\n",
    "poc = np.genfromtxt('proposal_observation_categories_MKT-22.csv', delimiter=',',skip_header=1)\n",
    "#roe, poc\n",
    "\n",
    "roe[:,1]"
   ]
  },
  {
   "cell_type": "code",
   "execution_count": 150,
   "metadata": {
    "colab": {
     "base_uri": "https://localhost:8080/",
     "height": 677
    },
    "id": "ujpk5P-oVfeU",
    "outputId": "e30e3400-ac79-4e6b-d9af-0c36db03c580"
   },
   "outputs": [
    {
     "data": {
      "text/plain": [
       "array([[ 2.,  4.,  1.],\n",
       "       [ 4.,  0.,  1.],\n",
       "       [ 6.,  0.,  1.],\n",
       "       [ 7.,  2.,  1.],\n",
       "       [ 9.,  0.,  0.],\n",
       "       [10.,  1.,  1.],\n",
       "       [12.,  2.,  0.],\n",
       "       [13.,  5.,  0.],\n",
       "       [14.,  1.,  0.],\n",
       "       [15.,  0.,  1.],\n",
       "       [17.,  1.,  1.],\n",
       "       [19.,  0.,  1.],\n",
       "       [21.,  0.,  1.],\n",
       "       [26.,  2.,  1.],\n",
       "       [27.,  1.,  0.],\n",
       "       [28.,  0.,  1.],\n",
       "       [29.,  0.,  1.],\n",
       "       [31.,  0.,  1.],\n",
       "       [32.,  2.,  1.],\n",
       "       [33.,  0.,  1.],\n",
       "       [34.,  0.,  0.],\n",
       "       [35.,  0.,  1.],\n",
       "       [36.,  0.,  1.],\n",
       "       [37.,  0.,  1.],\n",
       "       [38.,  0.,  0.],\n",
       "       [39.,  0.,  1.],\n",
       "       [40.,  6.,  0.],\n",
       "       [41.,  0.,  1.],\n",
       "       [42.,  2.,  0.],\n",
       "       [43.,  0.,  1.],\n",
       "       [44.,  0.,  0.],\n",
       "       [45.,  0.,  1.],\n",
       "       [46.,  0.,  0.],\n",
       "       [47.,  0.,  1.],\n",
       "       [48.,  0.,  1.],\n",
       "       [49.,  0.,  0.],\n",
       "       [50.,  1.,  1.],\n",
       "       [51.,  0.,  0.],\n",
       "       [52.,  0.,  0.],\n",
       "       [53.,  0.,  1.],\n",
       "       [54.,  0.,  0.],\n",
       "       [55.,  0.,  0.],\n",
       "       [56.,  1.,  1.],\n",
       "       [57.,  0.,  1.],\n",
       "       [58.,  0.,  1.],\n",
       "       [59.,  0.,  1.],\n",
       "       [61.,  1.,  1.]])"
      ]
     },
     "execution_count": 150,
     "metadata": {},
     "output_type": "execute_result"
    }
   ],
   "source": [
    "# load the self-identified reviewer competency scores per catagory into a dataframe\n",
    "\n",
    "df_rev_score = pd.read_csv('reviewer_scientific_expertise_MKT-22.csv')\n",
    "#df_rev_score.index = df_rev_score['REVIEWER ID']\n",
    "\n",
    "rev_score = genfromtxt('reviewer_scientific_expertise_MKT-22.csv', delimiter=',')\n",
    "\n",
    "# Create vector with max number of reviews per reviewer \n",
    "n_r = n_reviewers = len(df_rev_score)\n",
    "reviewers_props = 20*np.ones(n_r)\n",
    "#limit10_list = [28,29]\n",
    "#reviewers_props[limit10_list] = 10\n",
    "df_rev_score['N_max'] = reviewers_props  # Make column with max number of reviews for each reviewer\n",
    "\n",
    "scientific_categories = pd.read_csv('scientific_categories_MKT-22.csv')\n",
    "scientific_categories.index = scientific_categories['CATEGORY ID']\n",
    "\n",
    "df_rev_score.columns = ['CATEGORY ID',1,2,3,4,5,6,7,8,9,10,11,12,13,'N_max']\n",
    "\n",
    "og_rev_idx = np.array(df_rev_score['CATEGORY ID'])\n",
    "\n",
    "df_rev_score.head(21)\n",
    "np.column_stack((og_rev_idx, np.array(df_rev_score[11]), roe[:,1]))"
   ]
  },
  {
   "cell_type": "code",
   "execution_count": 7,
   "metadata": {
    "colab": {
     "base_uri": "https://localhost:8080/"
    },
    "id": "07NpDpH7VfeV",
    "outputId": "37440b4d-bf2c-42d5-c1a9-5238b96557d4"
   },
   "outputs": [
    {
     "name": "stdout",
     "output_type": "stream",
     "text": [
      "reviewers, proposals:  47 132\n"
     ]
    }
   ],
   "source": [
    "print('reviewers, proposals: ', n_r, n_p)"
   ]
  },
  {
   "cell_type": "code",
   "execution_count": null,
   "metadata": {
    "id": "D1iW0GkyVfeW"
   },
   "outputs": [],
   "source": []
  },
  {
   "cell_type": "markdown",
   "metadata": {
    "id": "Gy3sqQIjVfeW"
   },
   "source": [
    "## Derived Data Structures"
   ]
  },
  {
   "cell_type": "code",
   "execution_count": null,
   "metadata": {},
   "outputs": [],
   "source": []
  },
  {
   "cell_type": "code",
   "execution_count": 93,
   "metadata": {
    "colab": {
     "base_uri": "https://localhost:8080/"
    },
    "id": "KxQTc7tPVfeX",
    "outputId": "084e8a6d-48b0-4097-d631-8e1c8a5c9ecd"
   },
   "outputs": [
    {
     "name": "stdout",
     "output_type": "stream",
     "text": [
      "total number of conflicts in mask before:  0\n",
      "total number of conflicts in mask after:  89\n",
      "conflict_counter:  89\n",
      "sum of conflicts: 89\n"
     ]
    }
   ],
   "source": [
    "# create a binary numpy array(/mask) from the reviewer conflict dataframe: \n",
    "# i.e. set to 0 if conflict, else 1\n",
    "conflict_mask = np.ones((n_r, n_p))\n",
    "conflict_counter = 0\n",
    "print('total number of conflicts in mask before: ', conflict_mask.flatten().shape[0] - np.count_nonzero(conflict_mask))\n",
    "\n",
    "rev_idx = np.array(df_rev_score['CATEGORY ID'].index)\n",
    "\n",
    "for row_idx, row in df_conflict.iterrows():\n",
    "    rev_pos = int(*np.where(og_rev_idx==row[0]))\n",
    "    for col_idx, prop in enumerate(df_conflict['Proposals'][row_idx]):\n",
    "        prop_pos = df_cat[df_cat['PSS ID'] == prop].index[0]\n",
    "        #print(prop, col_idx, prop_pos, rev_pos)\n",
    "        conflict_mask[int(rev_pos)][prop_pos] = 0\n",
    "        conflict_counter+=1\n",
    "        \n",
    "print('total number of conflicts in mask after: ', conflict_mask.flatten().shape[0] - np.count_nonzero(conflict_mask))\n",
    "print('conflict_counter: ', conflict_counter)\n",
    "#print(conflict_mask[n_r-3], n_r-3, conflict_mask.shape)\n",
    "\n",
    "#print(f'number of conflicts for each reviewer: \\n{np.column_stack((og_rev_idx,n_p-np.sum(conflict_mask, axis=1))).astype(int)}')\n",
    "\n",
    "print(f'sum of conflicts: {int(np.sum(n_p-np.sum(conflict_mask, axis=1)))}')"
   ]
  },
  {
   "cell_type": "code",
   "execution_count": 9,
   "metadata": {
    "colab": {
     "base_uri": "https://localhost:8080/"
    },
    "id": "e-rkZ-6eVfeY",
    "outputId": "7d588994-0a96-4b61-ba5f-a31153a40752"
   },
   "outputs": [
    {
     "data": {
      "text/plain": [
       "(426, (13, 47))"
      ]
     },
     "execution_count": 9,
     "metadata": {},
     "output_type": "execute_result"
    }
   ],
   "source": [
    "# create a binary array (/mask) of reviewer expertise > .0\n",
    "zeroes_mask = np.where(np.array(df_rev_score.transpose()) > 0., 1, 0)[1:-1]\n",
    "np.count_nonzero(zeroes_mask), zeroes_mask.shape"
   ]
  },
  {
   "cell_type": "code",
   "execution_count": 10,
   "metadata": {
    "colab": {
     "base_uri": "https://localhost:8080/"
    },
    "id": "DrGZM0IaVfeY",
    "outputId": "06946014-9e61-4aee-bcfe-ce71fbdb1f9c"
   },
   "outputs": [
    {
     "data": {
      "text/plain": [
       "(426, 13, 47)"
      ]
     },
     "execution_count": 10,
     "metadata": {},
     "output_type": "execute_result"
    }
   ],
   "source": [
    "# create a numerical array of the reviewer scores dataframe\n",
    "rev_scores = np.array(df_rev_score.transpose())[1:-1]\n",
    "np.count_nonzero(rev_scores), rev_scores.shape[0], rev_scores.shape[1]\n"
   ]
  },
  {
   "cell_type": "code",
   "execution_count": 11,
   "metadata": {
    "colab": {
     "base_uri": "https://localhost:8080/"
    },
    "id": "P3HaBCvJVfeY",
    "outputId": "0140d5d9-de55-4014-f5ca-a07177bf3e90"
   },
   "outputs": [
    {
     "data": {
      "text/plain": [
       "127"
      ]
     },
     "execution_count": 11,
     "metadata": {},
     "output_type": "execute_result"
    }
   ],
   "source": [
    "#SCRATCH\n",
    "for row_idx, row in df_conflict.iterrows():\n",
    "    pass#print(row_idx, row)\n",
    "#df_conflict['Proposals']\n",
    "df_cat['PSS ID'].index\n",
    "\n",
    "df_conflict['Proposals'][1]\n",
    "prop = 'MKT-22155'#'MKT-22084'\n",
    "df_cat[df_cat['PSS ID'] == prop].index[0]\n",
    "#np.array(df_rev_score['CATEGORY ID'])\n",
    "#int(*np.where(og_rev_idx==59))"
   ]
  },
  {
   "cell_type": "code",
   "execution_count": null,
   "metadata": {
    "id": "NsG-C2JIVfeZ"
   },
   "outputs": [],
   "source": []
  },
  {
   "cell_type": "markdown",
   "metadata": {
    "id": "Ahk3F7SuVfeZ"
   },
   "source": [
    "## Plots"
   ]
  },
  {
   "cell_type": "code",
   "execution_count": 12,
   "metadata": {
    "colab": {
     "base_uri": "https://localhost:8080/",
     "height": 435
    },
    "id": "Ny9O_SEVVfeZ",
    "outputId": "e2e91339-496b-4b62-d331-a80c3087d464"
   },
   "outputs": [
    {
     "data": {
      "image/png": "[encoded data removed]",
      "text/plain": [
       "<Figure size 648x432 with 1 Axes>"
      ]
     },
     "metadata": {
      "needs_background": "light"
     },
     "output_type": "display_data"
    }
   ],
   "source": [
    "# Make a bar plot of all the proposal categories and numerical reviewer expertise \n",
    "\n",
    "all_topics_list = []\n",
    "all_topics_count = np.zeros(df_rev_score.transpose()[1:-1].shape[0])\n",
    "\n",
    "for idx, topic_set in enumerate(df_cat['Category_List']): # run through each proposal\n",
    "    #print(idx, topic_set)\n",
    "    for topic in topic_set: # run through each topic in each proposal\n",
    "        all_topics_count[topic-1] += 1 # add one to the demand per mention\n",
    "        #print(topic, df_rev_score[topic][1])\n",
    "        all_topics_list.append(topic)\n",
    "        \n",
    "fig, ax = plt.subplots()#figsize=(16,8))\n",
    "\n",
    "ax.bar(range(1, rev_scores.shape[0]+1), [row.sum() for row in rev_scores], alpha=0.7, label = 'reviewer expertise', color='b')\n",
    "ax.bar(range(1,rev_scores.shape[0]+1), all_topics_count, label = 'category demand', color = 'r', width=0.4)\n",
    "#ax.hist(np.array(all_topics_list), histtype='step', linewidth=3, align='mid', bins=1000, label = 'category demand')\n",
    "\n",
    "ax.yaxis.set_label_position(\"right\")\n",
    "ax.yaxis.tick_right()\n",
    "ax.bar(range(1,rev_scores.shape[0]+1), 5*10**2*np.array(all_topics_count)[0:13]/[row.sum() for row in rev_scores][0:13], width=0.2, label = 'relative stress', color='k')\n",
    "\n",
    "fig.legend()\n",
    "plt.xlabel('category label')\n",
    "plt.savefig('relative_stress.png')"
   ]
  },
  {
   "cell_type": "code",
   "execution_count": 13,
   "metadata": {
    "colab": {
     "base_uri": "https://localhost:8080/",
     "height": 435
    },
    "id": "F5yRA_srVfeZ",
    "outputId": "53a4d4a1-8a94-4c37-e2f5-ff132a9254c9"
   },
   "outputs": [
    {
     "data": {
      "image/png": "[encoded data removed]",
      "text/plain": [
       "<Figure size 648x432 with 1 Axes>"
      ]
     },
     "metadata": {
      "needs_background": "light"
     },
     "output_type": "display_data"
    }
   ],
   "source": [
    "# Make a bar plot of all the proposal categories and binary reviewer expertise \n",
    "    \n",
    "fig, ax = plt.subplots()\n",
    "ax.bar(range(1,14), [row.sum() for row in rev_scores], alpha=0.7, label = 'reviewer (total numerical) expertise', color='b')\n",
    "ax.bar(range(1, rev_scores.shape[0]+1), [row.sum() for row in zeroes_mask], label = 'reviewer \\'non-zeros\\'', color='c')\n",
    "ax.bar(range(1,rev_scores.shape[0]+1), all_topics_count, label = 'category demand', color = 'r', width=0.4)\n",
    "\n",
    "plt.xlabel('category label')\n",
    "fig.legend()\n",
    "plt.show()"
   ]
  },
  {
   "cell_type": "markdown",
   "metadata": {
    "id": "E0_4OeVVVfeZ"
   },
   "source": [
    "## Affinity Matrix"
   ]
  },
  {
   "cell_type": "code",
   "execution_count": 99,
   "metadata": {
    "colab": {
     "base_uri": "https://localhost:8080/",
     "height": 126
    },
    "id": "HsZ7yfvRVfea",
    "outputId": "c0fcfedb-c711-46ee-eb4d-6e93c0f89601"
   },
   "outputs": [
    {
     "name": "stdout",
     "output_type": "stream",
     "text": [
      "creation done (47, 132) zeros: 6204 of 6204\n",
      "set up affinities done (47, 132) zeros: 851 of 6204\n",
      "Obs cat done (47, 132) zeros: 1638 of 6204\n",
      "set conflicts done (47, 132) zeros: 1724 of 6204\n"
     ]
    },
    {
     "data": {
      "text/plain": [
       "\"\\n# apply a non-linear scaling to the affinity \\naffinity = affinity + np.where(affinity>0.3, 0.4, 0.)\\nprint('non_linear scaling done', affinity.shape, 'zeros:', affinity.flatten().shape[0] - np.count_nonzero(affinity), 'of', affinity.flatten().shape[0])\\n\""
      ]
     },
     "execution_count": 99,
     "metadata": {},
     "output_type": "execute_result"
    }
   ],
   "source": [
    "# ---------------\n",
    "# AFFINITY MATRIX\n",
    "# ---------------\n",
    "\n",
    "# create the affinity matrix\n",
    "affinity = np.zeros((len(df_rev_score),len(df_cat)))\n",
    "\n",
    "print('creation done', affinity.shape, 'zeros:', affinity.flatten().shape[0] - np.count_nonzero(affinity), 'of', affinity.flatten().shape[0])\n",
    "#affinity\n",
    "\n",
    "# set the affinity to the MAXimum of ANY keyword\n",
    "max = 0\n",
    "for row_idx, row in enumerate(affinity):\n",
    "    #print(row_idx, row)\n",
    "    #for cell_idx, cell in enumerate(row):\n",
    "    for cell_idx, topic_set in enumerate(df_cat['Category_List']):\n",
    "        #print(topic_set, cell_idx)\n",
    "        for topic in topic_set:\n",
    "            #print(topic)\n",
    "            max = np.maximum(max, rev_scores[topic-1][row_idx])\n",
    "            #if ((topic != 14) and (topic != 15)): \n",
    "                #max = np.maximum(max, df_rev_score[topic][row_idx+1])\n",
    "            # NOTE only consider the 13 subject categories \n",
    "        affinity[row_idx, cell_idx] = max/10 # normalise to between 0 and 1\n",
    "        max=0\n",
    "        \n",
    "print('set up affinities done', affinity.shape, 'zeros:', affinity.flatten().shape[0] - np.count_nonzero(affinity), 'of', affinity.flatten().shape[0])\n",
    "\n",
    "#-----------        \n",
    "     \n",
    "# Set constraints in the affinity matrix :\n",
    "# i.e. 1. Maximum over observation categories \n",
    "#      2. Make sure there are not zeros in EVERY category, \n",
    "#      3. reviewer/proposal conflicts (science_cross_check)\n",
    "# by setting affinity to 0 (which is actually a soft constraint, but wusually suffices)\n",
    "\n",
    "# Observation Category\n",
    "rev_obs_exp = np.genfromtxt('reviewer_observation_expertise_MKT-22.csv', delimiter=',', skip_header=1)\n",
    "prop_obs_cat = np.genfromtxt('proposal_observation_categories_MKT-22.csv', delimiter=',', skip_header=1)[:,1]\n",
    "#print(prop_obs_cat)\n",
    "        \n",
    "for row_idx, row in enumerate(rev_obs_exp):\n",
    "    #print (rev_obs_exp[row_idx][1:])\n",
    "    for col_idx, col in enumerate(prop_obs_cat):\n",
    "        #print (row_idx, col_idx, col, row[1:])\n",
    "        if row[int(col)] == 0: \n",
    "            #print (affinity[row_idx][col_idx])\n",
    "            affinity[row_idx][col_idx] = 0.\n",
    "print('Obs cat done', affinity.shape, 'zeros:', affinity.flatten().shape[0] - np.count_nonzero(affinity), 'of', affinity.flatten().shape[0])\n",
    "\n",
    "            \n",
    "# check there is at least one non-zero\n",
    "'''set_zero = False\n",
    "for row_idx, row in enumerate(affinity):#row_idx is reviewer ID\n",
    "    for cell_idx, topic_set in enumerate(df_cat['Category_List']):#cell_idx is the proposal id, topic_set is the list of topics\n",
    "        for topic in topic_set:\n",
    "            if df_rev_score[topic][row_idx]==0.: set_zero = True # if there are ANY '0' experience ratings\n",
    "        if set_zero == True: affinity[row_idx, cell_idx] = 0.\n",
    "        set_zero = False\n",
    "\n",
    "print('at least one nonzero done', affinity.shape, 'zeros:', affinity.flatten().shape[0] - np.count_nonzero(affinity), 'of', affinity.flatten().shape[0])\n",
    "'''\n",
    "\n",
    "# mask out conflicts of interest:\n",
    "affinity = affinity*conflict_mask\n",
    "print('set conflicts done', affinity.shape, 'zeros:', affinity.flatten().shape[0] - np.count_nonzero(affinity), 'of', affinity.flatten().shape[0])\n",
    "\n",
    "'''\n",
    "# apply a non-linear scaling to the affinity \n",
    "affinity = affinity + np.where(affinity>0.3, 0.4, 0.)\n",
    "print('non_linear scaling done', affinity.shape, 'zeros:', affinity.flatten().shape[0] - np.count_nonzero(affinity), 'of', affinity.flatten().shape[0])\n",
    "'''"
   ]
  },
  {
   "cell_type": "code",
   "execution_count": null,
   "metadata": {
    "id": "edQRVEMIVfea"
   },
   "outputs": [],
   "source": []
  },
  {
   "cell_type": "code",
   "execution_count": null,
   "metadata": {
    "id": "KbpAuj6uVfea"
   },
   "outputs": [],
   "source": []
  },
  {
   "cell_type": "markdown",
   "metadata": {
    "id": "_SIz2cztVfea"
   },
   "source": [
    "## Prepare arrays for LP"
   ]
  },
  {
   "cell_type": "code",
   "execution_count": 15,
   "metadata": {
    "colab": {
     "base_uri": "https://localhost:8080/"
    },
    "id": "a7KN_sMWVfea",
    "outputId": "77217041-3c28-4fd0-b1db-b25fd19baeda"
   },
   "outputs": [
    {
     "data": {
      "text/plain": [
       "((47,), (47,))"
      ]
     },
     "execution_count": 15,
     "metadata": {},
     "output_type": "execute_result"
    }
   ],
   "source": [
    "# --------------------------------------------------------------------------------------------\n",
    "# convert arrays to a set of stored numpy arrays for the Linear Program (LP) optimisation code\n",
    "# --------------------------------------------------------------------------------------------\n",
    "\n",
    "# assign the maximum number of proposals per reviewer\n",
    "loads = np.genfromtxt('science_max_reviews.csv', skip_header=1, delimiter=',')[:,1]\n",
    "\n",
    "# set the lower bound of proposals to review to be 10\n",
    "loads_lb = 10*np.ones(affinity.shape[0])\n",
    "\n",
    "# set the coverage (i.e. number of reviews per paper) to be exactly 4\n",
    "covs = 4*np.ones(affinity.shape[1])\n",
    "\n",
    "loads_lb.shape, loads.shape"
   ]
  },
  {
   "cell_type": "code",
   "execution_count": null,
   "metadata": {
    "colab": {
     "base_uri": "https://localhost:8080/"
    },
    "id": "YxGJXbBPX2If",
    "outputId": "80c75161-7d07-4467-d465-86ccba4ff76a"
   },
   "outputs": [],
   "source": []
  },
  {
   "cell_type": "markdown",
   "metadata": {
    "id": "C5rsjcIWVfea"
   },
   "source": [
    "-------------------------------------------------"
   ]
  },
  {
   "cell_type": "code",
   "execution_count": 16,
   "metadata": {
    "id": "A4hxxXfjVfeb"
   },
   "outputs": [],
   "source": [
    "# save array to disk, to transfer to server with Gurobi license\n",
    "np.save('scores.npy', affinity)\n",
    "np.save('loads.npy', loads)\n",
    "np.save('loads-lb.npy', loads_lb)\n",
    "np.save('covs.npy', covs)"
   ]
  },
  {
   "cell_type": "markdown",
   "metadata": {
    "id": "vTAhKIhfVfeb"
   },
   "source": [
    "### Note: move to sherlock\n",
    "\n",
    "+ copy over scores.npy (the storage name of the afinity matrix) to sherlock.sdp.kat.ac.za (which has the gurobi license file):\n",
    "`\n",
    "rsync -avz scores.npy richarms@sherlock.sdp.kat.ac.za:/home/richarms/src/fair-matching/data/mk/\n",
    "`\n",
    "+ then:\n",
    "`ssh sherlock.sdp.kat.ac.za`\n",
    "+ run the linear program\n",
    "`\n",
    "cd /home/richarms/src/fair-matching\n",
    "source venv/bin/activate\n",
    "source bin/setup.sh\n",
    "sh bin/exp/basic.sh config/mk/basic-lb.json\n",
    "exit\n",
    "`\n",
    "+ and copy back the assignment.npy \n",
    "\n",
    "`rsync -avz richarms@sherlock.sdp.kat.ac.za:/home/richarms/src/fair-matching/exp_out/mk/basic-lb/{DATE}/results/assignment.npy .`"
   ]
  },
  {
   "cell_type": "markdown",
   "metadata": {
    "id": "7ddI7bjZVfeb"
   },
   "source": [
    "## Code to evaluate LP result\n"
   ]
  },
  {
   "cell_type": "code",
   "execution_count": 34,
   "metadata": {
    "id": "sUzJYb2ZVfeb"
   },
   "outputs": [
    {
     "data": {
      "text/plain": [
       "(array([0, 0, 0, 0, 0, 0, 0, 0, 0, 0]),\n",
       " array([ 14,  16,  31,  55,  62,  66,  74,  77,  79, 116]))"
      ]
     },
     "execution_count": 34,
     "metadata": {},
     "output_type": "execute_result"
    }
   ],
   "source": [
    "# load the assignment matrix from the LP\n",
    "# The assignment matrix is a sparse binary array of dim n_reviewers * n_proposals \n",
    "# with nonzero entries for a positive assignment\n",
    "assignment = np.load('assignment.npy')\n",
    "assignment = assignment.astype(int)\n",
    "assignment[np.where(og_rev_idx==40)].nonzero()"
   ]
  },
  {
   "cell_type": "code",
   "execution_count": 35,
   "metadata": {},
   "outputs": [
    {
     "data": {
      "text/plain": [
       "(array([0, 0, 0, 0, 0, 0, 0, 0, 0, 0, 0]),\n",
       " array([  0,  14,  16,  31,  55,  62,  66,  74,  77,  79, 116]))"
      ]
     },
     "execution_count": 35,
     "metadata": {},
     "output_type": "execute_result"
    }
   ],
   "source": [
    "# Do manual adjustments (highly risky!)\n",
    "at = assignment.transpose()\n",
    "at[np.where(df_cat['PSS ID']=='MKT-22003'), np.where(og_rev_idx==32)] = 0\n",
    "at[np.where(df_cat['PSS ID']=='MKT-22003'), np.where(og_rev_idx==40)] = 1\n",
    "at[np.where(df_cat['PSS ID']=='MKT-22155'), np.where(og_rev_idx==34)] = 0\n",
    "at[np.where(df_cat['PSS ID']=='MKT-22155'), np.where(og_rev_idx==26)] = 1\n",
    "\n",
    "assignment[np.where(og_rev_idx==40)].nonzero()\n",
    "#at[np.where(df_cat['PSS ID']=='MKT-22155'), np.where(og_rev_idx==26)]"
   ]
  },
  {
   "cell_type": "code",
   "execution_count": 36,
   "metadata": {
    "colab": {
     "base_uri": "https://localhost:8080/"
    },
    "id": "EX8suGG4Vfeb",
    "outputId": "678945fb-0dce-4124-d6ac-23ac7ad62a18"
   },
   "outputs": [
    {
     "data": {
      "text/plain": [
       "(292.79999999999995, 292.79999999999995)"
      ]
     },
     "execution_count": 36,
     "metadata": {},
     "output_type": "execute_result"
    }
   ],
   "source": [
    "## CHECK\n",
    "## Sanity check -- check that the trace of the affinity and assignment match that produced by LP\n",
    "np.sum(np.diag(np.matmul(np.transpose(affinity), assignment))), np.trace(np.matmul(np.transpose(affinity), assignment))"
   ]
  },
  {
   "cell_type": "code",
   "execution_count": 37,
   "metadata": {
    "colab": {
     "base_uri": "https://localhost:8080/"
    },
    "id": "Jf0UtGSYVfeb",
    "outputId": "92e01f82-c394-4eb1-9695-1733b084aa2e"
   },
   "outputs": [
    {
     "name": "stdout",
     "output_type": "stream",
     "text": [
      "4\n",
      "[1 0 0 1 0 0 0 0 0 0 0 0 0 1 0 0 0 0 0 0 0 0 0 0 0 0 1 0 0 0 0 0 0 0 0 0 0\n",
      " 0 0 0 0 0 0 0 0 0 0]\n",
      "10\n",
      "(array([ 0,  7, 13, 18]),)\n"
     ]
    }
   ],
   "source": [
    "# SCRATCH\n",
    "print(np.count_nonzero(np.transpose(assignment)[0]))\n",
    "print(np.transpose(assignment)[0])\n",
    "print(np.count_nonzero((assignment)[12]))\n",
    "print((assignment).transpose()[-5].nonzero())"
   ]
  },
  {
   "cell_type": "code",
   "execution_count": null,
   "metadata": {
    "id": "q103xk_BVfeb"
   },
   "outputs": [],
   "source": []
  },
  {
   "cell_type": "code",
   "execution_count": 21,
   "metadata": {
    "colab": {
     "base_uri": "https://localhost:8080/"
    },
    "id": "cep9ykZLVfeb",
    "outputId": "6558eea2-89a0-49ff-bd40-35a2c97261a4"
   },
   "outputs": [
    {
     "name": "stdout",
     "output_type": "stream",
     "text": [
      "This is the LP result, expressed as a set of (4) reviewers (by original ID) per proposal: \n",
      " [['MKT-22003' 2 7 26 40]\n",
      " ['MKT-22004' 27 39 51 55]\n",
      " ['MKT-22005' 35 37 43 58]\n",
      " ['MKT-22006' 4 6 10 57]\n",
      " ['MKT-22007' 33 37 39 53]\n",
      " ['MKT-22008' 28 33 36 43]\n",
      " ['MKT-22009' 44 46 51 54]\n",
      " ['MKT-22011' 12 39 44 55]\n",
      " ['MKT-22012' 39 54 55 56]\n",
      " ['MKT-22013' 33 36 37 58]\n",
      " ['MKT-22015' 4 6 10 57]\n",
      " ['MKT-22016' 15 35 42 59]\n",
      " ['MKT-22017' 41 45 46 55]\n",
      " ['MKT-22018' 34 47 48 61]\n",
      " ['MKT-22019' 14 40 42 50]\n",
      " ['MKT-22020' 12 38 44 54]\n",
      " ['MKT-22022' 14 40 42 57]\n",
      " ['MKT-22023' 27 35 46 51]\n",
      " ['MKT-22025' 12 44 51 52]\n",
      " ['MKT-22027' 15 17 32 35]\n",
      " ['MKT-22028' 14 21 42 50]\n",
      " ['MKT-22029' 9 44 46 55]\n",
      " ['MKT-22030' 7 29 49 59]\n",
      " ['MKT-22032' 9 44 46 52]\n",
      " ['MKT-22033' 13 29 47 56]\n",
      " ['MKT-22034' 33 36 37 53]\n",
      " ['MKT-22035' 2 19 31 43]\n",
      " ['MKT-22036' 2 19 31 43]\n",
      " ['MKT-22037' 4 10 19 57]\n",
      " ['MKT-22038' 17 35 53 59]\n",
      " ['MKT-22039' 6 15 26 31]\n",
      " ['MKT-22040' 2 13 32 40]\n",
      " ['MKT-22042' 9 38 51 54]\n",
      " ['MKT-22043' 28 36 39 43]\n",
      " ['MKT-22044' 17 29 47 56]\n",
      " ['MKT-22045' 26 28 36 43]\n",
      " ['MKT-22046' 9 27 38 51]\n",
      " ['MKT-22047' 7 41 47 56]\n",
      " ['MKT-22048' 38 45 49 55]\n",
      " ['MKT-22049' 4 6 10 57]\n",
      " ['MKT-22050' 15 17 32 35]\n",
      " ['MKT-22051' 34 37 41 54]\n",
      " ['MKT-22054' 29 41 45 47]\n",
      " ['MKT-22055' 7 13 49 59]\n",
      " ['MKT-22056' 7 41 47 56]\n",
      " ['MKT-22058' 4 21 31 39]\n",
      " ['MKT-22059' 28 33 36 43]\n",
      " ['MKT-22060' 14 21 42 50]\n",
      " ['MKT-22062' 14 21 42 59]\n",
      " ['MKT-22063' 33 39 48 61]\n",
      " ['MKT-22064' 29 41 45 56]\n",
      " ['MKT-22065' 36 37 43 58]\n",
      " ['MKT-22066' 12 27 51 54]\n",
      " ['MKT-22067' 14 21 42 50]\n",
      " ['MKT-22069' 44 51 52 53]\n",
      " ['MKT-22071' 6 12 13 40]\n",
      " ['MKT-22072' 41 48 53 61]\n",
      " ['MKT-22073' 2 19 21 32]\n",
      " ['MKT-22074' 7 29 45 47]\n",
      " ['MKT-22075' 17 35 43 53]\n",
      " ['MKT-22077' 34 45 47 49]\n",
      " ['MKT-22078' 13 14 42 59]\n",
      " ['MKT-22079' 17 35 40 53]\n",
      " ['MKT-22080' 14 21 42 50]\n",
      " ['MKT-22081' 28 33 39 43]\n",
      " ['MKT-22083' 7 45 48 61]\n",
      " ['MKT-22084' 13 40 42 50]\n",
      " ['MKT-22085' 39 47 49 56]\n",
      " ['MKT-22086' 27 38 46 52]\n",
      " ['MKT-22087' 26 28 39 58]\n",
      " ['MKT-22088' 39 41 53 56]\n",
      " ['MKT-22089' 26 33 43 53]\n",
      " ['MKT-22090' 6 10 15 26]\n",
      " ['MKT-22091' 12 38 46 52]\n",
      " ['MKT-22093' 2 13 32 40]\n",
      " ['MKT-22094' 10 19 26 57]\n",
      " ['MKT-22096' 34 37 45 49]\n",
      " ['MKT-22097' 14 40 42 59]\n",
      " ['MKT-22098' 17 35 43 53]\n",
      " ['MKT-22099' 2 13 32 40]\n",
      " ['MKT-22100' 36 39 48 61]\n",
      " ['MKT-22101' 44 46 51 52]\n",
      " ['MKT-22102' 28 34 35 43]\n",
      " ['MKT-22103' 39 45 53 61]\n",
      " ['MKT-22104' 10 19 31 57]\n",
      " ['MKT-22105' 14 34 42 50]\n",
      " ['MKT-22106' 12 27 52 54]\n",
      " ['MKT-22107' 6 15 26 31]\n",
      " ['MKT-22108' 4 10 31 57]\n",
      " ['MKT-22109' 12 44 52 54]\n",
      " ['MKT-22110' 36 41 43 58]\n",
      " ['MKT-22111' 36 43 53 58]\n",
      " ['MKT-22113' 12 44 52 54]\n",
      " ['MKT-22115' 7 29 49 59]\n",
      " ['MKT-22116' 9 27 38 52]\n",
      " ['MKT-22117' 35 39 43 58]\n",
      " ['MKT-22118' 45 46 48 61]\n",
      " ['MKT-22119' 4 10 19 57]\n",
      " ['MKT-22120' 17 35 39 53]\n",
      " ['MKT-22121' 42 48 49 61]\n",
      " ['MKT-22122' 9 44 46 55]\n",
      " ['MKT-22124' 29 39 53 56]\n",
      " ['MKT-22125' 14 21 42 50]\n",
      " ['MKT-22126' 4 21 31 39]\n",
      " ['MKT-22127' 9 12 27 55]\n",
      " ['MKT-22129' 29 34 49 59]\n",
      " ['MKT-22130' 6 15 28 53]\n",
      " ['MKT-22131' 17 35 43 53]\n",
      " ['MKT-22132' 28 35 39 58]\n",
      " ['MKT-22133' 17 31 35 53]\n",
      " ['MKT-22134' 6 15 26 31]\n",
      " ['MKT-22135' 28 33 37 58]\n",
      " ['MKT-22137' 28 33 37 53]\n",
      " ['MKT-22138' 6 15 28 53]\n",
      " ['MKT-22139' 26 28 35 37]\n",
      " ['MKT-22142' 7 41 47 56]\n",
      " ['MKT-22143' 14 40 42 50]\n",
      " ['MKT-22144' 13 29 49 59]\n",
      " ['MKT-22145' 28 33 36 43]\n",
      " ['MKT-22146' 15 33 48 61]\n",
      " ['MKT-22147' 33 39 53 58]\n",
      " ['MKT-22148' 4 7 34 48]\n",
      " ['MKT-22149' 4 10 19 57]\n",
      " ['MKT-22150' 9 27 38 55]\n",
      " ['MKT-22151' 2 19 32 42]\n",
      " ['MKT-22153' 9 27 38 55]\n",
      " ['MKT-22154' 9 38 51 54]\n",
      " ['MKT-22155' 2 13 26 32]\n",
      " ['MKT-22158' 36 37 39 43]\n",
      " ['MKT-22159' 34 36 48 61]\n",
      " ['MKT-22160' 2 19 32 43]\n",
      " ['MKT-22161' 14 21 42 50]]\n",
      "['2, MKT-22003, MKT-22035, MKT-22036, MKT-22040, MKT-22073, MKT-22093, MKT-22099, MKT-22151, MKT-22155, MKT-22160'\n",
      " '4, MKT-22006, MKT-22015, MKT-22037, MKT-22049, MKT-22058, MKT-22108, MKT-22119, MKT-22126, MKT-22148, MKT-22149'\n",
      " '6, MKT-22006, MKT-22015, MKT-22039, MKT-22049, MKT-22071, MKT-22090, MKT-22107, MKT-22130, MKT-22134, MKT-22138'\n",
      " '7, MKT-22003, MKT-22030, MKT-22047, MKT-22055, MKT-22056, MKT-22074, MKT-22083, MKT-22115, MKT-22142, MKT-22148'\n",
      " '9, MKT-22029, MKT-22032, MKT-22042, MKT-22046, MKT-22116, MKT-22122, MKT-22127, MKT-22150, MKT-22153, MKT-22154'\n",
      " '10, MKT-22006, MKT-22015, MKT-22037, MKT-22049, MKT-22090, MKT-22094, MKT-22104, MKT-22108, MKT-22119, MKT-22149'\n",
      " '12, MKT-22011, MKT-22020, MKT-22025, MKT-22066, MKT-22071, MKT-22091, MKT-22106, MKT-22109, MKT-22113, MKT-22127'\n",
      " '13, MKT-22033, MKT-22040, MKT-22055, MKT-22071, MKT-22078, MKT-22084, MKT-22093, MKT-22099, MKT-22144, MKT-22155'\n",
      " '14, MKT-22019, MKT-22022, MKT-22028, MKT-22060, MKT-22062, MKT-22067, MKT-22078, MKT-22080, MKT-22097, MKT-22105, MKT-22125, MKT-22143, MKT-22161'\n",
      " '15, MKT-22016, MKT-22027, MKT-22039, MKT-22050, MKT-22090, MKT-22107, MKT-22130, MKT-22134, MKT-22138, MKT-22146'\n",
      " '17, MKT-22027, MKT-22038, MKT-22044, MKT-22050, MKT-22075, MKT-22079, MKT-22098, MKT-22120, MKT-22131, MKT-22133'\n",
      " '19, MKT-22035, MKT-22036, MKT-22037, MKT-22073, MKT-22094, MKT-22104, MKT-22119, MKT-22149, MKT-22151, MKT-22160'\n",
      " '21, MKT-22028, MKT-22058, MKT-22060, MKT-22062, MKT-22067, MKT-22073, MKT-22080, MKT-22125, MKT-22126, MKT-22161'\n",
      " '26, MKT-22003, MKT-22039, MKT-22045, MKT-22087, MKT-22089, MKT-22090, MKT-22094, MKT-22107, MKT-22134, MKT-22139, MKT-22155'\n",
      " '27, MKT-22004, MKT-22023, MKT-22046, MKT-22066, MKT-22086, MKT-22106, MKT-22116, MKT-22127, MKT-22150, MKT-22153'\n",
      " '28, MKT-22008, MKT-22043, MKT-22045, MKT-22059, MKT-22081, MKT-22087, MKT-22102, MKT-22130, MKT-22132, MKT-22135, MKT-22137, MKT-22138, MKT-22139, MKT-22145'\n",
      " '29, MKT-22030, MKT-22033, MKT-22044, MKT-22054, MKT-22064, MKT-22074, MKT-22115, MKT-22124, MKT-22129, MKT-22144'\n",
      " '31, MKT-22035, MKT-22036, MKT-22039, MKT-22058, MKT-22104, MKT-22107, MKT-22108, MKT-22126, MKT-22133, MKT-22134'\n",
      " '32, MKT-22027, MKT-22040, MKT-22050, MKT-22073, MKT-22093, MKT-22099, MKT-22151, MKT-22155, MKT-22160'\n",
      " '33, MKT-22007, MKT-22008, MKT-22013, MKT-22034, MKT-22059, MKT-22063, MKT-22081, MKT-22089, MKT-22135, MKT-22137, MKT-22145, MKT-22146, MKT-22147'\n",
      " '34, MKT-22018, MKT-22051, MKT-22077, MKT-22096, MKT-22102, MKT-22105, MKT-22129, MKT-22148, MKT-22159'\n",
      " '35, MKT-22005, MKT-22016, MKT-22023, MKT-22027, MKT-22038, MKT-22050, MKT-22075, MKT-22079, MKT-22098, MKT-22102, MKT-22117, MKT-22120, MKT-22131, MKT-22132, MKT-22133, MKT-22139'\n",
      " '36, MKT-22008, MKT-22013, MKT-22034, MKT-22043, MKT-22045, MKT-22059, MKT-22065, MKT-22100, MKT-22110, MKT-22111, MKT-22145, MKT-22158, MKT-22159'\n",
      " '37, MKT-22005, MKT-22007, MKT-22013, MKT-22034, MKT-22051, MKT-22065, MKT-22096, MKT-22135, MKT-22137, MKT-22139, MKT-22158'\n",
      " '38, MKT-22020, MKT-22042, MKT-22046, MKT-22048, MKT-22086, MKT-22091, MKT-22116, MKT-22150, MKT-22153, MKT-22154'\n",
      " '39, MKT-22004, MKT-22007, MKT-22011, MKT-22012, MKT-22043, MKT-22058, MKT-22063, MKT-22081, MKT-22085, MKT-22087, MKT-22088, MKT-22100, MKT-22103, MKT-22117, MKT-22120, MKT-22124, MKT-22126, MKT-22132, MKT-22147, MKT-22158'\n",
      " '40, MKT-22003, MKT-22019, MKT-22022, MKT-22040, MKT-22071, MKT-22079, MKT-22084, MKT-22093, MKT-22097, MKT-22099, MKT-22143'\n",
      " '41, MKT-22017, MKT-22047, MKT-22051, MKT-22054, MKT-22056, MKT-22064, MKT-22072, MKT-22088, MKT-22110, MKT-22142'\n",
      " '42, MKT-22016, MKT-22019, MKT-22022, MKT-22028, MKT-22060, MKT-22062, MKT-22067, MKT-22078, MKT-22080, MKT-22084, MKT-22097, MKT-22105, MKT-22121, MKT-22125, MKT-22143, MKT-22151, MKT-22161'\n",
      " '43, MKT-22005, MKT-22008, MKT-22035, MKT-22036, MKT-22043, MKT-22045, MKT-22059, MKT-22065, MKT-22075, MKT-22081, MKT-22089, MKT-22098, MKT-22102, MKT-22110, MKT-22111, MKT-22117, MKT-22131, MKT-22145, MKT-22158, MKT-22160'\n",
      " '44, MKT-22009, MKT-22011, MKT-22020, MKT-22025, MKT-22029, MKT-22032, MKT-22069, MKT-22101, MKT-22109, MKT-22113, MKT-22122'\n",
      " '45, MKT-22017, MKT-22048, MKT-22054, MKT-22064, MKT-22074, MKT-22077, MKT-22083, MKT-22096, MKT-22103, MKT-22118'\n",
      " '46, MKT-22009, MKT-22017, MKT-22023, MKT-22029, MKT-22032, MKT-22086, MKT-22091, MKT-22101, MKT-22118, MKT-22122'\n",
      " '47, MKT-22018, MKT-22033, MKT-22044, MKT-22047, MKT-22054, MKT-22056, MKT-22074, MKT-22077, MKT-22085, MKT-22142'\n",
      " '48, MKT-22018, MKT-22063, MKT-22072, MKT-22083, MKT-22100, MKT-22118, MKT-22121, MKT-22146, MKT-22148, MKT-22159'\n",
      " '49, MKT-22030, MKT-22048, MKT-22055, MKT-22077, MKT-22085, MKT-22096, MKT-22115, MKT-22121, MKT-22129, MKT-22144'\n",
      " '50, MKT-22019, MKT-22028, MKT-22060, MKT-22067, MKT-22080, MKT-22084, MKT-22105, MKT-22125, MKT-22143, MKT-22161'\n",
      " '51, MKT-22004, MKT-22009, MKT-22023, MKT-22025, MKT-22042, MKT-22046, MKT-22066, MKT-22069, MKT-22101, MKT-22154'\n",
      " '52, MKT-22025, MKT-22032, MKT-22069, MKT-22086, MKT-22091, MKT-22101, MKT-22106, MKT-22109, MKT-22113, MKT-22116'\n",
      " '53, MKT-22007, MKT-22034, MKT-22038, MKT-22069, MKT-22072, MKT-22075, MKT-22079, MKT-22088, MKT-22089, MKT-22098, MKT-22103, MKT-22111, MKT-22120, MKT-22124, MKT-22130, MKT-22131, MKT-22133, MKT-22137, MKT-22138, MKT-22147'\n",
      " '54, MKT-22009, MKT-22012, MKT-22020, MKT-22042, MKT-22051, MKT-22066, MKT-22106, MKT-22109, MKT-22113, MKT-22154'\n",
      " '55, MKT-22004, MKT-22011, MKT-22012, MKT-22017, MKT-22029, MKT-22048, MKT-22122, MKT-22127, MKT-22150, MKT-22153'\n",
      " '56, MKT-22012, MKT-22033, MKT-22044, MKT-22047, MKT-22056, MKT-22064, MKT-22085, MKT-22088, MKT-22124, MKT-22142'\n",
      " '57, MKT-22006, MKT-22015, MKT-22022, MKT-22037, MKT-22049, MKT-22094, MKT-22104, MKT-22108, MKT-22119, MKT-22149'\n",
      " '58, MKT-22005, MKT-22013, MKT-22065, MKT-22087, MKT-22110, MKT-22111, MKT-22117, MKT-22132, MKT-22135, MKT-22147'\n",
      " '59, MKT-22016, MKT-22030, MKT-22038, MKT-22055, MKT-22062, MKT-22078, MKT-22097, MKT-22115, MKT-22129, MKT-22144'\n",
      " '61, MKT-22018, MKT-22063, MKT-22072, MKT-22083, MKT-22100, MKT-22103, MKT-22118, MKT-22121, MKT-22146, MKT-22159']\n"
     ]
    }
   ],
   "source": [
    "# Gene Matrix\n",
    "################\n",
    "\n",
    "# The assignment matrix may be expressed as a 'gene matrix' (an inherited term): a dense array \n",
    "# of reviewers assigned to each proposal, (as opposed to the assignment matrix, which is a sparse binary \n",
    "# array of dim n_reviewers * n_proposals with nonzero entries for a positive assignment)\n",
    "gene_matrix = np.zeros((n_proposals, coverage))\n",
    "gene_matrix_indexes = np.zeros((n_proposals, coverage))\n",
    "\n",
    "# original reviewer index\n",
    "#og_rev_idx = np.array(df_rev_score['CATEGORY ID'])\n",
    "\n",
    "# The reviewer_assignment is the logical opposite of the gene matrix: for each reviewer,\n",
    "# it is a list of their associated proposals\n",
    "reviewer_assignment = np.empty((n_reviewers), dtype=object)\n",
    "\n",
    "# set the first element of the reviewer assignment vector to be the original reviewer \n",
    "# index, as a string\n",
    "for idx, r in enumerate(reviewer_assignment):\n",
    "    reviewer_assignment[idx] = str(og_rev_idx[idx])\n",
    "\n",
    "\n",
    "\n",
    "for col_idx, col in enumerate(assignment.transpose()):\n",
    "    # set the gene matrix to the indices of each non-zero element in the assignment\n",
    "    gene_matrix[col_idx] = np.nonzero(col)[0]\n",
    "    # set up the correct original reviewer IDs\n",
    "    for rev_idx, rev in enumerate(gene_matrix[col_idx]):\n",
    "        gene_matrix_indexes[col_idx][rev_idx] = og_rev_idx[int(rev)]\n",
    "    # augment the string with each fo the {n_min, n_max} proposals that reviewer should review\n",
    "    for i in np.nonzero(col)[0]:\n",
    "        reviewer_assignment[i] = reviewer_assignment[i] + ', ' + df_cat['PSS ID'][col_idx]\n",
    "\n",
    "        \n",
    "gene_matrix = gene_matrix.astype(int)\n",
    "gene_matrix_indexes = gene_matrix_indexes.astype(int)\n",
    "\n",
    "print(\"This is the LP result, expressed as a set of (4) reviewers (by original ID) per proposal: \\n\", \n",
    "      np.column_stack((df_cat['PSS ID'], gene_matrix_indexes)))\n",
    "\n",
    "print(reviewer_assignment)\n"
   ]
  },
  {
   "cell_type": "code",
   "execution_count": 22,
   "metadata": {
    "colab": {
     "base_uri": "https://localhost:8080/"
    },
    "id": "vwKyL9soVfec",
    "outputId": "59aa603b-547c-477d-f9f5-464764eaff2a"
   },
   "outputs": [
    {
     "data": {
      "text/plain": [
       "array([ 2, 13, 26, 32])"
      ]
     },
     "execution_count": 22,
     "metadata": {},
     "output_type": "execute_result"
    }
   ],
   "source": [
    "gene_matrix_indexes[-5]"
   ]
  },
  {
   "cell_type": "code",
   "execution_count": 23,
   "metadata": {
    "id": "oiNmb_YjVfec"
   },
   "outputs": [],
   "source": [
    "# Save proposal assignments and reviewer assignemnts to CSV files\n",
    "pd.DataFrame(np.column_stack((df_cat['PSS ID'], gene_matrix_indexes.astype(int)))).to_csv('Proposal_assignment.csv')\n",
    "pd.DataFrame(np.column_stack((og_rev_idx, reviewer_assignment))).to_csv('Reviewer_assignment.csv')"
   ]
  },
  {
   "cell_type": "code",
   "execution_count": 125,
   "metadata": {
    "colab": {
     "base_uri": "https://localhost:8080/",
     "height": 1000
    },
    "id": "Jwj2uqoeVfec",
    "outputId": "1741e2ef-b77e-4b83-c439-1062b340cc80"
   },
   "outputs": [
    {
     "name": "stdout",
     "output_type": "stream",
     "text": [
      "Fernando's matrix zeros:  0\n",
      "Fernando's Extended zeros:  62\n",
      "Fernando's matrix: mean, median, minimum sum: 6.0 5.556818181818182 13\n",
      "[[4 2 2 6 'MKT-22003']\n",
      " [6 6 6 6 'MKT-22004']\n",
      " [6 6 6 6 'MKT-22005']\n",
      " [4 5 5 5 'MKT-22006']\n",
      " [6 6 6 6 'MKT-22007']\n",
      " [6 6 6 6 'MKT-22008']\n",
      " [6 6 6 6 'MKT-22009']\n",
      " [6 6 6 6 'MKT-22011']\n",
      " [6 6 6 6 'MKT-22012']\n",
      " [6 6 6 6 'MKT-22013']\n",
      " [4 5 5 5 'MKT-22015']\n",
      " [5 6 6 5 'MKT-22016']\n",
      " [6 6 6 6 'MKT-22017']\n",
      " [5 6 6 6 'MKT-22018']\n",
      " [6 6 6 6 'MKT-22019']\n",
      " [6 6 6 6 'MKT-22020']\n",
      " [5 1 6 3 'MKT-22022']\n",
      " [6 6 6 6 'MKT-22023']\n",
      " [6 6 6 6 'MKT-22025']\n",
      " [5 6 5 6 'MKT-22027']\n",
      " [6 3 6 6 'MKT-22028']\n",
      " [6 6 6 6 'MKT-22029']\n",
      " [6 6 4 5 'MKT-22030']\n",
      " [6 6 6 6 'MKT-22032']\n",
      " [6 6 6 6 'MKT-22033']\n",
      " [6 6 6 6 'MKT-22034']\n",
      " [6 5 5 6 'MKT-22035']\n",
      " [6 5 5 6 'MKT-22036']\n",
      " [4 5 5 5 'MKT-22037']\n",
      " [6 6 6 5 'MKT-22038']\n",
      " [5 5 6 5 'MKT-22039']\n",
      " [4 5 2 6 'MKT-22040']\n",
      " [6 6 6 6 'MKT-22042']\n",
      " [6 6 6 6 'MKT-22043']\n",
      " [6 6 6 6 'MKT-22044']\n",
      " [6 6 6 6 'MKT-22045']\n",
      " [6 6 6 6 'MKT-22046']\n",
      " [6 6 6 6 'MKT-22047']\n",
      " [6 6 4 6 'MKT-22048']\n",
      " [4 5 5 5 'MKT-22049']\n",
      " [5 6 5 6 'MKT-22050']\n",
      " [5 6 6 6 'MKT-22051']\n",
      " [6 6 6 6 'MKT-22054']\n",
      " [6 6 4 5 'MKT-22055']\n",
      " [6 6 6 6 'MKT-22056']\n",
      " [4 3 4 6 'MKT-22058']\n",
      " [6 6 6 6 'MKT-22059']\n",
      " [6 3 6 6 'MKT-22060']\n",
      " [6 3 6 4 'MKT-22062']\n",
      " [6 6 6 6 'MKT-22063']\n",
      " [6 6 6 6 'MKT-22064']\n",
      " [6 6 6 6 'MKT-22065']\n",
      " [6 6 6 6 'MKT-22066']\n",
      " [6 3 6 6 'MKT-22067']\n",
      " [6 6 6 6 'MKT-22069']\n",
      " [4 5 5 6 'MKT-22071']\n",
      " [6 6 6 6 'MKT-22072']\n",
      " [5 5 2 5 'MKT-22073']\n",
      " [6 6 6 6 'MKT-22074']\n",
      " [6 6 6 6 'MKT-22075']\n",
      " [5 6 6 4 'MKT-22077']\n",
      " [5 6 6 4 'MKT-22078']\n",
      " [6 6 6 6 'MKT-22079']\n",
      " [6 3 6 6 'MKT-22080']\n",
      " [6 6 6 6 'MKT-22081']\n",
      " [5 5 5 4 'MKT-22083']\n",
      " [5 3 6 6 'MKT-22084']\n",
      " [6 6 4 6 'MKT-22085']\n",
      " [6 6 6 6 'MKT-22086']\n",
      " [6 6 6 6 'MKT-22087']\n",
      " [6 6 6 6 'MKT-22088']\n",
      " [6 6 6 6 'MKT-22089']\n",
      " [5 5 5 6 'MKT-22090']\n",
      " [6 6 6 6 'MKT-22091']\n",
      " [4 5 2 6 'MKT-22093']\n",
      " [5 5 6 5 'MKT-22094']\n",
      " [5 6 6 4 'MKT-22096']\n",
      " [6 3 6 4 'MKT-22097']\n",
      " [6 6 6 6 'MKT-22098']\n",
      " [4 5 2 6 'MKT-22099']\n",
      " [6 6 6 6 'MKT-22100']\n",
      " [6 6 6 6 'MKT-22101']\n",
      " [6 5 6 6 'MKT-22102']\n",
      " [6 6 6 6 'MKT-22103']\n",
      " [5 5 5 5 'MKT-22104']\n",
      " [6 4 6 6 'MKT-22105']\n",
      " [6 6 6 6 'MKT-22106']\n",
      " [5 5 6 5 'MKT-22107']\n",
      " [4 5 5 5 'MKT-22108']\n",
      " [6 6 6 6 'MKT-22109']\n",
      " [6 6 6 6 'MKT-22110']\n",
      " [6 6 6 6 'MKT-22111']\n",
      " [6 6 6 6 'MKT-22113']\n",
      " [6 6 4 5 'MKT-22115']\n",
      " [6 6 6 6 'MKT-22116']\n",
      " [6 6 6 6 'MKT-22117']\n",
      " [6 6 6 6 'MKT-22118']\n",
      " [4 5 5 5 'MKT-22119']\n",
      " [6 6 6 6 'MKT-22120']\n",
      " [6 6 4 6 'MKT-22121']\n",
      " [6 6 6 6 'MKT-22122']\n",
      " [6 6 6 6 'MKT-22124']\n",
      " [6 3 6 6 'MKT-22125']\n",
      " [4 3 4 6 'MKT-22126']\n",
      " [6 6 6 6 'MKT-22127']\n",
      " [6 4 4 5 'MKT-22129']\n",
      " [5 5 6 6 'MKT-22130']\n",
      " [6 6 6 6 'MKT-22131']\n",
      " [6 6 6 6 'MKT-22132']\n",
      " [6 5 6 6 'MKT-22133']\n",
      " [5 5 6 5 'MKT-22134']\n",
      " [6 6 6 6 'MKT-22135']\n",
      " [6 6 6 6 'MKT-22137']\n",
      " [5 5 6 6 'MKT-22138']\n",
      " [6 6 6 6 'MKT-22139']\n",
      " [6 6 6 6 'MKT-22142']\n",
      " [6 6 6 6 'MKT-22143']\n",
      " [6 6 4 5 'MKT-22144']\n",
      " [6 6 6 6 'MKT-22145']\n",
      " [5 6 6 6 'MKT-22146']\n",
      " [6 6 6 6 'MKT-22147']\n",
      " [3 5 4 5 'MKT-22148']\n",
      " [4 5 5 5 'MKT-22149']\n",
      " [6 6 6 6 'MKT-22150']\n",
      " [5 5 5 6 'MKT-22151']\n",
      " [6 6 6 6 'MKT-22153']\n",
      " [6 6 6 6 'MKT-22154']\n",
      " [4 5 2 2 'MKT-22155']\n",
      " [6 6 6 6 'MKT-22158']\n",
      " [5 6 6 6 'MKT-22159']\n",
      " [6 5 5 6 'MKT-22160']\n",
      " [6 3 6 6 'MKT-22161']]\n"
     ]
    },
    {
     "data": {
      "image/png": "[encoded data removed]",
      "text/plain": [
       "<Figure size 648x432 with 1 Axes>"
      ]
     },
     "metadata": {
      "needs_background": "light"
     },
     "output_type": "display_data"
    }
   ],
   "source": [
    "# -----------\n",
    "# Fernando's Matrix \n",
    "# -----------\n",
    "\n",
    "# max reviewer score matrix ('Fernando's Matrix')\n",
    "rev_max_arr = np.zeros((n_p, 4))\n",
    "hi_cont_arr = np.zeros((n_p, 4))\n",
    "# all reviewer score list ('Extended Fernando's List')\n",
    "all_assigned_affinities = []\n",
    "all_hicont_scores = []\n",
    "\n",
    "\n",
    "for cell_idx, topic_set in enumerate(df_cat['Category_List']):#iterate over proposals\n",
    "    rev_a = np.zeros(4)\n",
    "    hi_a = np.zeros(4)\n",
    "    for topic in topic_set: #iterate over topic proposals\n",
    "        if (topic <= 13):\n",
    "            for rev_idx, rev in enumerate(gene_matrix[cell_idx]):#iterate over reviewers\n",
    "                rev_a[rev_idx] = np.maximum(rev_a[rev_idx], rev_scores[topic-1][rev])\n",
    "                all_assigned_affinities.append(rev_scores[topic-1][rev])\n",
    "                #print(cell_idx, topic, rev_idx, rev, rev_scores[topic-1][rev])\n",
    "        else:\n",
    "            for rev_idx, rev in enumerate(gene_matrix[cell_idx]):#iterate over reviewers\n",
    "                hi_a[rev_idx] = np.maximum(hi_a[rev_idx], rev_scores[topic-1][rev])\n",
    "                all_hicont_scores.append(rev_scores[topic-1][rev])\n",
    "        \n",
    "    #print(rev_a.astype(int))#, hi_a.astype(int))\n",
    "    rev_max_arr[cell_idx] = rev_a\n",
    "    hi_cont_arr[cell_idx] = hi_a\n",
    "    \n",
    "print('Fernando\\'s matrix zeros: ', rev_max_arr.flatten().shape[0] - np.count_nonzero(rev_max_arr))\n",
    "print('Fernando\\'s Extended zeros: ', len(all_assigned_affinities) - np.count_nonzero(np.array(all_assigned_affinities)))\n",
    "\n",
    "fig, ax = plt.subplots()\n",
    "ax.hist(all_assigned_affinities, bins=int(np.max(all_assigned_affinities)-np.min(all_assigned_affinities)),histtype='stepfilled', linewidth=5,  label='all category matches', color='k')\n",
    "ax.hist(rev_max_arr.astype(int).flatten(), bins=np.max(rev_max_arr.astype(int).flatten())-np.min(rev_max_arr.astype(int).flatten()), histtype='step',linewidth=5, label='best category match',color='w')#.sum(axis=0)\n",
    "fig.legend()\n",
    "\n",
    "#print('Extended: mean, median:', np.mean(all_assigned_affinities), np.median(all_assigned_affinities))\n",
    "#print(np.sum(all_assigned_affinities), len(all_assigned_affinities), np.sum(all_assigned_affinities)/len(all_assigned_affinities))\n",
    "\n",
    "rev_max_arr = rev_max_arr.astype(int)\n",
    "print('Fernando\\'s matrix: mean, median, minimum sum:', np.median(rev_max_arr), np.mean(rev_max_arr), np.min(rev_max_arr.sum(axis=1)))\n",
    "#print('argmin: ', np.argmin(rev_max_arr.sum(axis=1)), ',sum: ', rev_max_arr.sum(axis=1))\n",
    "#print(rev_max_arr.sum(axis=0))\n",
    "print(np.column_stack((rev_max_arr, df_cat['PSS ID'])))\n",
    "\n",
    "\n",
    "plt.savefig('Fernandos_hist.png')\n",
    "plt.show()\n",
    "\n",
    "\n"
   ]
  },
  {
   "cell_type": "code",
   "execution_count": 138,
   "metadata": {
    "colab": {
     "base_uri": "https://localhost:8080/",
     "height": 392
    },
    "id": "dSotqBR_Vfec",
    "outputId": "f72c7b33-ee98-4534-c722-0939460e3e82"
   },
   "outputs": [
    {
     "data": {
      "image/png": "[encoded data removed]",
      "text/plain": [
       "<Figure size 648x432 with 1 Axes>"
      ]
     },
     "metadata": {
      "needs_background": "light"
     },
     "output_type": "display_data"
    },
    {
     "name": "stdout",
     "output_type": "stream",
     "text": [
      "median, mean: 24.0 22.227272727272727\n"
     ]
    },
    {
     "data": {
      "text/plain": [
       "array([[14, 'MKT-22003'],\n",
       "       [24, 'MKT-22004'],\n",
       "       [24, 'MKT-22005'],\n",
       "       [19, 'MKT-22006'],\n",
       "       [24, 'MKT-22007'],\n",
       "       [24, 'MKT-22008'],\n",
       "       [24, 'MKT-22009'],\n",
       "       [24, 'MKT-22011'],\n",
       "       [24, 'MKT-22012'],\n",
       "       [24, 'MKT-22013'],\n",
       "       [19, 'MKT-22015'],\n",
       "       [22, 'MKT-22016'],\n",
       "       [24, 'MKT-22017'],\n",
       "       [23, 'MKT-22018'],\n",
       "       [24, 'MKT-22019'],\n",
       "       [24, 'MKT-22020'],\n",
       "       [15, 'MKT-22022'],\n",
       "       [24, 'MKT-22023'],\n",
       "       [24, 'MKT-22025'],\n",
       "       [22, 'MKT-22027'],\n",
       "       [21, 'MKT-22028'],\n",
       "       [24, 'MKT-22029'],\n",
       "       [21, 'MKT-22030'],\n",
       "       [24, 'MKT-22032'],\n",
       "       [24, 'MKT-22033'],\n",
       "       [24, 'MKT-22034'],\n",
       "       [22, 'MKT-22035'],\n",
       "       [22, 'MKT-22036'],\n",
       "       [19, 'MKT-22037'],\n",
       "       [23, 'MKT-22038'],\n",
       "       [21, 'MKT-22039'],\n",
       "       [17, 'MKT-22040'],\n",
       "       [24, 'MKT-22042'],\n",
       "       [24, 'MKT-22043'],\n",
       "       [24, 'MKT-22044'],\n",
       "       [24, 'MKT-22045'],\n",
       "       [24, 'MKT-22046'],\n",
       "       [24, 'MKT-22047'],\n",
       "       [22, 'MKT-22048'],\n",
       "       [19, 'MKT-22049'],\n",
       "       [22, 'MKT-22050'],\n",
       "       [23, 'MKT-22051'],\n",
       "       [24, 'MKT-22054'],\n",
       "       [21, 'MKT-22055'],\n",
       "       [24, 'MKT-22056'],\n",
       "       [17, 'MKT-22058'],\n",
       "       [24, 'MKT-22059'],\n",
       "       [21, 'MKT-22060'],\n",
       "       [19, 'MKT-22062'],\n",
       "       [24, 'MKT-22063'],\n",
       "       [24, 'MKT-22064'],\n",
       "       [24, 'MKT-22065'],\n",
       "       [24, 'MKT-22066'],\n",
       "       [21, 'MKT-22067'],\n",
       "       [24, 'MKT-22069'],\n",
       "       [20, 'MKT-22071'],\n",
       "       [24, 'MKT-22072'],\n",
       "       [17, 'MKT-22073'],\n",
       "       [24, 'MKT-22074'],\n",
       "       [24, 'MKT-22075'],\n",
       "       [21, 'MKT-22077'],\n",
       "       [21, 'MKT-22078'],\n",
       "       [24, 'MKT-22079'],\n",
       "       [21, 'MKT-22080'],\n",
       "       [24, 'MKT-22081'],\n",
       "       [19, 'MKT-22083'],\n",
       "       [20, 'MKT-22084'],\n",
       "       [22, 'MKT-22085'],\n",
       "       [24, 'MKT-22086'],\n",
       "       [24, 'MKT-22087'],\n",
       "       [24, 'MKT-22088'],\n",
       "       [24, 'MKT-22089'],\n",
       "       [21, 'MKT-22090'],\n",
       "       [24, 'MKT-22091'],\n",
       "       [17, 'MKT-22093'],\n",
       "       [21, 'MKT-22094'],\n",
       "       [21, 'MKT-22096'],\n",
       "       [19, 'MKT-22097'],\n",
       "       [24, 'MKT-22098'],\n",
       "       [17, 'MKT-22099'],\n",
       "       [24, 'MKT-22100'],\n",
       "       [24, 'MKT-22101'],\n",
       "       [23, 'MKT-22102'],\n",
       "       [24, 'MKT-22103'],\n",
       "       [20, 'MKT-22104'],\n",
       "       [22, 'MKT-22105'],\n",
       "       [24, 'MKT-22106'],\n",
       "       [21, 'MKT-22107'],\n",
       "       [19, 'MKT-22108'],\n",
       "       [24, 'MKT-22109'],\n",
       "       [24, 'MKT-22110'],\n",
       "       [24, 'MKT-22111'],\n",
       "       [24, 'MKT-22113'],\n",
       "       [21, 'MKT-22115'],\n",
       "       [24, 'MKT-22116'],\n",
       "       [24, 'MKT-22117'],\n",
       "       [24, 'MKT-22118'],\n",
       "       [19, 'MKT-22119'],\n",
       "       [24, 'MKT-22120'],\n",
       "       [22, 'MKT-22121'],\n",
       "       [24, 'MKT-22122'],\n",
       "       [24, 'MKT-22124'],\n",
       "       [21, 'MKT-22125'],\n",
       "       [17, 'MKT-22126'],\n",
       "       [24, 'MKT-22127'],\n",
       "       [19, 'MKT-22129'],\n",
       "       [22, 'MKT-22130'],\n",
       "       [24, 'MKT-22131'],\n",
       "       [24, 'MKT-22132'],\n",
       "       [23, 'MKT-22133'],\n",
       "       [21, 'MKT-22134'],\n",
       "       [24, 'MKT-22135'],\n",
       "       [24, 'MKT-22137'],\n",
       "       [22, 'MKT-22138'],\n",
       "       [24, 'MKT-22139'],\n",
       "       [24, 'MKT-22142'],\n",
       "       [24, 'MKT-22143'],\n",
       "       [21, 'MKT-22144'],\n",
       "       [24, 'MKT-22145'],\n",
       "       [23, 'MKT-22146'],\n",
       "       [24, 'MKT-22147'],\n",
       "       [17, 'MKT-22148'],\n",
       "       [19, 'MKT-22149'],\n",
       "       [24, 'MKT-22150'],\n",
       "       [21, 'MKT-22151'],\n",
       "       [24, 'MKT-22153'],\n",
       "       [24, 'MKT-22154'],\n",
       "       [13, 'MKT-22155'],\n",
       "       [24, 'MKT-22158'],\n",
       "       [23, 'MKT-22159'],\n",
       "       [22, 'MKT-22160'],\n",
       "       [21, 'MKT-22161']], dtype=object)"
      ]
     },
     "execution_count": 138,
     "metadata": {},
     "output_type": "execute_result"
    }
   ],
   "source": [
    "plt.hist(rev_max_arr.sum(axis=1), histtype='step', bins=range(np.min(rev_max_arr.sum(axis=1)),2+np.max(rev_max_arr.sum(axis=1))), linewidth=4,color='k',label='overall reviewer expertise per proposal')\n",
    "#bins=1+np.max(rev_max_arr.sum(axis=1))-np.min(rev_max_arr.sum(axis=1))\n",
    "plt.legend()\n",
    "plt.savefig('total_reviewer_expertise_per_proposal_hist.png')\n",
    "plt.show()\n",
    "print('median, mean:', np.median(rev_max_arr.sum(axis=1)),np.mean(rev_max_arr.sum(axis=1)))\n",
    "np.column_stack((rev_max_arr.sum(axis=1),df_cat['PSS ID']))\n",
    "#rev_max_arr.sum(axis=1)\n",
    "\n",
    "#range(14,25)"
   ]
  },
  {
   "cell_type": "code",
   "execution_count": 140,
   "metadata": {
    "colab": {
     "base_uri": "https://localhost:8080/",
     "height": 392
    },
    "id": "Qhof_V03Vfed",
    "outputId": "659b9e1c-d648-4be7-cfa0-8ebe023484a5"
   },
   "outputs": [
    {
     "name": "stdout",
     "output_type": "stream",
     "text": [
      "528\n"
     ]
    },
    {
     "data": {
      "text/plain": [
       "12"
      ]
     },
     "execution_count": 140,
     "metadata": {},
     "output_type": "execute_result"
    },
    {
     "data": {
      "image/png": "[encoded data removed]",
      "text/plain": [
       "<Figure size 648x432 with 1 Axes>"
      ]
     },
     "metadata": {
      "needs_background": "light"
     },
     "output_type": "display_data"
    }
   ],
   "source": [
    "#column sums of the assignment: number of reviews per reviewer\n",
    "col_sum=[]\n",
    "print(np.count_nonzero(assignment))\n",
    "for el in assignment:\n",
    "    col_sum.append(np.count_nonzero(el))#print(np.count_nonzero(el))\n",
    "\n",
    "#print(np.column_stack((og_rev_idx,col_sum)))\n",
    "\n",
    "plt.hist(col_sum, histtype='step', bins=range(np.min(col_sum), 2+np.max(col_sum)),linewidth=4, color='k',label='number of reviewers with this many allocations')\n",
    "#bins=np.max(col_sum) - np.min(col_sum)\n",
    "plt.legend()\n",
    "plt.savefig('reviewers_hist.png')\n",
    "\n",
    "np.max(col_sum) - np.min(col_sum)+1"
   ]
  },
  {
   "cell_type": "code",
   "execution_count": 27,
   "metadata": {
    "colab": {
     "base_uri": "https://localhost:8080/"
    },
    "id": "RyVgEe-qVfed",
    "outputId": "1f48f987-38ce-4202-a25e-1d2184e9457d"
   },
   "outputs": [
    {
     "name": "stdout",
     "output_type": "stream",
     "text": [
      "final conflicts: 0\n"
     ]
    }
   ],
   "source": [
    "# check for conflicts of interest in final assignment\n",
    "\n",
    "icm = np.where(conflict_mask == 1, 0, 1)\n",
    "#zeroes_mask = np.where(np.array(df_rev_score.transpose()) > 0., 1, 0)[1:-1]\n",
    "final_conflicts = assignment * icm\n",
    "print('final conflicts:', np.count_nonzero(final_conflicts))\n",
    "#icm[6], conflict_mask[6]"
   ]
  },
  {
   "cell_type": "code",
   "execution_count": null,
   "metadata": {
    "id": "Cp1W8todVfed"
   },
   "outputs": [],
   "source": [
    "# check no assignments outside observation category\n",
    "\n"
   ]
  },
  {
   "cell_type": "code",
   "execution_count": 28,
   "metadata": {
    "colab": {
     "base_uri": "https://localhost:8080/",
     "height": 463
    },
    "id": "w0w4yiClVfee",
    "outputId": "3b66a89c-22d9-4847-ea79-468311ccc068"
   },
   "outputs": [
    {
     "name": "stdout",
     "output_type": "stream",
     "text": [
      "Fernando's (random) matrix zeros:  76\n",
      "Fernando's (random) Extended zeros:  206\n",
      "Random Extended: mean, median 2.759453781512605 3.0\n",
      "2627.0 952 2.759453781512605\n",
      "Random: mean, median 4.0 3.414772727272727 0.0 452 746\n"
     ]
    },
    {
     "data": {
      "image/png": "[encoded data removed]",
      "text/plain": [
       "<Figure size 648x432 with 1 Axes>"
      ]
     },
     "metadata": {
      "needs_background": "light"
     },
     "output_type": "display_data"
    }
   ],
   "source": [
    "# VERIFICATION:\n",
    "# Essentially this answers the question of what would be the base case? \n",
    "# What distribution of scores would a random assignment yield?\n",
    "\n",
    "# -----------\n",
    "# RANDOM Fernando's Matrix (reviewer score distribution)\n",
    "# -----------\n",
    "\n",
    "# random gene_matrix\n",
    "r_gene_matrix = np.random.randint(0, n_r, size=(n_p,4))\n",
    "r_gene_matrix+1\n",
    "\n",
    "# max reviewer score matrix ('Fernando's Matrix')\n",
    "rev_max_arr = np.zeros((n_p, 4))\n",
    "# all reviewer score list ('Extended Fernando's List')\n",
    "all_assigned_affinities = []\n",
    "\n",
    "\n",
    "for cell_idx, topic_set in enumerate(df_cat['Category_List']):#iterate over proposals\n",
    "    rev_a = np.zeros(4)\n",
    "    for topic in topic_set: #iterate over topic proposals\n",
    "        #if ((topic != 14) and (topic != 15)):\n",
    "        if (topic <= 13):\n",
    "            for rev_idx, rev in enumerate(r_gene_matrix[cell_idx]):#iterate over reviewers\n",
    "                rev_a[rev_idx] = np.maximum(rev_a[rev_idx], rev_scores[topic-1][rev])\n",
    "                all_assigned_affinities.append(rev_scores[topic-1][rev])\n",
    "                #print(cell_idx, topic, rev_idx, rev, rev_scores[topic-1][rev])\n",
    "                \n",
    "    #print(rev_a)\n",
    "    rev_max_arr[cell_idx] = rev_a\n",
    "    \n",
    "print('Fernando\\'s (random) matrix zeros: ', rev_max_arr.flatten().shape[0] - np.count_nonzero(rev_max_arr))\n",
    "print('Fernando\\'s (random) Extended zeros: ', len(all_assigned_affinities) - np.count_nonzero(np.array(all_assigned_affinities)))\n",
    "\n",
    "plt.hist(all_assigned_affinities, histtype='step', linewidth=3, bins=1000)\n",
    "\n",
    "print('Random Extended: mean, median', np.mean(all_assigned_affinities), np.median(all_assigned_affinities))\n",
    "print(np.sum(all_assigned_affinities), len(all_assigned_affinities), np.sum(all_assigned_affinities)/len(all_assigned_affinities))\n",
    "\n",
    "np.mean(rev_max_arr.sum(axis=1))\n",
    "\n",
    "plt.hist(rev_max_arr.astype(int).flatten(), histtype='step', linewidth=3, bins=1000)#.sum(axis=0)\n",
    "print('Random: mean, median',np.median(rev_max_arr), np.mean(rev_max_arr), np.min(rev_max_arr.sum(axis=1)), np.count_nonzero(rev_max_arr.astype(int).flatten()), np.count_nonzero(all_assigned_affinities))\n",
    "\n",
    "plt.savefig('random_hist.png')"
   ]
  },
  {
   "cell_type": "code",
   "execution_count": null,
   "metadata": {
    "id": "oOvwScR_Vfee"
   },
   "outputs": [],
   "source": []
  }
 ],
 "metadata": {
  "colab": {
   "name": "MKP_RAP_8_0.ipynb",
   "provenance": []
  },
  "kernelspec": {
   "display_name": "Python 3 (ipykernel)",
   "language": "python",
   "name": "python3"
  },
  "language_info": {
   "codemirror_mode": {
    "name": "ipython",
    "version": 3
   },
   "file_extension": ".py",
   "mimetype": "text/x-python",
   "name": "python",
   "nbconvert_exporter": "python",
   "pygments_lexer": "ipython3",
   "version": "3.9.6"
  }
 },
 "nbformat": 4,
 "nbformat_minor": 1
}
