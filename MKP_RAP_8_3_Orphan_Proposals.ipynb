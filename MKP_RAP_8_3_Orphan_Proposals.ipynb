{
 "cells": [
  {
   "cell_type": "markdown",
   "metadata": {
    "id": "DUsC2Di3VfeL"
   },
   "source": [
    "# MeerKAT Proposal Reviewer Allocation Problem\n",
    "\n",
    "Richard Armstrong \n",
    "June 2022\n",
    "\n",
    "Solve the Reviewer Assignment Problem for a set of MeerKAT Proposals\n",
    "\n",
    "REQUIREMENTS\n",
    "* Reviewers must have between 10 and 20 proposals to review \n",
    "* Some reviewers have requested a maximum of 10 proposals\n",
    "* Proposals are reviewed 4 times each (`coverage`)\n",
    "* Must exclude reviewers from reviewing proposals they are involved in"
   ]
  },
  {
   "cell_type": "code",
   "execution_count": 1,
   "metadata": {
    "id": "dmf7jADSVfeP"
   },
   "outputs": [],
   "source": [
    "#!pip install --upgrade pip\n",
    "#!pip install numpy matplotlib pandas openpyxl cvxopt"
   ]
  },
  {
   "cell_type": "code",
   "execution_count": 2,
   "metadata": {
    "id": "Xa_XtsqLVfeQ"
   },
   "outputs": [],
   "source": [
    "import numpy as np\n",
    "import pandas as pd\n",
    "\n",
    "import matplotlib\n",
    "import matplotlib.pyplot as plt\n",
    "import matplotlib.pylab as pylab\n",
    "\n",
    "from numpy import genfromtxt\n",
    "\n",
    "%matplotlib inline \n",
    "pylab.rcParams['figure.figsize'] = 9, 6"
   ]
  },
  {
   "cell_type": "code",
   "execution_count": null,
   "metadata": {
    "id": "5lr4i7-BVzNI"
   },
   "outputs": [],
   "source": []
  },
  {
   "cell_type": "code",
   "execution_count": 3,
   "metadata": {
    "id": "WVHGBfFsVfeR"
   },
   "outputs": [],
   "source": [
    "coverage = 1   # Number of reviews per proposal\n",
    "lower_bound_reviewer_load = 10 # Minimum number of reviews per reviewer"
   ]
  },
  {
   "cell_type": "markdown",
   "metadata": {
    "id": "iw_KCEa4VfeS"
   },
   "source": [
    "## Load Data"
   ]
  },
  {
   "cell_type": "code",
   "execution_count": 4,
   "metadata": {},
   "outputs": [],
   "source": [
    "sci_cat = pd.read_csv('scientific_categories_MKT-22.csv', sep=',')\n",
    "sc_dict = dict(sci_cat['CATEGORY NAME'])\n",
    "sd = dict(zip(list(sc_dict.values()), list(sc_dict.keys())))\n"
   ]
  },
  {
   "cell_type": "code",
   "execution_count": 65,
   "metadata": {
    "colab": {
     "base_uri": "https://localhost:8080/",
     "height": 424
    },
    "id": "NSoVQv1RVfeS",
    "outputId": "5035f1ab-ff75-42bf-844a-20211151cf19"
   },
   "outputs": [
    {
     "data": {
      "text/plain": [
       "(       PSS ID CATEGORY LIST\n",
       " 0   MKT-22005        [2, 3]\n",
       " 1   MKT-22006           [3]\n",
       " 2   MKT-22008        [2, 3]\n",
       " 3   MKT-22013        [1, 3]\n",
       " 4   MKT-22015           [3]\n",
       " ..        ...           ...\n",
       " 59  MKT-22146     [1, 4, 5]\n",
       " 60  MKT-22149           [3]\n",
       " 61  MKT-22150           [2]\n",
       " 62  MKT-22153           [2]\n",
       " 63  MKT-22159     [1, 3, 4]\n",
       " \n",
       " [64 rows x 2 columns],\n",
       " 64)"
      ]
     },
     "execution_count": 65,
     "metadata": {},
     "output_type": "execute_result"
    }
   ],
   "source": [
    "# load the list of proposals and their categories into a dataframe\n",
    "\n",
    "df_cat = pd.read_csv('proposal_scientific_categories_MKT-22.csv', sep=';')\n",
    "orphan_cat = pd.read_csv('Orphan_proposals.csv', sep=',',usecols = ['PSS ID','CATEGORY LIST'])\n",
    "#df_cat['Category_List'] = df_cat['CATEGORY LIST'].apply(lambda x: eval(x))\n",
    "\n",
    "\n",
    "\n",
    "for idx, sl in enumerate(orphan_cat['CATEGORY LIST']):\n",
    "    cat_list = []\n",
    "    for cat in sl.split('; '):\n",
    "        cat_list.append(sd[cat])\n",
    "    orphan_cat['CATEGORY LIST'][idx] = cat_list\n",
    "    \n",
    "#orphan_cat['Category_List'] = orphan_cat['CATEGORY LIST'].apply(lambda x: eval(x))\n",
    "df_cat = orphan_cat\n",
    "n_p = n_proposals = len(df_cat)\n",
    "df_cat, n_p"
   ]
  },
  {
   "cell_type": "code",
   "execution_count": null,
   "metadata": {},
   "outputs": [],
   "source": []
  },
  {
   "cell_type": "code",
   "execution_count": null,
   "metadata": {},
   "outputs": [],
   "source": []
  },
  {
   "cell_type": "code",
   "execution_count": 11,
   "metadata": {
    "colab": {
     "base_uri": "https://localhost:8080/",
     "height": 833
    },
    "id": "aF5LWYz5VfeT",
    "outputId": "2ae9034b-b8a3-4c02-84c1-2984d1fad33b"
   },
   "outputs": [
    {
     "name": "stdout",
     "output_type": "stream",
     "text": [
      "(33, 3)\n",
      "(5, 3)\n"
     ]
    },
    {
     "data": {
      "text/html": [
       "<div>\n",
       "<style scoped>\n",
       "    .dataframe tbody tr th:only-of-type {\n",
       "        vertical-align: middle;\n",
       "    }\n",
       "\n",
       "    .dataframe tbody tr th {\n",
       "        vertical-align: top;\n",
       "    }\n",
       "\n",
       "    .dataframe thead th {\n",
       "        text-align: right;\n",
       "    }\n",
       "</style>\n",
       "<table border=\"1\" class=\"dataframe\">\n",
       "  <thead>\n",
       "    <tr style=\"text-align: right;\">\n",
       "      <th></th>\n",
       "      <th>ID</th>\n",
       "      <th>PROPOSAL LIST</th>\n",
       "      <th>Proposals</th>\n",
       "    </tr>\n",
       "  </thead>\n",
       "  <tbody>\n",
       "    <tr>\n",
       "      <th>1</th>\n",
       "      <td>7</td>\n",
       "      <td>[MKT-22043,MKT-22054]</td>\n",
       "      <td>[MKT-22043, MKT-22054]</td>\n",
       "    </tr>\n",
       "    <tr>\n",
       "      <th>4</th>\n",
       "      <td>12</td>\n",
       "      <td>[MKT-22004,MKT-22029,MKT-22032,MKT-22059,MKT-2...</td>\n",
       "      <td>[MKT-22004, MKT-22029, MKT-22032, MKT-22059, M...</td>\n",
       "    </tr>\n",
       "    <tr>\n",
       "      <th>13</th>\n",
       "      <td>31</td>\n",
       "      <td>[MKT-22033]</td>\n",
       "      <td>[MKT-22033]</td>\n",
       "    </tr>\n",
       "    <tr>\n",
       "      <th>20</th>\n",
       "      <td>39</td>\n",
       "      <td>[MKT-22135]</td>\n",
       "      <td>[MKT-22135]</td>\n",
       "    </tr>\n",
       "    <tr>\n",
       "      <th>29</th>\n",
       "      <td>54</td>\n",
       "      <td>[MKT-22004,MKT-22023,MKT-22025,MKT-22086,MKT-2...</td>\n",
       "      <td>[MKT-22004, MKT-22023, MKT-22025, MKT-22086, M...</td>\n",
       "    </tr>\n",
       "  </tbody>\n",
       "</table>\n",
       "</div>"
      ],
      "text/plain": [
       "    ID                                      PROPOSAL LIST  \\\n",
       "1    7                              [MKT-22043,MKT-22054]   \n",
       "4   12  [MKT-22004,MKT-22029,MKT-22032,MKT-22059,MKT-2...   \n",
       "13  31                                        [MKT-22033]   \n",
       "20  39                                        [MKT-22135]   \n",
       "29  54  [MKT-22004,MKT-22023,MKT-22025,MKT-22086,MKT-2...   \n",
       "\n",
       "                                            Proposals  \n",
       "1                              [MKT-22043, MKT-22054]  \n",
       "4   [MKT-22004, MKT-22029, MKT-22032, MKT-22059, M...  \n",
       "13                                        [MKT-22033]  \n",
       "20                                        [MKT-22135]  \n",
       "29  [MKT-22004, MKT-22023, MKT-22025, MKT-22086, M...  "
      ]
     },
     "execution_count": 11,
     "metadata": {},
     "output_type": "execute_result"
    }
   ],
   "source": [
    "# load the reviewer conflict dataframe\n",
    "df_conflict = pd.read_csv('science_cross_check_MKT-22.csv', sep=';')\n",
    "df_conflict['Proposals'] = df_conflict['PROPOSAL LIST'].apply(lambda x: x.strip('][').split(','))\n",
    "print(df_conflict.shape)\n",
    "\n",
    "\n",
    "for idx,conflict in enumerate(df_conflict['ID']):\n",
    "    if conflict not in [1,2,7,12,31,39,42,54]:\n",
    "        df_conflict.drop(idx, axis=0, inplace=True)\n",
    "\n",
    "        #pd.concat([df_panel_conflict, df_conflict[df_conflict['ID'] == conflict]])\n",
    "\n",
    "print(df_conflict.shape)\n",
    "df_conflict"
   ]
  },
  {
   "cell_type": "code",
   "execution_count": 12,
   "metadata": {},
   "outputs": [
    {
     "data": {
      "text/plain": [
       "array([1., 1., 1., 1., 0., 1., 0., 0., 0., 1., 1., 1., 1., 1., 0., 1., 1.,\n",
       "       1., 1., 1., 0., 1., 1., 1., 0., 1., 0., 1., 0., 1., 0., 1., 0., 1.,\n",
       "       1., 0., 1., 0., 0., 1., 0., 0., 1., 1., 1., 1., 1.])"
      ]
     },
     "execution_count": 12,
     "metadata": {},
     "output_type": "execute_result"
    }
   ],
   "source": [
    "roe = np.genfromtxt('reviewer_observation_expertise_MKT-22.csv', delimiter=',', skip_header=1)\n",
    "#poc = np.genfromtxt('proposal_observation_categories_MKT-22.csv', delimiter=',',skip_header=1)\n",
    "#roe, poc\n",
    "\n",
    "roe[:,1]"
   ]
  },
  {
   "cell_type": "code",
   "execution_count": 18,
   "metadata": {},
   "outputs": [
    {
     "name": "stdout",
     "output_type": "stream",
     "text": [
      "    REVIEWER ID  CATEGORY 1  CATEGORY 2  CATEGORY 3  CATEGORY 4  CATEGORY 5  \\\n",
      "46            1           5           4           2           5           2   \n",
      "\n",
      "    CATEGORY 6  CATEGORY 7  CATEGORY 8  CATEGORY 9  CATEGORY 10  CATEGORY 11  \\\n",
      "46           5           2           2           2            2            2   \n",
      "\n",
      "    CATEGORY 12  CATEGORY 13  \n",
      "46            2            2       REVIEWER ID  CATEGORY 1  CATEGORY 2  CATEGORY 3  CATEGORY 4  CATEGORY 5  \\\n",
      "46            1           5           4           2           5           2   \n",
      "\n",
      "    CATEGORY 6  CATEGORY 7  CATEGORY 8  CATEGORY 9  CATEGORY 10  CATEGORY 11  \\\n",
      "46           5           2           2           2            2            2   \n",
      "\n",
      "    CATEGORY 12  CATEGORY 13  \n",
      "46            2            2  \n"
     ]
    },
    {
     "name": "stderr",
     "output_type": "stream",
     "text": [
      "/var/folders/sv/qb42549d40g_hkh5d0zdkw340000gn/T/ipykernel_33060/2627860443.py:9: SettingWithCopyWarning: \n",
      "A value is trying to be set on a copy of a slice from a DataFrame.\n",
      "Try using .loc[row_indexer,col_indexer] = value instead\n",
      "\n",
      "See the caveats in the documentation: https://pandas.pydata.org/pandas-docs/stable/user_guide/indexing.html#returning-a-view-versus-a-copy\n",
      "  Roger['REVIEWER ID'] = 1\n",
      "/var/folders/sv/qb42549d40g_hkh5d0zdkw340000gn/T/ipykernel_33060/2627860443.py:10: SettingWithCopyWarning: \n",
      "A value is trying to be set on a copy of a slice from a DataFrame.\n",
      "Try using .loc[row_indexer,col_indexer] = value instead\n",
      "\n",
      "See the caveats in the documentation: https://pandas.pydata.org/pandas-docs/stable/user_guide/indexing.html#returning-a-view-versus-a-copy\n",
      "  Roger['CATEGORY 1'] = 5\n",
      "/var/folders/sv/qb42549d40g_hkh5d0zdkw340000gn/T/ipykernel_33060/2627860443.py:11: SettingWithCopyWarning: \n",
      "A value is trying to be set on a copy of a slice from a DataFrame.\n",
      "Try using .loc[row_indexer,col_indexer] = value instead\n",
      "\n",
      "See the caveats in the documentation: https://pandas.pydata.org/pandas-docs/stable/user_guide/indexing.html#returning-a-view-versus-a-copy\n",
      "  Roger['CATEGORY 2'] = 4\n",
      "/var/folders/sv/qb42549d40g_hkh5d0zdkw340000gn/T/ipykernel_33060/2627860443.py:12: SettingWithCopyWarning: \n",
      "A value is trying to be set on a copy of a slice from a DataFrame.\n",
      "Try using .loc[row_indexer,col_indexer] = value instead\n",
      "\n",
      "See the caveats in the documentation: https://pandas.pydata.org/pandas-docs/stable/user_guide/indexing.html#returning-a-view-versus-a-copy\n",
      "  Roger['CATEGORY 3'] = 2\n",
      "/var/folders/sv/qb42549d40g_hkh5d0zdkw340000gn/T/ipykernel_33060/2627860443.py:13: SettingWithCopyWarning: \n",
      "A value is trying to be set on a copy of a slice from a DataFrame.\n",
      "Try using .loc[row_indexer,col_indexer] = value instead\n",
      "\n",
      "See the caveats in the documentation: https://pandas.pydata.org/pandas-docs/stable/user_guide/indexing.html#returning-a-view-versus-a-copy\n",
      "  Roger['CATEGORY 4'] = 5\n",
      "/var/folders/sv/qb42549d40g_hkh5d0zdkw340000gn/T/ipykernel_33060/2627860443.py:14: SettingWithCopyWarning: \n",
      "A value is trying to be set on a copy of a slice from a DataFrame.\n",
      "Try using .loc[row_indexer,col_indexer] = value instead\n",
      "\n",
      "See the caveats in the documentation: https://pandas.pydata.org/pandas-docs/stable/user_guide/indexing.html#returning-a-view-versus-a-copy\n",
      "  Roger['CATEGORY 5'] = 2\n",
      "/var/folders/sv/qb42549d40g_hkh5d0zdkw340000gn/T/ipykernel_33060/2627860443.py:15: SettingWithCopyWarning: \n",
      "A value is trying to be set on a copy of a slice from a DataFrame.\n",
      "Try using .loc[row_indexer,col_indexer] = value instead\n",
      "\n",
      "See the caveats in the documentation: https://pandas.pydata.org/pandas-docs/stable/user_guide/indexing.html#returning-a-view-versus-a-copy\n",
      "  Roger['CATEGORY 6'] = 5\n",
      "/var/folders/sv/qb42549d40g_hkh5d0zdkw340000gn/T/ipykernel_33060/2627860443.py:16: SettingWithCopyWarning: \n",
      "A value is trying to be set on a copy of a slice from a DataFrame.\n",
      "Try using .loc[row_indexer,col_indexer] = value instead\n",
      "\n",
      "See the caveats in the documentation: https://pandas.pydata.org/pandas-docs/stable/user_guide/indexing.html#returning-a-view-versus-a-copy\n",
      "  Roger['CATEGORY 7'] = 2\n",
      "/var/folders/sv/qb42549d40g_hkh5d0zdkw340000gn/T/ipykernel_33060/2627860443.py:17: SettingWithCopyWarning: \n",
      "A value is trying to be set on a copy of a slice from a DataFrame.\n",
      "Try using .loc[row_indexer,col_indexer] = value instead\n",
      "\n",
      "See the caveats in the documentation: https://pandas.pydata.org/pandas-docs/stable/user_guide/indexing.html#returning-a-view-versus-a-copy\n",
      "  Roger['CATEGORY 8'] = 2\n",
      "/var/folders/sv/qb42549d40g_hkh5d0zdkw340000gn/T/ipykernel_33060/2627860443.py:18: SettingWithCopyWarning: \n",
      "A value is trying to be set on a copy of a slice from a DataFrame.\n",
      "Try using .loc[row_indexer,col_indexer] = value instead\n",
      "\n",
      "See the caveats in the documentation: https://pandas.pydata.org/pandas-docs/stable/user_guide/indexing.html#returning-a-view-versus-a-copy\n",
      "  Roger['CATEGORY 9'] = 2\n",
      "/var/folders/sv/qb42549d40g_hkh5d0zdkw340000gn/T/ipykernel_33060/2627860443.py:19: SettingWithCopyWarning: \n",
      "A value is trying to be set on a copy of a slice from a DataFrame.\n",
      "Try using .loc[row_indexer,col_indexer] = value instead\n",
      "\n",
      "See the caveats in the documentation: https://pandas.pydata.org/pandas-docs/stable/user_guide/indexing.html#returning-a-view-versus-a-copy\n",
      "  Roger['CATEGORY 10'] = 2\n",
      "/var/folders/sv/qb42549d40g_hkh5d0zdkw340000gn/T/ipykernel_33060/2627860443.py:20: SettingWithCopyWarning: \n",
      "A value is trying to be set on a copy of a slice from a DataFrame.\n",
      "Try using .loc[row_indexer,col_indexer] = value instead\n",
      "\n",
      "See the caveats in the documentation: https://pandas.pydata.org/pandas-docs/stable/user_guide/indexing.html#returning-a-view-versus-a-copy\n",
      "  Roger['CATEGORY 11'] = 2\n",
      "/var/folders/sv/qb42549d40g_hkh5d0zdkw340000gn/T/ipykernel_33060/2627860443.py:21: SettingWithCopyWarning: \n",
      "A value is trying to be set on a copy of a slice from a DataFrame.\n",
      "Try using .loc[row_indexer,col_indexer] = value instead\n",
      "\n",
      "See the caveats in the documentation: https://pandas.pydata.org/pandas-docs/stable/user_guide/indexing.html#returning-a-view-versus-a-copy\n",
      "  Roger['CATEGORY 12'] = 2\n",
      "/var/folders/sv/qb42549d40g_hkh5d0zdkw340000gn/T/ipykernel_33060/2627860443.py:22: SettingWithCopyWarning: \n",
      "A value is trying to be set on a copy of a slice from a DataFrame.\n",
      "Try using .loc[row_indexer,col_indexer] = value instead\n",
      "\n",
      "See the caveats in the documentation: https://pandas.pydata.org/pandas-docs/stable/user_guide/indexing.html#returning-a-view-versus-a-copy\n",
      "  Roger['CATEGORY 13'] = 2\n",
      "/var/folders/sv/qb42549d40g_hkh5d0zdkw340000gn/T/ipykernel_33060/2627860443.py:25: FutureWarning: The frame.append method is deprecated and will be removed from pandas in a future version. Use pandas.concat instead.\n",
      "  panel_score = panel_score.append(Roger)\n",
      "/var/folders/sv/qb42549d40g_hkh5d0zdkw340000gn/T/ipykernel_33060/2627860443.py:31: FutureWarning: The frame.append method is deprecated and will be removed from pandas in a future version. Use pandas.concat instead.\n",
      "  panel_score = panel_score.append(df_rev_score[df_rev_score['REVIEWER ID']==el])\n",
      "/var/folders/sv/qb42549d40g_hkh5d0zdkw340000gn/T/ipykernel_33060/2627860443.py:31: FutureWarning: The frame.append method is deprecated and will be removed from pandas in a future version. Use pandas.concat instead.\n",
      "  panel_score = panel_score.append(df_rev_score[df_rev_score['REVIEWER ID']==el])\n",
      "/var/folders/sv/qb42549d40g_hkh5d0zdkw340000gn/T/ipykernel_33060/2627860443.py:31: FutureWarning: The frame.append method is deprecated and will be removed from pandas in a future version. Use pandas.concat instead.\n",
      "  panel_score = panel_score.append(df_rev_score[df_rev_score['REVIEWER ID']==el])\n",
      "/var/folders/sv/qb42549d40g_hkh5d0zdkw340000gn/T/ipykernel_33060/2627860443.py:31: FutureWarning: The frame.append method is deprecated and will be removed from pandas in a future version. Use pandas.concat instead.\n",
      "  panel_score = panel_score.append(df_rev_score[df_rev_score['REVIEWER ID']==el])\n",
      "/var/folders/sv/qb42549d40g_hkh5d0zdkw340000gn/T/ipykernel_33060/2627860443.py:31: FutureWarning: The frame.append method is deprecated and will be removed from pandas in a future version. Use pandas.concat instead.\n",
      "  panel_score = panel_score.append(df_rev_score[df_rev_score['REVIEWER ID']==el])\n",
      "/var/folders/sv/qb42549d40g_hkh5d0zdkw340000gn/T/ipykernel_33060/2627860443.py:31: FutureWarning: The frame.append method is deprecated and will be removed from pandas in a future version. Use pandas.concat instead.\n",
      "  panel_score = panel_score.append(df_rev_score[df_rev_score['REVIEWER ID']==el])\n",
      "/var/folders/sv/qb42549d40g_hkh5d0zdkw340000gn/T/ipykernel_33060/2627860443.py:31: FutureWarning: The frame.append method is deprecated and will be removed from pandas in a future version. Use pandas.concat instead.\n",
      "  panel_score = panel_score.append(df_rev_score[df_rev_score['REVIEWER ID']==el])\n",
      "/var/folders/sv/qb42549d40g_hkh5d0zdkw340000gn/T/ipykernel_33060/2627860443.py:31: FutureWarning: The frame.append method is deprecated and will be removed from pandas in a future version. Use pandas.concat instead.\n",
      "  panel_score = panel_score.append(df_rev_score[df_rev_score['REVIEWER ID']==el])\n"
     ]
    },
    {
     "data": {
      "text/html": [
       "<div>\n",
       "<style scoped>\n",
       "    .dataframe tbody tr th:only-of-type {\n",
       "        vertical-align: middle;\n",
       "    }\n",
       "\n",
       "    .dataframe tbody tr th {\n",
       "        vertical-align: top;\n",
       "    }\n",
       "\n",
       "    .dataframe thead th {\n",
       "        text-align: right;\n",
       "    }\n",
       "</style>\n",
       "<table border=\"1\" class=\"dataframe\">\n",
       "  <thead>\n",
       "    <tr style=\"text-align: right;\">\n",
       "      <th></th>\n",
       "      <th>CATEGORY ID</th>\n",
       "      <th>1</th>\n",
       "      <th>2</th>\n",
       "      <th>3</th>\n",
       "      <th>4</th>\n",
       "      <th>5</th>\n",
       "      <th>6</th>\n",
       "      <th>7</th>\n",
       "      <th>8</th>\n",
       "      <th>9</th>\n",
       "      <th>10</th>\n",
       "      <th>11</th>\n",
       "      <th>12</th>\n",
       "      <th>13</th>\n",
       "      <th>N_max</th>\n",
       "    </tr>\n",
       "  </thead>\n",
       "  <tbody>\n",
       "    <tr>\n",
       "      <th>46</th>\n",
       "      <td>1</td>\n",
       "      <td>5</td>\n",
       "      <td>4</td>\n",
       "      <td>2</td>\n",
       "      <td>5</td>\n",
       "      <td>2</td>\n",
       "      <td>5</td>\n",
       "      <td>2</td>\n",
       "      <td>2</td>\n",
       "      <td>2</td>\n",
       "      <td>2</td>\n",
       "      <td>2</td>\n",
       "      <td>2</td>\n",
       "      <td>2</td>\n",
       "      <td>1.0</td>\n",
       "    </tr>\n",
       "    <tr>\n",
       "      <th>0</th>\n",
       "      <td>2</td>\n",
       "      <td>1</td>\n",
       "      <td>0</td>\n",
       "      <td>2</td>\n",
       "      <td>3</td>\n",
       "      <td>0</td>\n",
       "      <td>3</td>\n",
       "      <td>3</td>\n",
       "      <td>5</td>\n",
       "      <td>2</td>\n",
       "      <td>6</td>\n",
       "      <td>4</td>\n",
       "      <td>2</td>\n",
       "      <td>2</td>\n",
       "      <td>1.0</td>\n",
       "    </tr>\n",
       "    <tr>\n",
       "      <th>3</th>\n",
       "      <td>7</td>\n",
       "      <td>6</td>\n",
       "      <td>5</td>\n",
       "      <td>3</td>\n",
       "      <td>4</td>\n",
       "      <td>4</td>\n",
       "      <td>3</td>\n",
       "      <td>2</td>\n",
       "      <td>2</td>\n",
       "      <td>2</td>\n",
       "      <td>4</td>\n",
       "      <td>2</td>\n",
       "      <td>2</td>\n",
       "      <td>2</td>\n",
       "      <td>1.0</td>\n",
       "    </tr>\n",
       "    <tr>\n",
       "      <th>6</th>\n",
       "      <td>12</td>\n",
       "      <td>4</td>\n",
       "      <td>3</td>\n",
       "      <td>6</td>\n",
       "      <td>3</td>\n",
       "      <td>4</td>\n",
       "      <td>4</td>\n",
       "      <td>5</td>\n",
       "      <td>3</td>\n",
       "      <td>1</td>\n",
       "      <td>3</td>\n",
       "      <td>2</td>\n",
       "      <td>2</td>\n",
       "      <td>1</td>\n",
       "      <td>1.0</td>\n",
       "    </tr>\n",
       "    <tr>\n",
       "      <th>17</th>\n",
       "      <td>31</td>\n",
       "      <td>5</td>\n",
       "      <td>2</td>\n",
       "      <td>4</td>\n",
       "      <td>5</td>\n",
       "      <td>5</td>\n",
       "      <td>5</td>\n",
       "      <td>2</td>\n",
       "      <td>2</td>\n",
       "      <td>0</td>\n",
       "      <td>5</td>\n",
       "      <td>0</td>\n",
       "      <td>2</td>\n",
       "      <td>0</td>\n",
       "      <td>1.0</td>\n",
       "    </tr>\n",
       "    <tr>\n",
       "      <th>25</th>\n",
       "      <td>39</td>\n",
       "      <td>6</td>\n",
       "      <td>4</td>\n",
       "      <td>6</td>\n",
       "      <td>6</td>\n",
       "      <td>6</td>\n",
       "      <td>4</td>\n",
       "      <td>1</td>\n",
       "      <td>3</td>\n",
       "      <td>0</td>\n",
       "      <td>4</td>\n",
       "      <td>0</td>\n",
       "      <td>0</td>\n",
       "      <td>0</td>\n",
       "      <td>1.0</td>\n",
       "    </tr>\n",
       "    <tr>\n",
       "      <th>28</th>\n",
       "      <td>42</td>\n",
       "      <td>2</td>\n",
       "      <td>2</td>\n",
       "      <td>2</td>\n",
       "      <td>2</td>\n",
       "      <td>1</td>\n",
       "      <td>4</td>\n",
       "      <td>4</td>\n",
       "      <td>3</td>\n",
       "      <td>6</td>\n",
       "      <td>2</td>\n",
       "      <td>2</td>\n",
       "      <td>4</td>\n",
       "      <td>6</td>\n",
       "      <td>1.0</td>\n",
       "    </tr>\n",
       "    <tr>\n",
       "      <th>40</th>\n",
       "      <td>54</td>\n",
       "      <td>6</td>\n",
       "      <td>0</td>\n",
       "      <td>6</td>\n",
       "      <td>0</td>\n",
       "      <td>5</td>\n",
       "      <td>4</td>\n",
       "      <td>3</td>\n",
       "      <td>0</td>\n",
       "      <td>0</td>\n",
       "      <td>0</td>\n",
       "      <td>0</td>\n",
       "      <td>0</td>\n",
       "      <td>0</td>\n",
       "      <td>1.0</td>\n",
       "    </tr>\n",
       "  </tbody>\n",
       "</table>\n",
       "</div>"
      ],
      "text/plain": [
       "    CATEGORY ID  1  2  3  4  5  6  7  8  9  10  11  12  13  N_max\n",
       "46            1  5  4  2  5  2  5  2  2  2   2   2   2   2    1.0\n",
       "0             2  1  0  2  3  0  3  3  5  2   6   4   2   2    1.0\n",
       "3             7  6  5  3  4  4  3  2  2  2   4   2   2   2    1.0\n",
       "6            12  4  3  6  3  4  4  5  3  1   3   2   2   1    1.0\n",
       "17           31  5  2  4  5  5  5  2  2  0   5   0   2   0    1.0\n",
       "25           39  6  4  6  6  6  4  1  3  0   4   0   0   0    1.0\n",
       "28           42  2  2  2  2  1  4  4  3  6   2   2   4   6    1.0\n",
       "40           54  6  0  6  0  5  4  3  0  0   0   0   0   0    1.0"
      ]
     },
     "execution_count": 18,
     "metadata": {},
     "output_type": "execute_result"
    }
   ],
   "source": [
    "# load the self-identified reviewer competency scores per catagory into a dataframe\n",
    "\n",
    "df_rev_score = pd.read_csv('reviewer_scientific_expertise_MKT-22.csv')\n",
    "# df_rev_score.index = df_rev_score['REVIEWER ID']\n",
    "\n",
    "# now we have to delete the reviewers who aren't panel members, and add Roger\n",
    "\n",
    "Roger = df_rev_score[df_rev_score['REVIEWER ID']==61]\n",
    "Roger['REVIEWER ID'] = 1\n",
    "\n",
    "Roger['CATEGORY 1'] = 5\n",
    "Roger['CATEGORY 2'] = 4\n",
    "Roger['CATEGORY 3'] = 2\n",
    "Roger['CATEGORY 4'] = 5\n",
    "Roger['CATEGORY 5'] = 2\n",
    "Roger['CATEGORY 6'] = 5\n",
    "Roger['CATEGORY 7'] = 2\n",
    "Roger['CATEGORY 8'] = 2\n",
    "Roger['CATEGORY 9'] = 2\n",
    "Roger['CATEGORY 10'] = 2\n",
    "Roger['CATEGORY 11'] = 2\n",
    "Roger['CATEGORY 12'] = 2\n",
    "Roger['CATEGORY 13'] = 2\n",
    "\n",
    "panel_score = pd.DataFrame()\n",
    "panel_score = panel_score.append(Roger)\n",
    "print(Roger, panel_score)\n",
    "\n",
    "p_score = pd.read_csv('MKT-22_panel_reviewers_expertise_anon.csv')\n",
    "\n",
    "for el in np.array(p_score['ID']):\n",
    "    panel_score = panel_score.append(df_rev_score[df_rev_score['REVIEWER ID']==el])\n",
    "\n",
    "n_panelists = len(panel_score)\n",
    "panel_score['N_max'] = np.ones(n_panelists)\n",
    "panel_score.columns = ['CATEGORY ID',1,2,3,4,5,6,7,8,9,10,11,12,13,'N_max']\n",
    "og_pan_idx = np.array(panel_score['CATEGORY ID'])\n",
    "panel_score"
   ]
  },
  {
   "cell_type": "code",
   "execution_count": 14,
   "metadata": {
    "colab": {
     "base_uri": "https://localhost:8080/",
     "height": 677
    },
    "id": "ujpk5P-oVfeU",
    "outputId": "e30e3400-ac79-4e6b-d9af-0c36db03c580"
   },
   "outputs": [
    {
     "data": {
      "text/html": [
       "<div>\n",
       "<style scoped>\n",
       "    .dataframe tbody tr th:only-of-type {\n",
       "        vertical-align: middle;\n",
       "    }\n",
       "\n",
       "    .dataframe tbody tr th {\n",
       "        vertical-align: top;\n",
       "    }\n",
       "\n",
       "    .dataframe thead th {\n",
       "        text-align: right;\n",
       "    }\n",
       "</style>\n",
       "<table border=\"1\" class=\"dataframe\">\n",
       "  <thead>\n",
       "    <tr style=\"text-align: right;\">\n",
       "      <th></th>\n",
       "      <th>CATEGORY ID</th>\n",
       "      <th>1</th>\n",
       "      <th>2</th>\n",
       "      <th>3</th>\n",
       "      <th>4</th>\n",
       "      <th>5</th>\n",
       "      <th>6</th>\n",
       "      <th>7</th>\n",
       "      <th>8</th>\n",
       "      <th>9</th>\n",
       "      <th>10</th>\n",
       "      <th>11</th>\n",
       "      <th>12</th>\n",
       "      <th>13</th>\n",
       "      <th>N_max</th>\n",
       "    </tr>\n",
       "  </thead>\n",
       "  <tbody>\n",
       "    <tr>\n",
       "      <th>0</th>\n",
       "      <td>2</td>\n",
       "      <td>1</td>\n",
       "      <td>0</td>\n",
       "      <td>2</td>\n",
       "      <td>3</td>\n",
       "      <td>0</td>\n",
       "      <td>3</td>\n",
       "      <td>3</td>\n",
       "      <td>5</td>\n",
       "      <td>2</td>\n",
       "      <td>6</td>\n",
       "      <td>4</td>\n",
       "      <td>2</td>\n",
       "      <td>2</td>\n",
       "      <td>20.0</td>\n",
       "    </tr>\n",
       "    <tr>\n",
       "      <th>1</th>\n",
       "      <td>4</td>\n",
       "      <td>2</td>\n",
       "      <td>3</td>\n",
       "      <td>4</td>\n",
       "      <td>4</td>\n",
       "      <td>2</td>\n",
       "      <td>0</td>\n",
       "      <td>0</td>\n",
       "      <td>1</td>\n",
       "      <td>0</td>\n",
       "      <td>0</td>\n",
       "      <td>0</td>\n",
       "      <td>0</td>\n",
       "      <td>0</td>\n",
       "      <td>20.0</td>\n",
       "    </tr>\n",
       "    <tr>\n",
       "      <th>2</th>\n",
       "      <td>6</td>\n",
       "      <td>3</td>\n",
       "      <td>1</td>\n",
       "      <td>3</td>\n",
       "      <td>5</td>\n",
       "      <td>5</td>\n",
       "      <td>4</td>\n",
       "      <td>4</td>\n",
       "      <td>0</td>\n",
       "      <td>1</td>\n",
       "      <td>2</td>\n",
       "      <td>0</td>\n",
       "      <td>3</td>\n",
       "      <td>2</td>\n",
       "      <td>20.0</td>\n",
       "    </tr>\n",
       "    <tr>\n",
       "      <th>3</th>\n",
       "      <td>7</td>\n",
       "      <td>6</td>\n",
       "      <td>5</td>\n",
       "      <td>3</td>\n",
       "      <td>4</td>\n",
       "      <td>4</td>\n",
       "      <td>3</td>\n",
       "      <td>2</td>\n",
       "      <td>2</td>\n",
       "      <td>2</td>\n",
       "      <td>4</td>\n",
       "      <td>2</td>\n",
       "      <td>2</td>\n",
       "      <td>2</td>\n",
       "      <td>20.0</td>\n",
       "    </tr>\n",
       "    <tr>\n",
       "      <th>4</th>\n",
       "      <td>9</td>\n",
       "      <td>3</td>\n",
       "      <td>1</td>\n",
       "      <td>6</td>\n",
       "      <td>2</td>\n",
       "      <td>3</td>\n",
       "      <td>1</td>\n",
       "      <td>3</td>\n",
       "      <td>1</td>\n",
       "      <td>0</td>\n",
       "      <td>0</td>\n",
       "      <td>0</td>\n",
       "      <td>0</td>\n",
       "      <td>3</td>\n",
       "      <td>20.0</td>\n",
       "    </tr>\n",
       "    <tr>\n",
       "      <th>5</th>\n",
       "      <td>10</td>\n",
       "      <td>4</td>\n",
       "      <td>3</td>\n",
       "      <td>3</td>\n",
       "      <td>5</td>\n",
       "      <td>3</td>\n",
       "      <td>3</td>\n",
       "      <td>1</td>\n",
       "      <td>3</td>\n",
       "      <td>1</td>\n",
       "      <td>1</td>\n",
       "      <td>1</td>\n",
       "      <td>1</td>\n",
       "      <td>1</td>\n",
       "      <td>20.0</td>\n",
       "    </tr>\n",
       "    <tr>\n",
       "      <th>6</th>\n",
       "      <td>12</td>\n",
       "      <td>4</td>\n",
       "      <td>3</td>\n",
       "      <td>6</td>\n",
       "      <td>3</td>\n",
       "      <td>4</td>\n",
       "      <td>4</td>\n",
       "      <td>5</td>\n",
       "      <td>3</td>\n",
       "      <td>1</td>\n",
       "      <td>3</td>\n",
       "      <td>2</td>\n",
       "      <td>2</td>\n",
       "      <td>1</td>\n",
       "      <td>20.0</td>\n",
       "    </tr>\n",
       "    <tr>\n",
       "      <th>7</th>\n",
       "      <td>13</td>\n",
       "      <td>6</td>\n",
       "      <td>0</td>\n",
       "      <td>3</td>\n",
       "      <td>1</td>\n",
       "      <td>3</td>\n",
       "      <td>3</td>\n",
       "      <td>4</td>\n",
       "      <td>2</td>\n",
       "      <td>3</td>\n",
       "      <td>3</td>\n",
       "      <td>5</td>\n",
       "      <td>4</td>\n",
       "      <td>5</td>\n",
       "      <td>20.0</td>\n",
       "    </tr>\n",
       "    <tr>\n",
       "      <th>8</th>\n",
       "      <td>14</td>\n",
       "      <td>3</td>\n",
       "      <td>0</td>\n",
       "      <td>0</td>\n",
       "      <td>0</td>\n",
       "      <td>0</td>\n",
       "      <td>0</td>\n",
       "      <td>1</td>\n",
       "      <td>2</td>\n",
       "      <td>5</td>\n",
       "      <td>0</td>\n",
       "      <td>1</td>\n",
       "      <td>3</td>\n",
       "      <td>6</td>\n",
       "      <td>20.0</td>\n",
       "    </tr>\n",
       "    <tr>\n",
       "      <th>9</th>\n",
       "      <td>15</td>\n",
       "      <td>0</td>\n",
       "      <td>1</td>\n",
       "      <td>3</td>\n",
       "      <td>4</td>\n",
       "      <td>0</td>\n",
       "      <td>5</td>\n",
       "      <td>0</td>\n",
       "      <td>2</td>\n",
       "      <td>1</td>\n",
       "      <td>0</td>\n",
       "      <td>0</td>\n",
       "      <td>0</td>\n",
       "      <td>0</td>\n",
       "      <td>20.0</td>\n",
       "    </tr>\n",
       "    <tr>\n",
       "      <th>10</th>\n",
       "      <td>17</td>\n",
       "      <td>4</td>\n",
       "      <td>3</td>\n",
       "      <td>4</td>\n",
       "      <td>5</td>\n",
       "      <td>2</td>\n",
       "      <td>6</td>\n",
       "      <td>2</td>\n",
       "      <td>2</td>\n",
       "      <td>1</td>\n",
       "      <td>4</td>\n",
       "      <td>1</td>\n",
       "      <td>1</td>\n",
       "      <td>1</td>\n",
       "      <td>20.0</td>\n",
       "    </tr>\n",
       "    <tr>\n",
       "      <th>11</th>\n",
       "      <td>19</td>\n",
       "      <td>1</td>\n",
       "      <td>0</td>\n",
       "      <td>3</td>\n",
       "      <td>5</td>\n",
       "      <td>1</td>\n",
       "      <td>4</td>\n",
       "      <td>0</td>\n",
       "      <td>5</td>\n",
       "      <td>0</td>\n",
       "      <td>5</td>\n",
       "      <td>0</td>\n",
       "      <td>0</td>\n",
       "      <td>0</td>\n",
       "      <td>20.0</td>\n",
       "    </tr>\n",
       "    <tr>\n",
       "      <th>12</th>\n",
       "      <td>21</td>\n",
       "      <td>3</td>\n",
       "      <td>1</td>\n",
       "      <td>3</td>\n",
       "      <td>3</td>\n",
       "      <td>3</td>\n",
       "      <td>2</td>\n",
       "      <td>0</td>\n",
       "      <td>2</td>\n",
       "      <td>0</td>\n",
       "      <td>0</td>\n",
       "      <td>0</td>\n",
       "      <td>1</td>\n",
       "      <td>3</td>\n",
       "      <td>20.0</td>\n",
       "    </tr>\n",
       "    <tr>\n",
       "      <th>13</th>\n",
       "      <td>26</td>\n",
       "      <td>4</td>\n",
       "      <td>2</td>\n",
       "      <td>3</td>\n",
       "      <td>6</td>\n",
       "      <td>4</td>\n",
       "      <td>4</td>\n",
       "      <td>0</td>\n",
       "      <td>3</td>\n",
       "      <td>0</td>\n",
       "      <td>5</td>\n",
       "      <td>2</td>\n",
       "      <td>0</td>\n",
       "      <td>1</td>\n",
       "      <td>20.0</td>\n",
       "    </tr>\n",
       "    <tr>\n",
       "      <th>14</th>\n",
       "      <td>27</td>\n",
       "      <td>3</td>\n",
       "      <td>4</td>\n",
       "      <td>6</td>\n",
       "      <td>2</td>\n",
       "      <td>4</td>\n",
       "      <td>0</td>\n",
       "      <td>2</td>\n",
       "      <td>1</td>\n",
       "      <td>0</td>\n",
       "      <td>3</td>\n",
       "      <td>1</td>\n",
       "      <td>0</td>\n",
       "      <td>0</td>\n",
       "      <td>20.0</td>\n",
       "    </tr>\n",
       "    <tr>\n",
       "      <th>15</th>\n",
       "      <td>28</td>\n",
       "      <td>3</td>\n",
       "      <td>2</td>\n",
       "      <td>4</td>\n",
       "      <td>6</td>\n",
       "      <td>4</td>\n",
       "      <td>4</td>\n",
       "      <td>1</td>\n",
       "      <td>4</td>\n",
       "      <td>1</td>\n",
       "      <td>4</td>\n",
       "      <td>0</td>\n",
       "      <td>1</td>\n",
       "      <td>3</td>\n",
       "      <td>20.0</td>\n",
       "    </tr>\n",
       "    <tr>\n",
       "      <th>16</th>\n",
       "      <td>29</td>\n",
       "      <td>6</td>\n",
       "      <td>1</td>\n",
       "      <td>4</td>\n",
       "      <td>2</td>\n",
       "      <td>3</td>\n",
       "      <td>1</td>\n",
       "      <td>1</td>\n",
       "      <td>0</td>\n",
       "      <td>1</td>\n",
       "      <td>0</td>\n",
       "      <td>0</td>\n",
       "      <td>0</td>\n",
       "      <td>1</td>\n",
       "      <td>20.0</td>\n",
       "    </tr>\n",
       "    <tr>\n",
       "      <th>17</th>\n",
       "      <td>31</td>\n",
       "      <td>5</td>\n",
       "      <td>2</td>\n",
       "      <td>4</td>\n",
       "      <td>5</td>\n",
       "      <td>5</td>\n",
       "      <td>5</td>\n",
       "      <td>2</td>\n",
       "      <td>2</td>\n",
       "      <td>0</td>\n",
       "      <td>5</td>\n",
       "      <td>0</td>\n",
       "      <td>2</td>\n",
       "      <td>0</td>\n",
       "      <td>20.0</td>\n",
       "    </tr>\n",
       "    <tr>\n",
       "      <th>18</th>\n",
       "      <td>32</td>\n",
       "      <td>3</td>\n",
       "      <td>3</td>\n",
       "      <td>3</td>\n",
       "      <td>5</td>\n",
       "      <td>5</td>\n",
       "      <td>5</td>\n",
       "      <td>3</td>\n",
       "      <td>5</td>\n",
       "      <td>2</td>\n",
       "      <td>5</td>\n",
       "      <td>2</td>\n",
       "      <td>3</td>\n",
       "      <td>2</td>\n",
       "      <td>20.0</td>\n",
       "    </tr>\n",
       "    <tr>\n",
       "      <th>19</th>\n",
       "      <td>33</td>\n",
       "      <td>5</td>\n",
       "      <td>3</td>\n",
       "      <td>4</td>\n",
       "      <td>6</td>\n",
       "      <td>6</td>\n",
       "      <td>2</td>\n",
       "      <td>1</td>\n",
       "      <td>1</td>\n",
       "      <td>0</td>\n",
       "      <td>2</td>\n",
       "      <td>0</td>\n",
       "      <td>0</td>\n",
       "      <td>0</td>\n",
       "      <td>20.0</td>\n",
       "    </tr>\n",
       "    <tr>\n",
       "      <th>20</th>\n",
       "      <td>34</td>\n",
       "      <td>4</td>\n",
       "      <td>4</td>\n",
       "      <td>0</td>\n",
       "      <td>5</td>\n",
       "      <td>3</td>\n",
       "      <td>0</td>\n",
       "      <td>0</td>\n",
       "      <td>0</td>\n",
       "      <td>0</td>\n",
       "      <td>3</td>\n",
       "      <td>0</td>\n",
       "      <td>0</td>\n",
       "      <td>0</td>\n",
       "      <td>20.0</td>\n",
       "    </tr>\n",
       "  </tbody>\n",
       "</table>\n",
       "</div>"
      ],
      "text/plain": [
       "    CATEGORY ID  1  2  3  4  5  6  7  8  9  10  11  12  13  N_max\n",
       "0             2  1  0  2  3  0  3  3  5  2   6   4   2   2   20.0\n",
       "1             4  2  3  4  4  2  0  0  1  0   0   0   0   0   20.0\n",
       "2             6  3  1  3  5  5  4  4  0  1   2   0   3   2   20.0\n",
       "3             7  6  5  3  4  4  3  2  2  2   4   2   2   2   20.0\n",
       "4             9  3  1  6  2  3  1  3  1  0   0   0   0   3   20.0\n",
       "5            10  4  3  3  5  3  3  1  3  1   1   1   1   1   20.0\n",
       "6            12  4  3  6  3  4  4  5  3  1   3   2   2   1   20.0\n",
       "7            13  6  0  3  1  3  3  4  2  3   3   5   4   5   20.0\n",
       "8            14  3  0  0  0  0  0  1  2  5   0   1   3   6   20.0\n",
       "9            15  0  1  3  4  0  5  0  2  1   0   0   0   0   20.0\n",
       "10           17  4  3  4  5  2  6  2  2  1   4   1   1   1   20.0\n",
       "11           19  1  0  3  5  1  4  0  5  0   5   0   0   0   20.0\n",
       "12           21  3  1  3  3  3  2  0  2  0   0   0   1   3   20.0\n",
       "13           26  4  2  3  6  4  4  0  3  0   5   2   0   1   20.0\n",
       "14           27  3  4  6  2  4  0  2  1  0   3   1   0   0   20.0\n",
       "15           28  3  2  4  6  4  4  1  4  1   4   0   1   3   20.0\n",
       "16           29  6  1  4  2  3  1  1  0  1   0   0   0   1   20.0\n",
       "17           31  5  2  4  5  5  5  2  2  0   5   0   2   0   20.0\n",
       "18           32  3  3  3  5  5  5  3  5  2   5   2   3   2   20.0\n",
       "19           33  5  3  4  6  6  2  1  1  0   2   0   0   0   20.0\n",
       "20           34  4  4  0  5  3  0  0  0  0   3   0   0   0   20.0"
      ]
     },
     "execution_count": 14,
     "metadata": {},
     "output_type": "execute_result"
    }
   ],
   "source": [
    "#rev_score = genfromtxt('reviewer_scientific_expertise_MKT-22.csv', delimiter=',')\n",
    "\n",
    "# Create vector with max number of reviews per reviewer \n",
    "n_r = n_reviewers = len(df_rev_score)\n",
    "reviewers_props = 20*np.ones(n_r)\n",
    "#limit10_list = [28,29]\n",
    "#reviewers_props[limit10_list] = 10\n",
    "df_rev_score['N_max'] = reviewers_props  # Make column with max number of reviews for each reviewer\n",
    "\n",
    "scientific_categories = pd.read_csv('scientific_categories_MKT-22.csv')\n",
    "scientific_categories.index = scientific_categories['CATEGORY ID']\n",
    "\n",
    "df_rev_score.columns = ['CATEGORY ID',1,2,3,4,5,6,7,8,9,10,11,12,13,'N_max']\n",
    "\n",
    "og_rev_idx = np.array(df_rev_score['CATEGORY ID'])\n",
    "\n",
    "df_rev_score.head(21)\n",
    "#np.column_stack((og_rev_idx, np.array(df_rev_score[11]), roe[:,1]))"
   ]
  },
  {
   "cell_type": "code",
   "execution_count": 15,
   "metadata": {
    "colab": {
     "base_uri": "https://localhost:8080/"
    },
    "id": "07NpDpH7VfeV",
    "outputId": "37440b4d-bf2c-42d5-c1a9-5238b96557d4"
   },
   "outputs": [
    {
     "name": "stdout",
     "output_type": "stream",
     "text": [
      "reviewers, proposals, panelists:  47 132 8\n"
     ]
    }
   ],
   "source": [
    "print('reviewers, proposals, panelists: ', n_r, n_p, n_panelists)"
   ]
  },
  {
   "cell_type": "code",
   "execution_count": 21,
   "metadata": {
    "id": "D1iW0GkyVfeW"
   },
   "outputs": [
    {
     "data": {
      "text/plain": [
       "46     1\n",
       "0      2\n",
       "3      7\n",
       "6     12\n",
       "17    31\n",
       "25    39\n",
       "28    42\n",
       "40    54\n",
       "Name: CATEGORY ID, dtype: int64"
      ]
     },
     "execution_count": 21,
     "metadata": {},
     "output_type": "execute_result"
    }
   ],
   "source": [
    "# do the dirty\n",
    "n_r = n_panelists\n",
    "df_rev_score = panel_score\n",
    "df_rev_score['CATEGORY ID']"
   ]
  },
  {
   "cell_type": "markdown",
   "metadata": {
    "id": "Gy3sqQIjVfeW"
   },
   "source": [
    "## Derived Data Structures"
   ]
  },
  {
   "cell_type": "code",
   "execution_count": null,
   "metadata": {},
   "outputs": [],
   "source": []
  },
  {
   "cell_type": "code",
   "execution_count": 24,
   "metadata": {
    "colab": {
     "base_uri": "https://localhost:8080/"
    },
    "id": "KxQTc7tPVfeX",
    "outputId": "084e8a6d-48b0-4097-d631-8e1c8a5c9ecd"
   },
   "outputs": [
    {
     "name": "stdout",
     "output_type": "stream",
     "text": [
      "(8, 64)\n",
      "total number of conflicts in mask before:  0\n",
      "MKT-22054 1 2 22\n",
      "MKT-22029 1 3 9\n",
      "MKT-22032 2 3 10\n",
      "MKT-22059 3 3 23\n",
      "MKT-22069 4 3 26\n",
      "MKT-22101 5 3 37\n",
      "MKT-22122 6 3 47\n",
      "MKT-22033 0 4 11\n",
      "MKT-22135 0 5 53\n",
      "MKT-22023 1 7 7\n",
      "MKT-22086 3 7 31\n",
      "MKT-22116 4 7 44\n",
      "total number of conflicts in mask after:  12\n"
     ]
    }
   ],
   "source": [
    "# create a binary numpy array(/mask) from the reviewer conflict dataframe: \n",
    "# i.e. set to 0 if conflict, else 1\n",
    "conflict_mask = np.ones((n_r, len(df_cat)))\n",
    "\n",
    "print(conflict_mask.shape)\n",
    "print('total number of conflicts in mask before: ', conflict_mask.flatten().shape[0] - np.count_nonzero(conflict_mask))\n",
    "\n",
    "rev_idx = np.array(df_rev_score['CATEGORY ID'].index)\n",
    "\n",
    "for row_idx, row in df_conflict.iterrows():\n",
    "    rev_pos = int(*np.where(og_pan_idx==row[0]))\n",
    "    for col_idx, prop in enumerate(df_conflict['Proposals'][row_idx]):\n",
    "        if not df_cat[df_cat['PSS ID'] == prop].empty:\n",
    "            prop_pos = df_cat[df_cat['PSS ID'] == prop].index[0]\n",
    "            print(prop, col_idx, rev_pos, prop_pos)\n",
    "            conflict_mask[int(rev_pos)][prop_pos] = 0\n",
    "        \n",
    "print('total number of conflicts in mask after: ', conflict_mask.flatten().shape[0] - np.count_nonzero(conflict_mask))\n",
    "\n",
    "#print(conflict_mask[n_r-3], n_r-3, conflict_mask.shape)\n",
    "\n",
    "#print(f'number of conflicts for each reviewer: \\n{np.column_stack((og_rev_idx,n_p-np.sum(conflict_mask, axis=1))).astype(int)}')\n",
    "\n",
    "#print(f'sum of conflicts: {int(np.sum(n_p-np.sum(conflict_mask, axis=1)))}')"
   ]
  },
  {
   "cell_type": "code",
   "execution_count": 25,
   "metadata": {
    "colab": {
     "base_uri": "https://localhost:8080/"
    },
    "id": "e-rkZ-6eVfeY",
    "outputId": "7d588994-0a96-4b61-ba5f-a31153a40752"
   },
   "outputs": [
    {
     "data": {
      "text/plain": [
       "(87, (13, 8))"
      ]
     },
     "execution_count": 25,
     "metadata": {},
     "output_type": "execute_result"
    }
   ],
   "source": [
    "# create a binary array (/mask) of reviewer expertise > .0\n",
    "zeroes_mask = np.where(np.array(df_rev_score.transpose()) > 0., 1, 0)[1:-1]\n",
    "np.count_nonzero(zeroes_mask), zeroes_mask.shape"
   ]
  },
  {
   "cell_type": "code",
   "execution_count": 85,
   "metadata": {
    "colab": {
     "base_uri": "https://localhost:8080/"
    },
    "id": "DrGZM0IaVfeY",
    "outputId": "06946014-9e61-4aee-bcfe-ce71fbdb1f9c"
   },
   "outputs": [
    {
     "data": {
      "text/plain": [
       "array([[5., 1., 6., 4., 5., 6., 2., 6.],\n",
       "       [4., 0., 5., 3., 2., 4., 2., 0.],\n",
       "       [2., 2., 3., 6., 4., 6., 2., 6.],\n",
       "       [5., 3., 4., 3., 5., 6., 2., 0.],\n",
       "       [2., 0., 4., 4., 5., 6., 1., 5.],\n",
       "       [5., 3., 3., 4., 5., 4., 4., 4.],\n",
       "       [2., 3., 2., 5., 2., 1., 4., 3.],\n",
       "       [2., 5., 2., 3., 2., 3., 3., 0.],\n",
       "       [2., 2., 2., 1., 0., 0., 6., 0.],\n",
       "       [2., 6., 4., 3., 5., 4., 2., 0.],\n",
       "       [2., 4., 2., 2., 0., 0., 2., 0.],\n",
       "       [2., 2., 2., 2., 2., 0., 4., 0.],\n",
       "       [2., 2., 2., 1., 0., 0., 6., 0.]])"
      ]
     },
     "execution_count": 85,
     "metadata": {},
     "output_type": "execute_result"
    }
   ],
   "source": [
    "# create a numerical array of the reviewer scores dataframe\n",
    "rev_scores = np.array(df_rev_score.transpose())[1:-1]\n",
    "np.count_nonzero(rev_scores), rev_scores.shape[0], rev_scores.shape[1]\n",
    "\n",
    "\n",
    "rev_scores"
   ]
  },
  {
   "cell_type": "code",
   "execution_count": null,
   "metadata": {
    "colab": {
     "base_uri": "https://localhost:8080/"
    },
    "id": "P3HaBCvJVfeY",
    "outputId": "0140d5d9-de55-4014-f5ca-a07177bf3e90"
   },
   "outputs": [],
   "source": []
  },
  {
   "cell_type": "code",
   "execution_count": null,
   "metadata": {
    "id": "NsG-C2JIVfeZ"
   },
   "outputs": [],
   "source": []
  },
  {
   "cell_type": "markdown",
   "metadata": {
    "id": "Ahk3F7SuVfeZ"
   },
   "source": [
    "## Plots"
   ]
  },
  {
   "cell_type": "code",
   "execution_count": 29,
   "metadata": {
    "colab": {
     "base_uri": "https://localhost:8080/",
     "height": 435
    },
    "id": "Ny9O_SEVVfeZ",
    "outputId": "e2e91339-496b-4b62-d331-a80c3087d464"
   },
   "outputs": [
    {
     "data": {
      "image/png": "[encoded data removed]",
      "text/plain": [
       "<Figure size 648x432 with 1 Axes>"
      ]
     },
     "metadata": {
      "needs_background": "light"
     },
     "output_type": "display_data"
    }
   ],
   "source": [
    "# Make a bar plot of all the proposal categories and numerical reviewer expertise \n",
    "\n",
    "all_topics_list = []\n",
    "all_topics_count = np.zeros(df_rev_score.transpose()[1:-1].shape[0])\n",
    "\n",
    "for idx, topic_set in enumerate(df_cat['CATEGORY LIST']): # run through each proposal\n",
    "    #print(idx, topic_set)\n",
    "    for topic in topic_set: # run through each topic in each proposal\n",
    "        all_topics_count[topic-1] += 1 # add one to the demand per mention\n",
    "        #print(topic, df_rev_score[topic][1])\n",
    "        all_topics_list.append(topic)\n",
    "        \n",
    "fig, ax = plt.subplots()#figsize=(16,8))\n",
    "\n",
    "ax.bar(range(1, rev_scores.shape[0]+1), [row.sum() for row in rev_scores], alpha=0.7, label = 'reviewer expertise', color='b')\n",
    "ax.bar(range(1,rev_scores.shape[0]+1), all_topics_count, label = 'category demand', color = 'r', width=0.4)\n",
    "#ax.hist(np.array(all_topics_list), histtype='step', linewidth=3, align='mid', bins=1000, label = 'category demand')\n",
    "\n",
    "ax.yaxis.set_label_position(\"right\")\n",
    "ax.yaxis.tick_right()\n",
    "ax.bar(range(1,rev_scores.shape[0]+1), 5*10**2*np.array(all_topics_count)[0:13]/[row.sum() for row in rev_scores][0:13], width=0.2, label = 'relative stress', color='k')\n",
    "\n",
    "fig.legend()\n",
    "plt.xlabel('category label')\n",
    "plt.savefig('relative_stress.png')"
   ]
  },
  {
   "cell_type": "code",
   "execution_count": 30,
   "metadata": {
    "colab": {
     "base_uri": "https://localhost:8080/",
     "height": 435
    },
    "id": "F5yRA_srVfeZ",
    "outputId": "53a4d4a1-8a94-4c37-e2f5-ff132a9254c9"
   },
   "outputs": [
    {
     "data": {
      "image/png": "[encoded data removed]",
      "text/plain": [
       "<Figure size 648x432 with 1 Axes>"
      ]
     },
     "metadata": {
      "needs_background": "light"
     },
     "output_type": "display_data"
    }
   ],
   "source": [
    "# Make a bar plot of all the proposal categories and binary reviewer expertise \n",
    "    \n",
    "fig, ax = plt.subplots()\n",
    "ax.bar(range(1,14), [row.sum() for row in rev_scores], alpha=0.7, label = 'reviewer (total numerical) expertise', color='b')\n",
    "ax.bar(range(1, rev_scores.shape[0]+1), [row.sum() for row in zeroes_mask], label = 'reviewer \\'non-zeros\\'', color='c')\n",
    "ax.bar(range(1,rev_scores.shape[0]+1), all_topics_count, label = 'category demand', color = 'r', width=0.4)\n",
    "\n",
    "plt.xlabel('category label')\n",
    "fig.legend()\n",
    "plt.show()"
   ]
  },
  {
   "cell_type": "markdown",
   "metadata": {
    "id": "E0_4OeVVVfeZ"
   },
   "source": [
    "## Affinity Matrix"
   ]
  },
  {
   "cell_type": "code",
   "execution_count": 31,
   "metadata": {},
   "outputs": [
    {
     "data": {
      "text/html": [
       "<div>\n",
       "<style scoped>\n",
       "    .dataframe tbody tr th:only-of-type {\n",
       "        vertical-align: middle;\n",
       "    }\n",
       "\n",
       "    .dataframe tbody tr th {\n",
       "        vertical-align: top;\n",
       "    }\n",
       "\n",
       "    .dataframe thead th {\n",
       "        text-align: right;\n",
       "    }\n",
       "</style>\n",
       "<table border=\"1\" class=\"dataframe\">\n",
       "  <thead>\n",
       "    <tr style=\"text-align: right;\">\n",
       "      <th></th>\n",
       "      <th>PSS ID</th>\n",
       "      <th>CATEGORY</th>\n",
       "    </tr>\n",
       "  </thead>\n",
       "  <tbody>\n",
       "    <tr>\n",
       "      <th>2</th>\n",
       "      <td>MKT-22005</td>\n",
       "      <td>1</td>\n",
       "    </tr>\n",
       "  </tbody>\n",
       "</table>\n",
       "</div>"
      ],
      "text/plain": [
       "      PSS ID  CATEGORY\n",
       "2  MKT-22005         1"
      ]
     },
     "execution_count": 31,
     "metadata": {},
     "output_type": "execute_result"
    }
   ],
   "source": [
    "df_prop_obs_cat = pd.read_csv('proposal_observation_categories_MKT-22.csv', sep=',')\n",
    "df_prop_obs_cat[df_prop_obs_cat['PSS ID']=='MKT-22005']"
   ]
  },
  {
   "cell_type": "code",
   "execution_count": 32,
   "metadata": {},
   "outputs": [
    {
     "data": {
      "text/html": [
       "<div>\n",
       "<style scoped>\n",
       "    .dataframe tbody tr th:only-of-type {\n",
       "        vertical-align: middle;\n",
       "    }\n",
       "\n",
       "    .dataframe tbody tr th {\n",
       "        vertical-align: top;\n",
       "    }\n",
       "\n",
       "    .dataframe thead th {\n",
       "        text-align: right;\n",
       "    }\n",
       "</style>\n",
       "<table border=\"1\" class=\"dataframe\">\n",
       "  <thead>\n",
       "    <tr style=\"text-align: right;\">\n",
       "      <th></th>\n",
       "      <th>REVIEWER ID</th>\n",
       "      <th>OCAT1</th>\n",
       "      <th>OCAT2</th>\n",
       "      <th>OCAT3</th>\n",
       "    </tr>\n",
       "  </thead>\n",
       "  <tbody>\n",
       "  </tbody>\n",
       "</table>\n",
       "</div>"
      ],
      "text/plain": [
       "Empty DataFrame\n",
       "Columns: [REVIEWER ID, OCAT1, OCAT2, OCAT3]\n",
       "Index: []"
      ]
     },
     "execution_count": 32,
     "metadata": {},
     "output_type": "execute_result"
    }
   ],
   "source": [
    "df_rev_obs_exp = pd.read_csv('reviewer_observation_expertise_MKT-22.csv', sep=',')\n",
    "df_rev_obs_exp[df_rev_obs_exp['REVIEWER ID']==1]"
   ]
  },
  {
   "cell_type": "code",
   "execution_count": 34,
   "metadata": {},
   "outputs": [],
   "source": [
    "#SCRATCH\n",
    "orphan_obs_cat_l = []\n",
    "for idx, prop in enumerate(orphan_cat['PSS_ID']):\n",
    "    #print(int(df_prop_obs_cat[df_prop_obs_cat['PSS ID']==prop]['CATEGORY']))\n",
    "    orphan_obs_cat_l.append(int(df_prop_obs_cat[df_prop_obs_cat['PSS ID']==prop]['CATEGORY']))\n",
    "\n",
    "orphan_obs_cat = np.array(orphan_obs_cat_l)"
   ]
  },
  {
   "cell_type": "code",
   "execution_count": 99,
   "metadata": {
    "colab": {
     "base_uri": "https://localhost:8080/",
     "height": 126
    },
    "id": "HsZ7yfvRVfea",
    "outputId": "c0fcfedb-c711-46ee-eb4d-6e93c0f89601"
   },
   "outputs": [
    {
     "name": "stdout",
     "output_type": "stream",
     "text": [
      "creation done (8, 64) zeros: 512 of 512\n",
      "set up affinities done (8, 64) zeros: 40 of 512\n",
      "Obs cat done (8, 64) zeros: 153 of 512\n",
      "set conflicts done (8, 64) zeros: 161 of 512\n"
     ]
    },
    {
     "data": {
      "text/plain": [
       "array([0.4, 0.2, 0.4, 0.5, 0.2, 0.4, 0.5, 0.4, 0.2, 0.4, 0.4, 0.2, 0.2,\n",
       "       0.2, 0.2, 0.2, 0.2, 0.5, 0.4, 0.4, 0.2, 0.2, 0.2, 0.4, 0.2, 0.2,\n",
       "       0.4, 0.5, 0.5, 0.2, 0.2, 0.4, 0.4, 0.2, 0.2, 0.2, 0.2, 0.4, 0.2,\n",
       "       0.2, 0.2, 0.2, 0.2, 0.2, 0.4, 0.5, 0.2, 0.4, 0.2, 0.2, 0.5, 0.2,\n",
       "       0.2, 0.2, 0.4, 0.2, 0.2, 0.2, 0.4, 0.5, 0.2, 0.4, 0.4, 0.5])"
      ]
     },
     "execution_count": 99,
     "metadata": {},
     "output_type": "execute_result"
    }
   ],
   "source": [
    "# ---------------\n",
    "# AFFINITY MATRIX\n",
    "# ---------------\n",
    "\n",
    "# create the affinity matrix\n",
    "affinity = np.zeros((len(df_rev_score),len(df_cat)))\n",
    "\n",
    "print('creation done', affinity.shape, 'zeros:', affinity.flatten().shape[0] - np.count_nonzero(affinity), 'of', affinity.flatten().shape[0])\n",
    "#affinity\n",
    "\n",
    "# set the affinity to the MAXimum of ANY keyword\n",
    "max = 0\n",
    "for row_idx, row in enumerate(affinity):\n",
    "    #print(row_idx, row)\n",
    "    #for cell_idx, cell in enumerate(row):\n",
    "    for cell_idx, topic_set in enumerate(df_cat['CATEGORY LIST']):\n",
    "        #print(topic_set, cell_idx)\n",
    "        for topic in topic_set:\n",
    "         #   print(topic)\n",
    "            max = np.maximum(max, rev_scores[topic-1][row_idx])\n",
    "        affinity[row_idx, cell_idx] = max/10 # normalise to between 0 and 1\n",
    "        max=0\n",
    "        \n",
    "print('set up affinities done', affinity.shape, 'zeros:', affinity.flatten().shape[0] - np.count_nonzero(affinity), 'of', affinity.flatten().shape[0])\n",
    "\n",
    "#-----------        \n",
    "     \n",
    "# Set constraints in the affinity matrix :\n",
    "# i.e. 1. Maximum over observation categories \n",
    "#      2. Make sure there are not zeros in EVERY category, \n",
    "#      3. reviewer/proposal conflicts (science_cross_check)\n",
    "# by setting affinity to 0 (which is actually a soft constraint, but wusually suffices)\n",
    "\n",
    "# Observation Category\n",
    "rev_obs_exp = np.genfromtxt('reviewer_observation_expertise_MKT-22.csv', delimiter=',', skip_header=1)\n",
    "prop_obs_cat = np.genfromtxt('proposal_observation_categories_MKT-22.csv', delimiter=',', skip_header=1)[:,1]\n",
    "\n",
    "df_rev_obs_exp = pd.read_csv('reviewer_observation_expertise_MKT-22.csv', sep=',')\n",
    "df_prop_obs_cat = pd.read_csv('proposal_observation_categories_MKT-22.csv', sep=',')\n",
    "\n",
    "orphan_obs_cat_l = []\n",
    "for idx, prop in enumerate(orphan_cat['PSS ID']):\n",
    "    #print(int(df_prop_obs_cat[df_prop_obs_cat['PSS ID']==prop]['CATEGORY']))\n",
    "    orphan_obs_cat_l.append(int(df_prop_obs_cat[df_prop_obs_cat['PSS ID']==prop]['CATEGORY']))\n",
    "\n",
    "orphan_obs_cat = np.array(orphan_obs_cat_l)\n",
    "\n",
    "panel_obs_exp = np.array([1,1,1,0]) #Roger special case\n",
    "for idx, pan in enumerate(panel_score['CATEGORY ID']):\n",
    "    panel_obs_exp = np.row_stack([panel_obs_exp, np.array(df_rev_obs_exp[df_rev_obs_exp['REVIEWER ID']==pan])])\n",
    "    \n",
    "\n",
    "for row_idx, row in enumerate(panel_obs_exp):\n",
    "    #print (rev_obs_exp[row_idx][1:])\n",
    "    for col_idx, col in enumerate(orphan_obs_cat):\n",
    "        #print (row_idx, col_idx, col, row[1:])\n",
    "        if row[int(col)] == 0: \n",
    "            #print (affinity[row_idx][col_idx])\n",
    "            affinity[row_idx][col_idx] = 0.\n",
    "print('Obs cat done', affinity.shape, 'zeros:', affinity.flatten().shape[0] - np.count_nonzero(affinity), 'of', affinity.flatten().shape[0])\n",
    "\n",
    "            \n",
    "# check there is at least one non-zero\n",
    "'''set_zero = False\n",
    "for row_idx, row in enumerate(affinity):#row_idx is reviewer ID\n",
    "    for cell_idx, topic_set in enumerate(df_cat['Category_List']):#cell_idx is the proposal id, topic_set is the list of topics\n",
    "        for topic in topic_set:\n",
    "            if df_rev_score[topic][row_idx]==0.: set_zero = True # if there are ANY '0' experience ratings\n",
    "        if set_zero == True: affinity[row_idx, cell_idx] = 0.\n",
    "        set_zero = False\n",
    "\n",
    "print('at least one nonzero done', affinity.shape, 'zeros:', affinity.flatten().shape[0] - np.count_nonzero(affinity), 'of', affinity.flatten().shape[0])\n",
    "'''\n",
    "\n",
    "# mask out conflicts of interest:\n",
    "affinity = affinity*conflict_mask\n",
    "print('set conflicts done', affinity.shape, 'zeros:', affinity.flatten().shape[0] - np.count_nonzero(affinity), 'of', affinity.flatten().shape[0])\n",
    "\n",
    "\n",
    "'''\n",
    "# apply a non-linear scaling to the affinity \n",
    "affinity = affinity + np.where(affinity>0.3, 0.4, 0.)\n",
    "print('non_linear scaling done', affinity.shape, 'zeros:', affinity.flatten().shape[0] - np.count_nonzero(affinity), 'of', affinity.flatten().shape[0])\n",
    "'''\n",
    "affinity[0]"
   ]
  },
  {
   "cell_type": "code",
   "execution_count": 97,
   "metadata": {
    "id": "edQRVEMIVfea"
   },
   "outputs": [
    {
     "data": {
      "text/plain": [
       "(array([1, 1, 1, 1, 1, 2, 2, 2, 1, 2, 2, 2, 1, 1, 1, 1, 1, 1, 2, 2, 1, 1,\n",
       "        2, 1, 1, 1, 2, 2, 2, 2, 2, 2, 1, 1, 1, 2, 1, 2, 2, 1, 1, 1, 1, 1,\n",
       "        2, 2, 1, 2, 2, 1, 1, 1, 1, 1, 1, 1, 1, 2, 1, 1, 1, 2, 2, 2]),\n",
       " array([[ 1,  1,  1,  0],\n",
       "        [ 2,  1,  1,  1],\n",
       "        [ 7,  1,  1,  1],\n",
       "        [12,  0,  1,  0],\n",
       "        [31,  1,  1,  1],\n",
       "        [39,  1,  1,  0],\n",
       "        [42,  0,  1,  1],\n",
       "        [54,  0,  1,  0]]))"
      ]
     },
     "execution_count": 97,
     "metadata": {},
     "output_type": "execute_result"
    }
   ],
   "source": [
    "panel_score, rev_scores.transpose().astype(int)\n",
    "orphan_obs_cat, panel_obs_exp"
   ]
  },
  {
   "cell_type": "code",
   "execution_count": null,
   "metadata": {
    "id": "KbpAuj6uVfea"
   },
   "outputs": [],
   "source": []
  },
  {
   "cell_type": "markdown",
   "metadata": {
    "id": "_SIz2cztVfea"
   },
   "source": [
    "## Prepare arrays for LP"
   ]
  },
  {
   "cell_type": "code",
   "execution_count": 38,
   "metadata": {
    "colab": {
     "base_uri": "https://localhost:8080/"
    },
    "id": "a7KN_sMWVfea",
    "outputId": "77217041-3c28-4fd0-b1db-b25fd19baeda"
   },
   "outputs": [
    {
     "data": {
      "text/plain": [
       "((8,), (8,))"
      ]
     },
     "execution_count": 38,
     "metadata": {},
     "output_type": "execute_result"
    }
   ],
   "source": [
    "# --------------------------------------------------------------------------------------------\n",
    "# convert arrays to a set of stored numpy arrays for the Linear Program (LP) optimisation code\n",
    "# --------------------------------------------------------------------------------------------\n",
    "\n",
    "# assign the maximum number of proposals per reviewer\n",
    "#loads = np.genfromtxt('science_max_reviews.csv', skip_header=1, delimiter=',')[:,1]\n",
    "\n",
    "# set the lower bound of proposals to review to be 10\n",
    "#loads_lb = 10*np.ones(affinity.shape[0])\n",
    "\n",
    "# set the coverage (i.e. number of reviews per paper) to be exactly 4\n",
    "#covs = 4*np.ones(affinity.shape[1])\n",
    "\n",
    "loads = loads_lb = 8*np.ones(affinity.shape[0])\n",
    "covs = np.ones(affinity.shape[1])\n",
    "\n",
    "loads_lb.shape, loads.shape\n",
    "\n"
   ]
  },
  {
   "cell_type": "code",
   "execution_count": null,
   "metadata": {
    "colab": {
     "base_uri": "https://localhost:8080/"
    },
    "id": "YxGJXbBPX2If",
    "outputId": "80c75161-7d07-4467-d465-86ccba4ff76a"
   },
   "outputs": [],
   "source": []
  },
  {
   "cell_type": "markdown",
   "metadata": {
    "id": "C5rsjcIWVfea"
   },
   "source": [
    "-------------------------------------------------"
   ]
  },
  {
   "cell_type": "code",
   "execution_count": 39,
   "metadata": {
    "id": "A4hxxXfjVfeb"
   },
   "outputs": [],
   "source": [
    "# save array to disk, to transfer to server with Gurobi license\n",
    "np.save('scores.npy', affinity)\n",
    "np.save('loads.npy', loads)\n",
    "np.save('loads-lb.npy', loads_lb)\n",
    "np.save('covs.npy', covs)"
   ]
  },
  {
   "cell_type": "markdown",
   "metadata": {
    "id": "vTAhKIhfVfeb"
   },
   "source": [
    "### Note: move to sherlock\n",
    "\n",
    "+ copy over scores.npy (the storage name of the afinity matrix) to sherlock.sdp.kat.ac.za (which has the gurobi license file):\n",
    "`\n",
    "rsync -avz scores.npy richarms@sherlock.sdp.kat.ac.za:/home/richarms/src/fair-matching/data/mk/\n",
    "`\n",
    "+ then:\n",
    "`ssh sherlock.sdp.kat.ac.za`\n",
    "+ run the linear program\n",
    "`\n",
    "cd /home/richarms/src/fair-matching\n",
    "source venv/bin/activate\n",
    "source bin/setup.sh\n",
    "sh bin/exp/basic.sh config/mk/basic-lb.json\n",
    "exit\n",
    "`\n",
    "+ and copy back the assignment.npy \n",
    "\n",
    "`rsync -avz richarms@sherlock.sdp.kat.ac.za:/home/richarms/src/fair-matching/exp_out/mk/basic-lb/{DATE}/results/assignment.npy .`"
   ]
  },
  {
   "cell_type": "markdown",
   "metadata": {
    "id": "7ddI7bjZVfeb"
   },
   "source": [
    "## Code to evaluate LP result\n"
   ]
  },
  {
   "cell_type": "code",
   "execution_count": 42,
   "metadata": {
    "id": "sUzJYb2ZVfeb"
   },
   "outputs": [
    {
     "data": {
      "text/plain": [
       "(array([0, 0, 0, 0, 0, 0, 0, 0]), array([ 2,  3, 17, 23, 37, 50, 54, 59]))"
      ]
     },
     "execution_count": 42,
     "metadata": {},
     "output_type": "execute_result"
    }
   ],
   "source": [
    "# load the assignment matrix from the LP\n",
    "# The assignment matrix is a sparse binary array of dim n_reviewers * n_proposals \n",
    "# with nonzero entries for a positive assignment\n",
    "assignment = np.load('assignment.npy')\n",
    "assignment = assignment.astype(int)\n",
    "assignment[np.where(og_rev_idx==2)].nonzero()"
   ]
  },
  {
   "cell_type": "code",
   "execution_count": 60,
   "metadata": {},
   "outputs": [
    {
     "data": {
      "text/plain": [
       "64"
      ]
     },
     "execution_count": 60,
     "metadata": {},
     "output_type": "execute_result"
    }
   ],
   "source": [
    "# Do manual adjustments (highly risky!)\n",
    "at = assignment.transpose()\n",
    "#at[np.where(df_cat['PSS ID']=='MKT-22003'), np.where(og_rev_idx==32)] = 0\n",
    "#at[np.where(df_cat['PSS ID']=='MKT-22003'), np.where(og_rev_idx==40)] = 1\n",
    "#at[np.where(df_cat['PSS ID']=='MKT-22155'), np.where(og_rev_idx==34)] = 0\n",
    "#at[np.where(df_cat['PSS ID']=='MKT-22155'), np.where(og_rev_idx==26)] = 1\n",
    "\n",
    "#assignment[np.where(og_rev_idx==40)].nonzero()\n",
    "#at[np.where(df_cat['PSS ID']=='MKT-22155'), np.where(og_rev_idx==26)]\n",
    "np.count_nonzero(assignment)"
   ]
  },
  {
   "cell_type": "code",
   "execution_count": 45,
   "metadata": {
    "colab": {
     "base_uri": "https://localhost:8080/"
    },
    "id": "EX8suGG4Vfeb",
    "outputId": "678945fb-0dce-4124-d6ac-23ac7ad62a18"
   },
   "outputs": [
    {
     "data": {
      "text/plain": [
       "(29.7, 29.7)"
      ]
     },
     "execution_count": 45,
     "metadata": {},
     "output_type": "execute_result"
    }
   ],
   "source": [
    "## CHECK\n",
    "## Sanity check -- check that the trace of the affinity and assignment match that produced by LP\n",
    "np.sum(np.diag(np.matmul(np.transpose(affinity), assignment))), np.trace(np.matmul(np.transpose(affinity), assignment))"
   ]
  },
  {
   "cell_type": "code",
   "execution_count": 62,
   "metadata": {
    "colab": {
     "base_uri": "https://localhost:8080/"
    },
    "id": "Jf0UtGSYVfeb",
    "outputId": "92e01f82-c394-4eb1-9695-1733b084aa2e"
   },
   "outputs": [
    {
     "name": "stdout",
     "output_type": "stream",
     "text": [
      "1\n",
      "[0 0 1 0 0 0 0 0]\n",
      "8\n",
      "(array([0]),)\n",
      "[[0 0 1 1 0 0 0 0 0 0 0 0 0 0 0 0 0 1 0 0 0 0 0 1 0 0 0 0 0 0 0 0 0 0 0 0\n",
      "  0 1 0 0 0 0 0 0 0 0 0 0 0 0 1 0 0 0 1 0 0 0 0 1 0 0 0 0]\n",
      " [0 0 0 0 1 0 0 0 0 0 0 0 0 0 1 0 0 0 0 0 0 0 0 0 1 0 0 0 0 0 0 0 0 0 0 0\n",
      "  1 0 0 0 1 1 0 1 0 0 0 0 0 0 0 1 0 0 0 0 0 0 0 0 0 0 0 0]\n",
      " [1 0 0 0 0 0 0 0 0 1 1 0 0 0 0 1 0 0 0 0 0 0 0 0 0 0 0 0 0 0 0 0 1 0 0 0\n",
      "  0 0 0 0 0 0 1 0 0 0 0 0 0 0 0 0 1 0 0 0 0 0 1 0 0 0 0 0]\n",
      " [0 0 0 0 0 0 1 1 0 0 0 0 0 0 0 0 0 0 1 0 0 0 0 0 0 0 0 0 0 0 0 1 0 0 0 0\n",
      "  0 0 1 0 0 0 0 0 1 0 0 0 0 0 0 0 0 0 0 0 0 0 0 0 0 1 1 0]\n",
      " [0 0 0 0 0 0 0 0 1 0 0 0 1 0 0 0 1 0 0 0 0 1 0 0 0 1 0 0 0 0 0 0 0 1 0 0\n",
      "  0 0 0 0 0 0 0 0 0 0 0 0 0 0 0 0 0 0 0 1 1 0 0 0 0 0 0 0]\n",
      " [0 1 0 0 0 0 0 0 0 0 0 0 0 1 0 0 0 0 0 0 1 0 0 0 0 0 0 0 0 0 0 0 0 0 1 0\n",
      "  0 0 0 1 0 0 0 0 0 0 1 0 0 1 0 0 0 0 0 0 0 0 0 0 1 0 0 0]\n",
      " [0 0 0 0 0 1 0 0 0 0 0 1 0 0 0 0 0 0 0 0 0 0 1 0 0 0 0 1 0 0 0 0 0 0 0 0\n",
      "  0 0 0 0 0 0 0 0 0 1 0 1 1 0 0 0 0 0 0 0 0 1 0 0 0 0 0 0]\n",
      " [0 0 0 0 0 0 0 0 0 0 0 0 0 0 0 0 0 0 0 1 0 0 0 0 0 0 1 0 1 1 1 0 0 0 0 1\n",
      "  0 0 0 0 0 0 0 0 0 0 0 0 0 0 0 0 0 1 0 0 0 0 0 0 0 0 0 1]]\n"
     ]
    }
   ],
   "source": [
    "# SCRATCH\n",
    "print(np.count_nonzero(np.transpose(assignment)[0]))\n",
    "print(np.transpose(assignment)[0])\n",
    "print(np.count_nonzero((assignment)[0]))\n",
    "print((assignment).transpose()[-5].nonzero())\n",
    "\n",
    "print(assignment)"
   ]
  },
  {
   "cell_type": "code",
   "execution_count": null,
   "metadata": {
    "id": "q103xk_BVfeb"
   },
   "outputs": [],
   "source": []
  },
  {
   "cell_type": "code",
   "execution_count": 68,
   "metadata": {
    "colab": {
     "base_uri": "https://localhost:8080/"
    },
    "id": "cep9ykZLVfeb",
    "outputId": "6558eea2-89a0-49ff-bd40-35a2c97261a4"
   },
   "outputs": [
    {
     "name": "stdout",
     "output_type": "stream",
     "text": [
      "(64, 1)\n",
      "This is the LP result, expressed as a set of (4) reviewers (by original ID) per proposal: \n",
      " [['MKT-22005' 7]\n",
      " ['MKT-22006' 39]\n",
      " ['MKT-22008' 1]\n",
      " ['MKT-22013' 1]\n",
      " ['MKT-22015' 2]\n",
      " ['MKT-22017' 42]\n",
      " ['MKT-22018' 12]\n",
      " ['MKT-22023' 12]\n",
      " ['MKT-22027' 31]\n",
      " ['MKT-22029' 7]\n",
      " ['MKT-22032' 7]\n",
      " ['MKT-22033' 42]\n",
      " ['MKT-22034' 31]\n",
      " ['MKT-22037' 39]\n",
      " ['MKT-22038' 2]\n",
      " ['MKT-22039' 7]\n",
      " ['MKT-22044' 31]\n",
      " ['MKT-22045' 1]\n",
      " ['MKT-22046' 12]\n",
      " ['MKT-22048' 54]\n",
      " ['MKT-22049' 39]\n",
      " ['MKT-22050' 31]\n",
      " ['MKT-22054' 42]\n",
      " ['MKT-22059' 1]\n",
      " ['MKT-22064' 2]\n",
      " ['MKT-22065' 31]\n",
      " ['MKT-22069' 54]\n",
      " ['MKT-22072' 42]\n",
      " ['MKT-22075' 54]\n",
      " ['MKT-22077' 54]\n",
      " ['MKT-22079' 54]\n",
      " ['MKT-22086' 12]\n",
      " ['MKT-22089' 7]\n",
      " ['MKT-22090' 31]\n",
      " ['MKT-22094' 39]\n",
      " ['MKT-22096' 54]\n",
      " ['MKT-22098' 2]\n",
      " ['MKT-22101' 1]\n",
      " ['MKT-22102' 12]\n",
      " ['MKT-22104' 39]\n",
      " ['MKT-22107' 2]\n",
      " ['MKT-22108' 2]\n",
      " ['MKT-22110' 7]\n",
      " ['MKT-22111' 2]\n",
      " ['MKT-22116' 12]\n",
      " ['MKT-22118' 42]\n",
      " ['MKT-22119' 39]\n",
      " ['MKT-22122' 42]\n",
      " ['MKT-22129' 42]\n",
      " ['MKT-22130' 39]\n",
      " ['MKT-22131' 1]\n",
      " ['MKT-22133' 2]\n",
      " ['MKT-22134' 7]\n",
      " ['MKT-22135' 54]\n",
      " ['MKT-22137' 1]\n",
      " ['MKT-22138' 31]\n",
      " ['MKT-22139' 31]\n",
      " ['MKT-22144' 42]\n",
      " ['MKT-22145' 7]\n",
      " ['MKT-22146' 1]\n",
      " ['MKT-22149' 39]\n",
      " ['MKT-22150' 12]\n",
      " ['MKT-22153' 12]\n",
      " ['MKT-22159' 54]]\n",
      "['1, MKT-22008, MKT-22013, MKT-22045, MKT-22059, MKT-22101, MKT-22131, MKT-22137, MKT-22146'\n",
      " '2, MKT-22015, MKT-22038, MKT-22064, MKT-22098, MKT-22107, MKT-22108, MKT-22111, MKT-22133'\n",
      " '7, MKT-22005, MKT-22029, MKT-22032, MKT-22039, MKT-22089, MKT-22110, MKT-22134, MKT-22145'\n",
      " '12, MKT-22018, MKT-22023, MKT-22046, MKT-22086, MKT-22102, MKT-22116, MKT-22150, MKT-22153'\n",
      " '31, MKT-22027, MKT-22034, MKT-22044, MKT-22050, MKT-22065, MKT-22090, MKT-22138, MKT-22139'\n",
      " '39, MKT-22006, MKT-22037, MKT-22049, MKT-22094, MKT-22104, MKT-22119, MKT-22130, MKT-22149'\n",
      " '42, MKT-22017, MKT-22033, MKT-22054, MKT-22072, MKT-22118, MKT-22122, MKT-22129, MKT-22144'\n",
      " '54, MKT-22048, MKT-22069, MKT-22075, MKT-22077, MKT-22079, MKT-22096, MKT-22135, MKT-22159']\n"
     ]
    }
   ],
   "source": [
    "# Gene Matrix\n",
    "################\n",
    "\n",
    "# The assignment matrix may be expressed as a 'gene matrix' (an inherited term): a dense array \n",
    "# of reviewers assigned to each proposal, (as opposed to the assignment matrix, which is a sparse binary \n",
    "# array of dim n_reviewers * n_proposals with nonzero entries for a positive assignment)\n",
    "gene_matrix = np.zeros((n_p, coverage))\n",
    "gene_matrix_indexes = np.zeros((n_p, coverage))\n",
    "\n",
    "print(gene_matrix.shape)\n",
    "\n",
    "# original reviewer index\n",
    "#og_rev_idx = np.array(df_rev_score['CATEGORY ID'])\n",
    "\n",
    "# The reviewer_assignment is the logical opposite of the gene matrix: for each reviewer,\n",
    "# it is a list of their associated proposals\n",
    "reviewer_assignment = np.empty((n_panelists), dtype=object)\n",
    "\n",
    "# set the first element of the reviewer assignment vector to be the original reviewer \n",
    "# index, as a string\n",
    "for idx, r in enumerate(reviewer_assignment):\n",
    "    reviewer_assignment[idx] = str(og_pan_idx[idx])\n",
    "\n",
    "\n",
    "\n",
    "for col_idx, col in enumerate(assignment.transpose()):\n",
    "    # set the gene matrix to the indices of each non-zero element in the assignment\n",
    "    gene_matrix[col_idx] = np.nonzero(col)[0]\n",
    "    # set up the correct original reviewer IDs\n",
    "    for rev_idx, rev in enumerate(gene_matrix[col_idx]):\n",
    "        gene_matrix_indexes[col_idx][rev_idx] = og_pan_idx[int(rev)]\n",
    "    # augment the string with each fo the {n_min, n_max} proposals that reviewer should review\n",
    "    for i in np.nonzero(col)[0]:\n",
    "        reviewer_assignment[i] = reviewer_assignment[i] + ', ' + df_cat['PSS ID'][col_idx]\n",
    "\n",
    "        \n",
    "gene_matrix = gene_matrix.astype(int)\n",
    "gene_matrix_indexes = gene_matrix_indexes.astype(int)\n",
    "\n",
    "print(\"This is the LP result, expressed as a set of (4) reviewers (by original ID) per proposal: \\n\", \n",
    "      np.column_stack((df_cat['PSS ID'], gene_matrix_indexes)))\n",
    "\n",
    "print(reviewer_assignment)\n"
   ]
  },
  {
   "cell_type": "code",
   "execution_count": 75,
   "metadata": {
    "colab": {
     "base_uri": "https://localhost:8080/"
    },
    "id": "vwKyL9soVfec",
    "outputId": "59aa603b-547c-477d-f9f5-464764eaff2a"
   },
   "outputs": [
    {
     "data": {
      "text/html": [
       "<div>\n",
       "<style scoped>\n",
       "    .dataframe tbody tr th:only-of-type {\n",
       "        vertical-align: middle;\n",
       "    }\n",
       "\n",
       "    .dataframe tbody tr th {\n",
       "        vertical-align: top;\n",
       "    }\n",
       "\n",
       "    .dataframe thead th {\n",
       "        text-align: right;\n",
       "    }\n",
       "</style>\n",
       "<table border=\"1\" class=\"dataframe\">\n",
       "  <thead>\n",
       "    <tr style=\"text-align: right;\">\n",
       "      <th></th>\n",
       "      <th>CATEGORY ID</th>\n",
       "      <th>1</th>\n",
       "      <th>2</th>\n",
       "      <th>3</th>\n",
       "      <th>4</th>\n",
       "      <th>5</th>\n",
       "      <th>6</th>\n",
       "      <th>7</th>\n",
       "      <th>8</th>\n",
       "      <th>9</th>\n",
       "      <th>10</th>\n",
       "      <th>11</th>\n",
       "      <th>12</th>\n",
       "      <th>13</th>\n",
       "      <th>N_max</th>\n",
       "    </tr>\n",
       "  </thead>\n",
       "  <tbody>\n",
       "    <tr>\n",
       "      <th>46</th>\n",
       "      <td>1</td>\n",
       "      <td>5</td>\n",
       "      <td>4</td>\n",
       "      <td>2</td>\n",
       "      <td>5</td>\n",
       "      <td>2</td>\n",
       "      <td>5</td>\n",
       "      <td>2</td>\n",
       "      <td>2</td>\n",
       "      <td>2</td>\n",
       "      <td>2</td>\n",
       "      <td>2</td>\n",
       "      <td>2</td>\n",
       "      <td>2</td>\n",
       "      <td>1.0</td>\n",
       "    </tr>\n",
       "    <tr>\n",
       "      <th>0</th>\n",
       "      <td>2</td>\n",
       "      <td>1</td>\n",
       "      <td>0</td>\n",
       "      <td>2</td>\n",
       "      <td>3</td>\n",
       "      <td>0</td>\n",
       "      <td>3</td>\n",
       "      <td>3</td>\n",
       "      <td>5</td>\n",
       "      <td>2</td>\n",
       "      <td>6</td>\n",
       "      <td>4</td>\n",
       "      <td>2</td>\n",
       "      <td>2</td>\n",
       "      <td>1.0</td>\n",
       "    </tr>\n",
       "    <tr>\n",
       "      <th>3</th>\n",
       "      <td>7</td>\n",
       "      <td>6</td>\n",
       "      <td>5</td>\n",
       "      <td>3</td>\n",
       "      <td>4</td>\n",
       "      <td>4</td>\n",
       "      <td>3</td>\n",
       "      <td>2</td>\n",
       "      <td>2</td>\n",
       "      <td>2</td>\n",
       "      <td>4</td>\n",
       "      <td>2</td>\n",
       "      <td>2</td>\n",
       "      <td>2</td>\n",
       "      <td>1.0</td>\n",
       "    </tr>\n",
       "    <tr>\n",
       "      <th>6</th>\n",
       "      <td>12</td>\n",
       "      <td>4</td>\n",
       "      <td>3</td>\n",
       "      <td>6</td>\n",
       "      <td>3</td>\n",
       "      <td>4</td>\n",
       "      <td>4</td>\n",
       "      <td>5</td>\n",
       "      <td>3</td>\n",
       "      <td>1</td>\n",
       "      <td>3</td>\n",
       "      <td>2</td>\n",
       "      <td>2</td>\n",
       "      <td>1</td>\n",
       "      <td>1.0</td>\n",
       "    </tr>\n",
       "    <tr>\n",
       "      <th>17</th>\n",
       "      <td>31</td>\n",
       "      <td>5</td>\n",
       "      <td>2</td>\n",
       "      <td>4</td>\n",
       "      <td>5</td>\n",
       "      <td>5</td>\n",
       "      <td>5</td>\n",
       "      <td>2</td>\n",
       "      <td>2</td>\n",
       "      <td>0</td>\n",
       "      <td>5</td>\n",
       "      <td>0</td>\n",
       "      <td>2</td>\n",
       "      <td>0</td>\n",
       "      <td>1.0</td>\n",
       "    </tr>\n",
       "    <tr>\n",
       "      <th>25</th>\n",
       "      <td>39</td>\n",
       "      <td>6</td>\n",
       "      <td>4</td>\n",
       "      <td>6</td>\n",
       "      <td>6</td>\n",
       "      <td>6</td>\n",
       "      <td>4</td>\n",
       "      <td>1</td>\n",
       "      <td>3</td>\n",
       "      <td>0</td>\n",
       "      <td>4</td>\n",
       "      <td>0</td>\n",
       "      <td>0</td>\n",
       "      <td>0</td>\n",
       "      <td>1.0</td>\n",
       "    </tr>\n",
       "    <tr>\n",
       "      <th>28</th>\n",
       "      <td>42</td>\n",
       "      <td>2</td>\n",
       "      <td>2</td>\n",
       "      <td>2</td>\n",
       "      <td>2</td>\n",
       "      <td>1</td>\n",
       "      <td>4</td>\n",
       "      <td>4</td>\n",
       "      <td>3</td>\n",
       "      <td>6</td>\n",
       "      <td>2</td>\n",
       "      <td>2</td>\n",
       "      <td>4</td>\n",
       "      <td>6</td>\n",
       "      <td>1.0</td>\n",
       "    </tr>\n",
       "    <tr>\n",
       "      <th>40</th>\n",
       "      <td>54</td>\n",
       "      <td>6</td>\n",
       "      <td>0</td>\n",
       "      <td>6</td>\n",
       "      <td>0</td>\n",
       "      <td>5</td>\n",
       "      <td>4</td>\n",
       "      <td>3</td>\n",
       "      <td>0</td>\n",
       "      <td>0</td>\n",
       "      <td>0</td>\n",
       "      <td>0</td>\n",
       "      <td>0</td>\n",
       "      <td>0</td>\n",
       "      <td>1.0</td>\n",
       "    </tr>\n",
       "  </tbody>\n",
       "</table>\n",
       "</div>"
      ],
      "text/plain": [
       "    CATEGORY ID  1  2  3  4  5  6  7  8  9  10  11  12  13  N_max\n",
       "46            1  5  4  2  5  2  5  2  2  2   2   2   2   2    1.0\n",
       "0             2  1  0  2  3  0  3  3  5  2   6   4   2   2    1.0\n",
       "3             7  6  5  3  4  4  3  2  2  2   4   2   2   2    1.0\n",
       "6            12  4  3  6  3  4  4  5  3  1   3   2   2   1    1.0\n",
       "17           31  5  2  4  5  5  5  2  2  0   5   0   2   0    1.0\n",
       "25           39  6  4  6  6  6  4  1  3  0   4   0   0   0    1.0\n",
       "28           42  2  2  2  2  1  4  4  3  6   2   2   4   6    1.0\n",
       "40           54  6  0  6  0  5  4  3  0  0   0   0   0   0    1.0"
      ]
     },
     "execution_count": 75,
     "metadata": {},
     "output_type": "execute_result"
    }
   ],
   "source": [
    "panel_score\n",
    "#gene_matrix_indexes[-5]"
   ]
  },
  {
   "cell_type": "code",
   "execution_count": 106,
   "metadata": {
    "id": "oiNmb_YjVfec"
   },
   "outputs": [],
   "source": [
    "# Save proposal assignments and reviewer assignemnts to CSV files\n",
    "pd.DataFrame(np.column_stack((df_cat['PSS ID'], gene_matrix_indexes.astype(int)))).to_csv('Orphan_assignment.csv')\n",
    "pd.DataFrame(np.column_stack((og_pan_idx, reviewer_assignment))).to_csv('Panel_assignment.csv')"
   ]
  },
  {
   "cell_type": "code",
   "execution_count": 105,
   "metadata": {
    "colab": {
     "base_uri": "https://localhost:8080/",
     "height": 1000
    },
    "id": "Jwj2uqoeVfec",
    "outputId": "1741e2ef-b77e-4b83-c439-1062b340cc80"
   },
   "outputs": [
    {
     "name": "stdout",
     "output_type": "stream",
     "text": [
      "Fernando's matrix zeros:  0\n",
      "Fernando's Extended zeros:  17\n",
      "Fernando's matrix: mean, median, minimum sum: 5.0 4.734375 2\n",
      "[[5 'MKT-22005']\n",
      " [6 'MKT-22006']\n",
      " [4 'MKT-22008']\n",
      " [5 'MKT-22013']\n",
      " [2 'MKT-22015']\n",
      " [6 'MKT-22017']\n",
      " [6 'MKT-22018']\n",
      " [4 'MKT-22023']\n",
      " [5 'MKT-22027']\n",
      " [5 'MKT-22029']\n",
      " [5 'MKT-22032']\n",
      " [6 'MKT-22033']\n",
      " [5 'MKT-22034']\n",
      " [6 'MKT-22037']\n",
      " [4 'MKT-22038']\n",
      " [4 'MKT-22039']\n",
      " [5 'MKT-22044']\n",
      " [5 'MKT-22045']\n",
      " [3 'MKT-22046']\n",
      " [5 'MKT-22048']\n",
      " [6 'MKT-22049']\n",
      " [5 'MKT-22050']\n",
      " [6 'MKT-22054']\n",
      " [4 'MKT-22059']\n",
      " [2 'MKT-22064']\n",
      " [5 'MKT-22065']\n",
      " [5 'MKT-22069']\n",
      " [6 'MKT-22072']\n",
      " [5 'MKT-22075']\n",
      " [6 'MKT-22077']\n",
      " [5 'MKT-22079']\n",
      " [3 'MKT-22086']\n",
      " [5 'MKT-22089']\n",
      " [5 'MKT-22090']\n",
      " [6 'MKT-22094']\n",
      " [6 'MKT-22096']\n",
      " [3 'MKT-22098']\n",
      " [4 'MKT-22101']\n",
      " [6 'MKT-22102']\n",
      " [6 'MKT-22104']\n",
      " [2 'MKT-22107']\n",
      " [2 'MKT-22108']\n",
      " [4 'MKT-22110']\n",
      " [2 'MKT-22111']\n",
      " [3 'MKT-22116']\n",
      " [6 'MKT-22118']\n",
      " [6 'MKT-22119']\n",
      " [2 'MKT-22122']\n",
      " [6 'MKT-22129']\n",
      " [6 'MKT-22130']\n",
      " [5 'MKT-22131']\n",
      " [6 'MKT-22133']\n",
      " [4 'MKT-22134']\n",
      " [6 'MKT-22135']\n",
      " [4 'MKT-22137']\n",
      " [5 'MKT-22138']\n",
      " [5 'MKT-22139']\n",
      " [6 'MKT-22144']\n",
      " [5 'MKT-22145']\n",
      " [5 'MKT-22146']\n",
      " [6 'MKT-22149']\n",
      " [3 'MKT-22150']\n",
      " [3 'MKT-22153']\n",
      " [6 'MKT-22159']]\n"
     ]
    },
    {
     "data": {
      "image/png": "[encoded data removed]",
      "text/plain": [
       "<Figure size 648x432 with 1 Axes>"
      ]
     },
     "metadata": {
      "needs_background": "light"
     },
     "output_type": "display_data"
    }
   ],
   "source": [
    "# -----------\n",
    "# Fernando's Matrix \n",
    "# -----------\n",
    "\n",
    "# max reviewer score matrix ('Fernando's Matrix')\n",
    "rev_max_arr = np.zeros((n_p, 1))\n",
    "hi_cont_arr = np.zeros((n_p, 1))\n",
    "# all reviewer score list ('Extended Fernando's List')\n",
    "all_assigned_affinities = []\n",
    "all_hicont_scores = []\n",
    "\n",
    "\n",
    "for cell_idx, topic_set in enumerate(df_cat['CATEGORY LIST']):#iterate over proposals\n",
    "    rev_a = np.zeros(1)\n",
    "    hi_a = np.zeros(1)\n",
    "    for topic in topic_set: #iterate over topic proposals\n",
    "        if (topic <= 13):\n",
    "            for rev_idx, rev in enumerate(gene_matrix[cell_idx]):#iterate over reviewers\n",
    "                rev_a[rev_idx] = np.maximum(rev_a[rev_idx], rev_scores[topic-1][rev])\n",
    "                all_assigned_affinities.append(rev_scores[topic-1][rev])\n",
    "                #print(cell_idx, topic, rev_idx, rev, rev_scores[topic-1][rev])\n",
    "        else:\n",
    "            for rev_idx, rev in enumerate(gene_matrix[cell_idx]):#iterate over reviewers\n",
    "                hi_a[rev_idx] = np.maximum(hi_a[rev_idx], rev_scores[topic-1][rev])\n",
    "                all_hicont_scores.append(rev_scores[topic-1][rev])\n",
    "        \n",
    "    #print(rev_a.astype(int))#, hi_a.astype(int))\n",
    "    rev_max_arr[cell_idx] = rev_a\n",
    "    hi_cont_arr[cell_idx] = hi_a\n",
    "    \n",
    "print('Fernando\\'s matrix zeros: ', rev_max_arr.flatten().shape[0] - np.count_nonzero(rev_max_arr))\n",
    "print('Fernando\\'s Extended zeros: ', len(all_assigned_affinities) - np.count_nonzero(np.array(all_assigned_affinities)))\n",
    "\n",
    "fig, ax = plt.subplots()\n",
    "ax.hist(all_assigned_affinities, bins=int(np.max(all_assigned_affinities)-np.min(all_assigned_affinities)),histtype='stepfilled', linewidth=5,  label='all category matches', color='k')\n",
    "ax.hist(rev_max_arr.astype(int).flatten(), bins=np.max(rev_max_arr.astype(int).flatten())-np.min(rev_max_arr.astype(int).flatten()), histtype='step',linewidth=5, label='best category match',color='w')#.sum(axis=0)\n",
    "fig.legend()\n",
    "\n",
    "#print('Extended: mean, median:', np.mean(all_assigned_affinities), np.median(all_assigned_affinities))\n",
    "#print(np.sum(all_assigned_affinities), len(all_assigned_affinities), np.sum(all_assigned_affinities)/len(all_assigned_affinities))\n",
    "\n",
    "rev_max_arr = rev_max_arr.astype(int)\n",
    "print('Fernando\\'s matrix: mean, median, minimum sum:', np.median(rev_max_arr), np.mean(rev_max_arr), np.min(rev_max_arr.sum(axis=1)))\n",
    "#print('argmin: ', np.argmin(rev_max_arr.sum(axis=1)), ',sum: ', rev_max_arr.sum(axis=1))\n",
    "#print(rev_max_arr.sum(axis=0))\n",
    "print(np.column_stack((rev_max_arr, df_cat['PSS ID'])))\n",
    "\n",
    "\n",
    "plt.savefig('Fernandos_hist.png')\n",
    "plt.show()\n",
    "\n",
    "\n"
   ]
  },
  {
   "cell_type": "code",
   "execution_count": 107,
   "metadata": {
    "colab": {
     "base_uri": "https://localhost:8080/",
     "height": 392
    },
    "id": "dSotqBR_Vfec",
    "outputId": "f72c7b33-ee98-4534-c722-0939460e3e82"
   },
   "outputs": [
    {
     "data": {
      "image/png": "[encoded data removed]",
      "text/plain": [
       "<Figure size 648x432 with 1 Axes>"
      ]
     },
     "metadata": {
      "needs_background": "light"
     },
     "output_type": "display_data"
    },
    {
     "name": "stdout",
     "output_type": "stream",
     "text": [
      "median, mean: 5.0 4.734375\n"
     ]
    },
    {
     "data": {
      "text/plain": [
       "array([[5, 'MKT-22005'],\n",
       "       [6, 'MKT-22006'],\n",
       "       [4, 'MKT-22008'],\n",
       "       [5, 'MKT-22013'],\n",
       "       [2, 'MKT-22015'],\n",
       "       [6, 'MKT-22017'],\n",
       "       [6, 'MKT-22018'],\n",
       "       [4, 'MKT-22023'],\n",
       "       [5, 'MKT-22027'],\n",
       "       [5, 'MKT-22029'],\n",
       "       [5, 'MKT-22032'],\n",
       "       [6, 'MKT-22033'],\n",
       "       [5, 'MKT-22034'],\n",
       "       [6, 'MKT-22037'],\n",
       "       [4, 'MKT-22038'],\n",
       "       [4, 'MKT-22039'],\n",
       "       [5, 'MKT-22044'],\n",
       "       [5, 'MKT-22045'],\n",
       "       [3, 'MKT-22046'],\n",
       "       [5, 'MKT-22048'],\n",
       "       [6, 'MKT-22049'],\n",
       "       [5, 'MKT-22050'],\n",
       "       [6, 'MKT-22054'],\n",
       "       [4, 'MKT-22059'],\n",
       "       [2, 'MKT-22064'],\n",
       "       [5, 'MKT-22065'],\n",
       "       [5, 'MKT-22069'],\n",
       "       [6, 'MKT-22072'],\n",
       "       [5, 'MKT-22075'],\n",
       "       [6, 'MKT-22077'],\n",
       "       [5, 'MKT-22079'],\n",
       "       [3, 'MKT-22086'],\n",
       "       [5, 'MKT-22089'],\n",
       "       [5, 'MKT-22090'],\n",
       "       [6, 'MKT-22094'],\n",
       "       [6, 'MKT-22096'],\n",
       "       [3, 'MKT-22098'],\n",
       "       [4, 'MKT-22101'],\n",
       "       [6, 'MKT-22102'],\n",
       "       [6, 'MKT-22104'],\n",
       "       [2, 'MKT-22107'],\n",
       "       [2, 'MKT-22108'],\n",
       "       [4, 'MKT-22110'],\n",
       "       [2, 'MKT-22111'],\n",
       "       [3, 'MKT-22116'],\n",
       "       [6, 'MKT-22118'],\n",
       "       [6, 'MKT-22119'],\n",
       "       [2, 'MKT-22122'],\n",
       "       [6, 'MKT-22129'],\n",
       "       [6, 'MKT-22130'],\n",
       "       [5, 'MKT-22131'],\n",
       "       [6, 'MKT-22133'],\n",
       "       [4, 'MKT-22134'],\n",
       "       [6, 'MKT-22135'],\n",
       "       [4, 'MKT-22137'],\n",
       "       [5, 'MKT-22138'],\n",
       "       [5, 'MKT-22139'],\n",
       "       [6, 'MKT-22144'],\n",
       "       [5, 'MKT-22145'],\n",
       "       [5, 'MKT-22146'],\n",
       "       [6, 'MKT-22149'],\n",
       "       [3, 'MKT-22150'],\n",
       "       [3, 'MKT-22153'],\n",
       "       [6, 'MKT-22159']], dtype=object)"
      ]
     },
     "execution_count": 107,
     "metadata": {},
     "output_type": "execute_result"
    }
   ],
   "source": [
    "plt.hist(rev_max_arr.sum(axis=1), histtype='step', bins=range(np.min(rev_max_arr.sum(axis=1)),2+np.max(rev_max_arr.sum(axis=1))), linewidth=4,color='k',label='overall reviewer expertise per proposal')\n",
    "#bins=1+np.max(rev_max_arr.sum(axis=1))-np.min(rev_max_arr.sum(axis=1))\n",
    "plt.legend()\n",
    "plt.savefig('total_reviewer_expertise_per_proposal_hist.png')\n",
    "plt.show()\n",
    "print('median, mean:', np.median(rev_max_arr.sum(axis=1)),np.mean(rev_max_arr.sum(axis=1)))\n",
    "np.column_stack((rev_max_arr.sum(axis=1),df_cat['PSS ID']))\n",
    "#rev_max_arr.sum(axis=1)\n",
    "\n",
    "#range(14,25)"
   ]
  },
  {
   "cell_type": "code",
   "execution_count": 108,
   "metadata": {
    "colab": {
     "base_uri": "https://localhost:8080/",
     "height": 392
    },
    "id": "Qhof_V03Vfed",
    "outputId": "659b9e1c-d648-4be7-cfa0-8ebe023484a5"
   },
   "outputs": [
    {
     "name": "stdout",
     "output_type": "stream",
     "text": [
      "64\n"
     ]
    },
    {
     "data": {
      "text/plain": [
       "1"
      ]
     },
     "execution_count": 108,
     "metadata": {},
     "output_type": "execute_result"
    },
    {
     "data": {
      "image/png": "[encoded data removed]",
      "text/plain": [
       "<Figure size 648x432 with 1 Axes>"
      ]
     },
     "metadata": {
      "needs_background": "light"
     },
     "output_type": "display_data"
    }
   ],
   "source": [
    "#column sums of the assignment: number of reviews per reviewer\n",
    "col_sum=[]\n",
    "print(np.count_nonzero(assignment))\n",
    "for el in assignment:\n",
    "    col_sum.append(np.count_nonzero(el))#print(np.count_nonzero(el))\n",
    "\n",
    "#print(np.column_stack((og_rev_idx,col_sum)))\n",
    "\n",
    "plt.hist(col_sum, histtype='step', bins=range(np.min(col_sum), 2+np.max(col_sum)),linewidth=4, color='k',label='number of reviewers with this many allocations')\n",
    "#bins=np.max(col_sum) - np.min(col_sum)\n",
    "plt.legend()\n",
    "plt.savefig('reviewers_hist.png')\n",
    "\n",
    "np.max(col_sum) - np.min(col_sum)+1"
   ]
  },
  {
   "cell_type": "code",
   "execution_count": 109,
   "metadata": {
    "colab": {
     "base_uri": "https://localhost:8080/"
    },
    "id": "RyVgEe-qVfed",
    "outputId": "1f48f987-38ce-4202-a25e-1d2184e9457d"
   },
   "outputs": [
    {
     "name": "stdout",
     "output_type": "stream",
     "text": [
      "final conflicts: 0\n"
     ]
    }
   ],
   "source": [
    "# check for conflicts of interest in final assignment\n",
    "\n",
    "icm = np.where(conflict_mask == 1, 0, 1)\n",
    "#zeroes_mask = np.where(np.array(df_rev_score.transpose()) > 0., 1, 0)[1:-1]\n",
    "final_conflicts = assignment * icm\n",
    "print('final conflicts:', np.count_nonzero(final_conflicts))\n",
    "#icm[6], conflict_mask[6]"
   ]
  },
  {
   "cell_type": "code",
   "execution_count": null,
   "metadata": {
    "id": "Cp1W8todVfed"
   },
   "outputs": [],
   "source": [
    "# check no assignments outside observation category\n",
    "\n"
   ]
  },
  {
   "cell_type": "code",
   "execution_count": 111,
   "metadata": {
    "colab": {
     "base_uri": "https://localhost:8080/",
     "height": 463
    },
    "id": "w0w4yiClVfee",
    "outputId": "3b66a89c-22d9-4847-ea79-468311ccc068"
   },
   "outputs": [
    {
     "name": "stdout",
     "output_type": "stream",
     "text": [
      "Fernando's (random) matrix zeros:  19\n",
      "Fernando's (random) Extended zeros:  74\n",
      "Random Extended: mean, median 3.1549586776859506 3.0\n",
      "1527.0 484 3.1549586776859506\n",
      "Random: mean, median 4.0 3.89453125 4.0 237 410\n"
     ]
    },
    {
     "data": {
      "image/png": "[encoded data removed]",
      "text/plain": [
       "<Figure size 648x432 with 1 Axes>"
      ]
     },
     "metadata": {
      "needs_background": "light"
     },
     "output_type": "display_data"
    }
   ],
   "source": [
    "# VERIFICATION:\n",
    "# Essentially this answers the question of what would be the base case? \n",
    "# What distribution of scores would a random assignment yield?\n",
    "\n",
    "# -----------\n",
    "# RANDOM Fernando's Matrix (reviewer score distribution)\n",
    "# -----------\n",
    "\n",
    "# random gene_matrix\n",
    "r_gene_matrix = np.random.randint(0, n_r, size=(n_p,4))\n",
    "r_gene_matrix+1\n",
    "\n",
    "# max reviewer score matrix ('Fernando's Matrix')\n",
    "rev_max_arr = np.zeros((n_p, 4))\n",
    "# all reviewer score list ('Extended Fernando's List')\n",
    "all_assigned_affinities = []\n",
    "\n",
    "\n",
    "for cell_idx, topic_set in enumerate(df_cat['CATEGORY LIST']):#iterate over proposals\n",
    "    rev_a = np.zeros(4)\n",
    "    for topic in topic_set: #iterate over topic proposals\n",
    "        #if ((topic != 14) and (topic != 15)):\n",
    "        if (topic <= 13):\n",
    "            for rev_idx, rev in enumerate(r_gene_matrix[cell_idx]):#iterate over reviewers\n",
    "                rev_a[rev_idx] = np.maximum(rev_a[rev_idx], rev_scores[topic-1][rev])\n",
    "                all_assigned_affinities.append(rev_scores[topic-1][rev])\n",
    "                #print(cell_idx, topic, rev_idx, rev, rev_scores[topic-1][rev])\n",
    "                \n",
    "    #print(rev_a)\n",
    "    rev_max_arr[cell_idx] = rev_a\n",
    "    \n",
    "print('Fernando\\'s (random) matrix zeros: ', rev_max_arr.flatten().shape[0] - np.count_nonzero(rev_max_arr))\n",
    "print('Fernando\\'s (random) Extended zeros: ', len(all_assigned_affinities) - np.count_nonzero(np.array(all_assigned_affinities)))\n",
    "\n",
    "plt.hist(all_assigned_affinities, histtype='step', linewidth=3, bins=1000)\n",
    "\n",
    "print('Random Extended: mean, median', np.mean(all_assigned_affinities), np.median(all_assigned_affinities))\n",
    "print(np.sum(all_assigned_affinities), len(all_assigned_affinities), np.sum(all_assigned_affinities)/len(all_assigned_affinities))\n",
    "\n",
    "np.mean(rev_max_arr.sum(axis=1))\n",
    "\n",
    "plt.hist(rev_max_arr.astype(int).flatten(), histtype='step', linewidth=3, bins=1000)#.sum(axis=0)\n",
    "print('Random: mean, median',np.median(rev_max_arr), np.mean(rev_max_arr), np.min(rev_max_arr.sum(axis=1)), np.count_nonzero(rev_max_arr.astype(int).flatten()), np.count_nonzero(all_assigned_affinities))\n",
    "\n",
    "plt.savefig('random_hist.png')"
   ]
  },
  {
   "cell_type": "code",
   "execution_count": null,
   "metadata": {
    "id": "oOvwScR_Vfee"
   },
   "outputs": [],
   "source": []
  }
 ],
 "metadata": {
  "colab": {
   "name": "MKP_RAP_8_0.ipynb",
   "provenance": []
  },
  "kernelspec": {
   "display_name": "Python 3 (ipykernel)",
   "language": "python",
   "name": "python3"
  },
  "language_info": {
   "codemirror_mode": {
    "name": "ipython",
    "version": 3
   },
   "file_extension": ".py",
   "mimetype": "text/x-python",
   "name": "python",
   "nbconvert_exporter": "python",
   "pygments_lexer": "ipython3",
   "version": "3.9.6"
  }
 },
 "nbformat": 4,
 "nbformat_minor": 1
}
